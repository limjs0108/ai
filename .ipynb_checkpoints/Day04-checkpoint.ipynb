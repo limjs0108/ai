{
 "cells": [
  {
   "cell_type": "code",
   "execution_count": 1,
   "id": "34b0b4e3",
   "metadata": {},
   "outputs": [
    {
     "name": "stdout",
     "output_type": "stream",
     "text": [
      "Hello Python Programming~~~\n",
      "52\n"
     ]
    }
   ],
   "source": [
    "# print()\n",
    "\n",
    "print('Hello Python Programming~~~')\n",
    "print('52')"
   ]
  },
  {
   "cell_type": "code",
   "execution_count": 2,
   "id": "a69fab28",
   "metadata": {},
   "outputs": [
    {
     "name": "stdout",
     "output_type": "stream",
     "text": [
      "52 11 world\n"
     ]
    }
   ],
   "source": [
    "print(52,11,'world')"
   ]
  },
  {
   "cell_type": "code",
   "execution_count": 3,
   "id": "fa357a9c",
   "metadata": {},
   "outputs": [
    {
     "name": "stdout",
     "output_type": "stream",
     "text": [
      "Hello World\n",
      "\n",
      "1 2 3 4 5\n"
     ]
    }
   ],
   "source": [
    "print('Hello World')\n",
    "print()\n",
    "print(1,2,3,4,5)"
   ]
  },
  {
   "cell_type": "code",
   "execution_count": 4,
   "id": "832c4c12",
   "metadata": {},
   "outputs": [
    {
     "name": "stdout",
     "output_type": "stream",
     "text": [
      "한글 사용\n"
     ]
    }
   ],
   "source": [
    "# 주석은 컴퓨터는 읽지 않는다.\n",
    "print('한글 사용') # 주석 은 코드에 대한 설명을 표현한다."
   ]
  },
  {
   "cell_type": "code",
   "execution_count": 5,
   "id": "89182455",
   "metadata": {},
   "outputs": [
    {
     "name": "stdout",
     "output_type": "stream",
     "text": [
      "<class 'str'>\n",
      "<class 'str'>\n",
      "<class 'int'>\n",
      "\"안녕\"이라고 했다\n",
      "'안녕'이라고 했다\n",
      "\"안녕\"이라고 했다\n"
     ]
    }
   ],
   "source": [
    "# 기본 자료형\n",
    "# 문자열 string    '안녕','hello'\n",
    "# 숫자 int         1,2,3,4,5\n",
    "# 논리             boolean True, False\n",
    "\n",
    "print(type('안녕'))\n",
    "print(type(\"안녕\"))\n",
    "print(type(123))\n",
    "print('\"안녕\"이라고 했다')\n",
    "print(\"'안녕'이라고 했다\")\n",
    "print(\"\\\"안녕\\\"이라고 했다\") #이스케이프 문자 escape character"
   ]
  },
  {
   "cell_type": "code",
   "execution_count": 6,
   "id": "1ec60b7e",
   "metadata": {},
   "outputs": [
    {
     "name": "stdout",
     "output_type": "stream",
     "text": [
      "이름\t나이\t지역\n",
      "김이현아\t20\t강남구\n",
      "오철수\t25\t서초구\n"
     ]
    }
   ],
   "source": [
    "print('이름\\t나이\\t지역')\n",
    "print('김이현아\\t20\\t강남구')\n",
    "print('오철수\\t25\\t서초구')"
   ]
  },
  {
   "cell_type": "code",
   "execution_count": 7,
   "id": "2ecd0198",
   "metadata": {},
   "outputs": [
    {
     "name": "stdout",
     "output_type": "stream",
     "text": [
      "Hello\n",
      "World\n"
     ]
    }
   ],
   "source": [
    "print('Hello\\nWorld')"
   ]
  },
  {
   "cell_type": "code",
   "execution_count": 8,
   "id": "99abd0ac",
   "metadata": {},
   "outputs": [
    {
     "name": "stdout",
     "output_type": "stream",
     "text": [
      "안녕하세요\n"
     ]
    }
   ],
   "source": [
    "print('안녕'+'하세요')"
   ]
  },
  {
   "cell_type": "code",
   "execution_count": 9,
   "id": "1d6a023b",
   "metadata": {},
   "outputs": [
    {
     "name": "stdout",
     "output_type": "stream",
     "text": [
      "안녕 하세요\n"
     ]
    }
   ],
   "source": [
    "print('안녕','하세요')"
   ]
  },
  {
   "cell_type": "code",
   "execution_count": 10,
   "id": "2c9d8642",
   "metadata": {},
   "outputs": [
    {
     "name": "stdout",
     "output_type": "stream",
     "text": [
      "------------------------------\n"
     ]
    }
   ],
   "source": [
    "print('-' * 30)"
   ]
  },
  {
   "cell_type": "code",
   "execution_count": 11,
   "id": "4d638d9e",
   "metadata": {},
   "outputs": [
    {
     "name": "stdout",
     "output_type": "stream",
     "text": [
      "안녕하세요\n"
     ]
    }
   ],
   "source": [
    "# 문자열의 길이 구하기\n",
    "\n",
    "print(len('안녕하세요'))"
   ]
  },
  {
   "cell_type": "code",
   "execution_count": 12,
   "id": "345564f6",
   "metadata": {
    "scrolled": true
   },
   "outputs": [
    {
     "name": "stdout",
     "output_type": "stream",
     "text": [
      "True\n"
     ]
    }
   ],
   "source": [
    "# 조건문\n",
    "\n",
    "# bool & if\n",
    "\n",
    "print(True)"
   ]
  },
  {
   "cell_type": "code",
   "execution_count": 16,
   "id": "213e49b5",
   "metadata": {},
   "outputs": [
    {
     "name": "stdout",
     "output_type": "stream",
     "text": [
      "False\n",
      "True\n",
      "True\n",
      "False\n"
     ]
    }
   ],
   "source": [
    "print(10 == 100)\n",
    "print(10 != 100)\n",
    "print(10 < 100)\n",
    "print(10 > 100)\n",
    "print(10 >= 100)"
   ]
  },
  {
   "cell_type": "code",
   "execution_count": null,
   "id": "ebab9d0f",
   "metadata": {},
   "outputs": [],
   "source": [
    "print('가방' == '가방')\n",
    "print('가방' == '백')\n",
    "print('가방' != '백')\n",
    "print('가방' > '백') # 한글은 사전 순서로 크기 비교(가나다순 )\n",
    "print('가방' < '백')"
   ]
  },
  {
   "cell_type": "code",
   "execution_count": 19,
   "id": "f8e1307e",
   "metadata": {},
   "outputs": [
    {
     "name": "stdout",
     "output_type": "stream",
     "text": [
      "정수를 입력 하세요 >> -1\n",
      "음수입니다.\n"
     ]
    }
   ],
   "source": [
    "# if 조건문....\n",
    "# 조건에 따라 특정 코드를 실행하거나 특정 코드를 실행하지 않게 만들고 싶을때 사용\n",
    "# 코드의 실행 흐름을 변경시키는 것을 조건 분기 라고 부른다.\n",
    "\n",
    "num = int(input('정수를 입력 하세요 >> '))\n",
    "\n",
    "if num > 0:\n",
    "    print('양수입니다.')\n",
    "if num < 0:\n",
    "    print('음수입니다.')\n",
    "if num == 0:\n",
    "    print('0입니다.')"
   ]
  },
  {
   "cell_type": "code",
   "execution_count": 23,
   "id": "bad7c7f0",
   "metadata": {},
   "outputs": [
    {
     "name": "stdout",
     "output_type": "stream",
     "text": [
      "2022-01-28 14:33:05.794868\n",
      "2022 년\n",
      "1 월\n",
      "28 일\n",
      "14 시\n",
      "33 분\n",
      "5 초\n"
     ]
    }
   ],
   "source": [
    "# 날짜/시간과 관련된 기능을 가져온다.\n",
    "\n",
    "import datetime\n",
    "\n",
    "# 현재의 날짜와 시간을 구하는 함수\n",
    "now = datetime.datetime.now()\n",
    "print(now)\n",
    "print(now.year,'년')\n",
    "print(now.month,'월')\n",
    "print(now.day,'일')\n",
    "print(now.hour,'시')\n",
    "print(now.minute,'분')\n",
    "print(now.second,'초')"
   ]
  },
  {
   "cell_type": "code",
   "execution_count": 25,
   "id": "419fe568",
   "metadata": {},
   "outputs": [
    {
     "name": "stdout",
     "output_type": "stream",
     "text": [
      "현재 시각은 14시 35분 오후입니다.\n"
     ]
    }
   ],
   "source": [
    "import datetime\n",
    "\n",
    "now = datetime.datetime.now()\n",
    "\n",
    "if now.hour > 12:\n",
    "    print(f'현재 시각은 {now.hour}시 {now.minute}분 오후입니다.')\n",
    "else:\n",
    "    print(f'현재 시각은 {now.hour}시 {now.minute}분 오전입니다.')"
   ]
  },
  {
   "cell_type": "code",
   "execution_count": 29,
   "id": "294e03f5",
   "metadata": {},
   "outputs": [
    {
     "name": "stdout",
     "output_type": "stream",
     "text": [
      "이번 달은 1월로 겨울입니다.\n"
     ]
    }
   ],
   "source": [
    "import datetime\n",
    "\n",
    "now = datetime.datetime.now()\n",
    "\n",
    "\n",
    "if 3 <= now.month <= 5 :\n",
    "    season = '봄'\n",
    "if 6 <= now.month <= 8:\n",
    "    sesason = \"여름\"\n",
    "if 9 <= now.month <= 11:\n",
    "    season = '가을'\n",
    "if now.month == 12 or 1 <= now.month <= 2:\n",
    "    season = '겨울'\n",
    "    \n",
    "print(f'이번 달은 {now.month}월로 {season}입니다.')"
   ]
  },
  {
   "cell_type": "code",
   "execution_count": 33,
   "id": "f4e7beca",
   "metadata": {},
   "outputs": [
    {
     "name": "stdout",
     "output_type": "stream",
     "text": [
      "정수를 입력하세요 >>> 4\n",
      "짝수입니다.\n"
     ]
    }
   ],
   "source": [
    "num = input('정수를 입력하세요 >>> ')\n",
    "\n",
    "if num[-1] in '02468':\n",
    "    print('짝수입니다.')\n",
    "else:\n",
    "    print('홀수입니다.')"
   ]
  },
  {
   "cell_type": "code",
   "execution_count": 34,
   "id": "e3ede3f6",
   "metadata": {},
   "outputs": [
    {
     "name": "stdout",
     "output_type": "stream",
     "text": [
      "정수 입력 : 5\n"
     ]
    }
   ],
   "source": [
    "# pass\n",
    "\n",
    "number = int(input('정수 입력 : '))\n",
    "if number > 0:\n",
    "    pass\n",
    "else:\n",
    "    pass"
   ]
  },
  {
   "cell_type": "code",
   "execution_count": 36,
   "id": "06e02009",
   "metadata": {},
   "outputs": [
    {
     "name": "stdout",
     "output_type": "stream",
     "text": [
      "1\n",
      "2\n",
      "3\n",
      "4\n",
      "5\n"
     ]
    }
   ],
   "source": [
    "# 리스트와 반복문\n",
    "\n",
    "li =[1,2,3,4,5] # 여러개의 데이터를 저장하여 사용한다. mutable, ordered\n",
    "\n",
    "for i in li:\n",
    "    if i >= 3:\n",
    "        print(i)"
   ]
  },
  {
   "cell_type": "code",
   "execution_count": 40,
   "id": "9f5465b5",
   "metadata": {},
   "outputs": [
    {
     "name": "stdout",
     "output_type": "stream",
     "text": [
      "1 홍길동\n",
      "2 이몽룡\n"
     ]
    }
   ],
   "source": [
    "# 딕셔너리와 반복문\n",
    "\n",
    "dict = {\n",
    "    1:'홍길동',\n",
    "    2:'이몽룡'\n",
    "}\n",
    "\n",
    "for i in dict:\n",
    "    print(i, dict[i])"
   ]
  },
  {
   "cell_type": "code",
   "execution_count": 42,
   "id": "e9f55f4a",
   "metadata": {},
   "outputs": [
    {
     "data": {
      "text/plain": [
       "[0, 2, 4]"
      ]
     },
     "execution_count": 42,
     "metadata": {},
     "output_type": "execute_result"
    }
   ],
   "source": [
    "list(range(0,5,2)) # 시작을 생략하면 0부터, 증감값을 생략하면 1씩 증가"
   ]
  },
  {
   "cell_type": "code",
   "execution_count": 46,
   "id": "a98e35a1",
   "metadata": {},
   "outputs": [
    {
     "name": "stdout",
     "output_type": "stream",
     "text": [
      "0번째 반복\n",
      "1번째 반복\n",
      "2번째 반복\n",
      "0번째 반복\n",
      "1번째 반복\n",
      "2번째 반복\n"
     ]
    }
   ],
   "source": [
    "# for : 반복횟수를 정확히 알고 있을 때 주로 사용\n",
    "# while : 반복횟수를 정확히 알 수 없을 때 주로 사용\n",
    "\n",
    "# while 1, for 1\n",
    "# 0번째 반복\n",
    "# 1번째 반복\n",
    "# 2번째 반복\n",
    "\n",
    "for i in range(0,3):\n",
    "    print(f'{i}번째 반복')\n",
    "\n",
    "n = 0\n",
    "while n < 3:\n",
    "    print(f'{n}번째 반복')\n",
    "    n += 1"
   ]
  },
  {
   "cell_type": "code",
   "execution_count": 50,
   "id": "22e8c82d",
   "metadata": {},
   "outputs": [
    {
     "name": "stdout",
     "output_type": "stream",
     "text": [
      "0번째 반복입니다.\n",
      "종료할까요(y) >> 1\n",
      "1번째 반복입니다.\n",
      "종료할까요(y) >> 2\n",
      "2번째 반복입니다.\n",
      "종료할까요(y) >> y\n",
      "반복을 종료합니다.\n"
     ]
    }
   ],
   "source": [
    "# break / continue\n",
    "\n",
    "# break 반목문을 종료\n",
    "\n",
    "i = 0\n",
    "while True:\n",
    "    print(f'{i}번째 반복입니다.')\n",
    "    i += 1\n",
    "    \n",
    "    inp = input('종료할까요(y) >> ')\n",
    "    if inp in ['Y','y']:\n",
    "        print('반복을 종료합니다.')\n",
    "        break"
   ]
  },
  {
   "cell_type": "code",
   "execution_count": 51,
   "id": "9e2139bc",
   "metadata": {},
   "outputs": [
    {
     "name": "stdout",
     "output_type": "stream",
     "text": [
      "1\n",
      "3\n",
      "5\n",
      "7\n",
      "9\n"
     ]
    }
   ],
   "source": [
    "# continue 현재 반복을 중지하고 다음 반복으로 넘어 갈 때 사용\n",
    "# 전체 반복에서 부분을 빼고 실행할 때 사용\n",
    "\n",
    "for num in range(1,11):\n",
    "    if num % 2 == 0:\n",
    "        continue    \n",
    "    print(num)"
   ]
  },
  {
   "cell_type": "code",
   "execution_count": 58,
   "id": "a46bf8e3",
   "metadata": {},
   "outputs": [
    {
     "name": "stdout",
     "output_type": "stream",
     "text": [
      "1번 진구\n",
      "2번 철수\n",
      "3번 미애\n",
      "4번 형구\n",
      "5번 진수\n"
     ]
    }
   ],
   "source": [
    "# enumerate() 리스트의 요소를 반복할 때 현재 인덱스가 몇번째 인지 확인\n",
    "\n",
    "student = ['진구', '철수', '미애', '형구', '진수']\n",
    "\n",
    "# 0번 진구\n",
    "# 1번 철수\n",
    "# 2번 미애\n",
    "# 3번 형구\n",
    "# 4번 진수\n",
    "\n",
    "# for i in range(len(student)):\n",
    "#     print(f'{i}번 {student[i]}')\n",
    "    \n",
    "for no, name in enumerate(student):\n",
    "    print(f'{no+1}번 {name}')"
   ]
  },
  {
   "cell_type": "code",
   "execution_count": 61,
   "id": "0b981593",
   "metadata": {},
   "outputs": [
    {
     "name": "stdout",
     "output_type": "stream",
     "text": [
      "홍길동의 키는 185입니다.\n",
      "이몽룡의 키는 189입니다.\n",
      "성춘향의 키는 168입니다.\n"
     ]
    }
   ],
   "source": [
    "# items() 딕셔너리는 items()함수를 사용하여 key와 value 값을 한번에 추출할 수 있다.\n",
    "\n",
    "dict = {\n",
    "    '홍길동' : 185,\n",
    "    '이몽룡' : 189,\n",
    "    '성춘향' : 168\n",
    "}\n",
    "\n",
    "# for i in dict:\n",
    "#     print(f'{i}의 키는 {dict[i]}입니다.')\n",
    "\n",
    "for n, h in dict.items():\n",
    "    print(f'{n}의 키는 {h}입니다.')\n",
    "\n"
   ]
  },
  {
   "cell_type": "code",
   "execution_count": 62,
   "id": "95ec02f9",
   "metadata": {},
   "outputs": [
    {
     "data": {
      "text/plain": [
       "[0, 2, 4, 6, 8, 10, 12, 14, 16, 18]"
      ]
     },
     "execution_count": 62,
     "metadata": {},
     "output_type": "execute_result"
    }
   ],
   "source": [
    "# 리스트 내포 list comprehensions \n",
    "\n",
    "array = []\n",
    "\n",
    "for i in range(0,20,2):\n",
    "    array.append(i)\n",
    "    \n",
    "array"
   ]
  },
  {
   "cell_type": "code",
   "execution_count": 63,
   "id": "6fc1dc83",
   "metadata": {},
   "outputs": [
    {
     "name": "stdout",
     "output_type": "stream",
     "text": [
      "[0, 2, 4, 6, 8, 10, 12, 14, 16, 18]\n"
     ]
    }
   ],
   "source": [
    "array = [i for i in range(0,20,2)]\n",
    "print(array)"
   ]
  },
  {
   "cell_type": "code",
   "execution_count": 65,
   "id": "381c3f12",
   "metadata": {},
   "outputs": [
    {
     "name": "stdout",
     "output_type": "stream",
     "text": [
      "['사과', '체리', '바나나']\n"
     ]
    }
   ],
   "source": [
    "\n",
    "arr = ['사과','체리','바나나','과자']\n",
    "\n",
    "output = [  i    for i in arr  if i != '과자']\n",
    "\n",
    "print(output)"
   ]
  }
 ],
 "metadata": {
  "kernelspec": {
   "display_name": "Python 3 (ipykernel)",
   "language": "python",
   "name": "python3"
  },
  "language_info": {
   "codemirror_mode": {
    "name": "ipython",
    "version": 3
   },
   "file_extension": ".py",
   "mimetype": "text/x-python",
   "name": "python",
   "nbconvert_exporter": "python",
   "pygments_lexer": "ipython3",
   "version": "3.9.7"
  }
 },
 "nbformat": 4,
 "nbformat_minor": 5
}
