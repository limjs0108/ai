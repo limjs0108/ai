{
  "nbformat": 4,
  "nbformat_minor": 0,
  "metadata": {
    "colab": {
      "name": "02HW20220126임진석31.ipynb",
      "provenance": [],
      "authorship_tag": "ABX9TyOMcHpUz1a0WklofjvSEfr+",
      "include_colab_link": true
    },
    "kernelspec": {
      "name": "python3",
      "display_name": "Python 3"
    },
    "language_info": {
      "name": "python"
    }
  },
  "cells": [
    {
      "cell_type": "markdown",
      "metadata": {
        "id": "view-in-github",
        "colab_type": "text"
      },
      "source": [
        "<a href=\"https://colab.research.google.com/github/limjs0108/ai/blob/main/02HW20220126%EC%9E%84%EC%A7%84%EC%84%9D31.ipynb\" target=\"_parent\"><img src=\"https://colab.research.google.com/assets/colab-badge.svg\" alt=\"Open In Colab\"/></a>"
      ]
    },
    {
      "cell_type": "code",
      "execution_count": 1,
      "metadata": {
        "colab": {
          "base_uri": "https://localhost:8080/"
        },
        "id": "71EINsozbGwn",
        "outputId": "d23c0423-80f3-4cf6-bfe2-61cb8eecde45"
      },
      "outputs": [
        {
          "output_type": "stream",
          "name": "stdout",
          "text": [
            "['닥터 스트레인지', '스플릿', '럭키']\n"
          ]
        }
      ],
      "source": [
        "# 051\n",
        "movie_rank = ['닥터 스트레인지', '스플릿', '럭키']\n",
        "print(movie_rank)"
      ]
    },
    {
      "cell_type": "code",
      "source": [
        "# 052\n",
        "movie_rank = ['닥터 스트레인지', '스플릿', '럭키']\n",
        "movie_rank.append('배트맨')\n",
        "print(movie_rank)"
      ],
      "metadata": {
        "colab": {
          "base_uri": "https://localhost:8080/"
        },
        "id": "Q1Qa-av3b2rY",
        "outputId": "a20e7e7f-be03-4d09-8897-87854c896270"
      },
      "execution_count": 2,
      "outputs": [
        {
          "output_type": "stream",
          "name": "stdout",
          "text": [
            "['닥터 스트레인지', '스플릿', '럭키', '배트맨']\n"
          ]
        }
      ]
    },
    {
      "cell_type": "code",
      "source": [
        "# 053\n",
        "movie_rank = ['닥터 스트레인지', '스플릿', '럭키', '배트맨']\n",
        "movie_rank.insert(1,'슈퍼맨')\n",
        "print(movie_rank)"
      ],
      "metadata": {
        "colab": {
          "base_uri": "https://localhost:8080/"
        },
        "id": "nISXWqvxcDis",
        "outputId": "d1946bf4-e3bb-4d0e-87fc-82664817b84b"
      },
      "execution_count": 3,
      "outputs": [
        {
          "output_type": "stream",
          "name": "stdout",
          "text": [
            "['닥터 스트레인지', '슈퍼맨', '스플릿', '럭키', '배트맨']\n"
          ]
        }
      ]
    },
    {
      "cell_type": "code",
      "source": [
        "# 054\n",
        "movie_rank = ['닥터 스트레인지', '슈퍼맨', '스플릿', '럭키', '배트맨']\n",
        "del movie_rank[3]\n",
        "print(movie_rank)"
      ],
      "metadata": {
        "colab": {
          "base_uri": "https://localhost:8080/"
        },
        "id": "lqdvL9oEcYhl",
        "outputId": "5404eb2f-0bf5-41dd-9e34-d70383bcb404"
      },
      "execution_count": 4,
      "outputs": [
        {
          "output_type": "stream",
          "name": "stdout",
          "text": [
            "['닥터 스트레인지', '슈퍼맨', '스플릿', '배트맨']\n"
          ]
        }
      ]
    },
    {
      "cell_type": "code",
      "source": [
        "# 055\n",
        "movie_rank = ['닥터 스트레인지', '슈퍼맨', '스플릿', '배트맨']\n",
        "del movie_rank[2:]\n",
        "print(movie_rank)"
      ],
      "metadata": {
        "colab": {
          "base_uri": "https://localhost:8080/"
        },
        "id": "R-TmSKYIc_It",
        "outputId": "ae4fe0d8-6a94-4043-b979-ec889f8e1a2a"
      },
      "execution_count": 5,
      "outputs": [
        {
          "output_type": "stream",
          "name": "stdout",
          "text": [
            "['닥터 스트레인지', '슈퍼맨']\n"
          ]
        }
      ]
    },
    {
      "cell_type": "code",
      "source": [
        "# 056\n",
        "lang1 = [\"C\", \"C++\", \"JAVA\"]\n",
        "lang2 = [\"Python\", \"Go\", \"C#\"]\n",
        "langs = lang1 + lang2\n",
        "print(langs)"
      ],
      "metadata": {
        "colab": {
          "base_uri": "https://localhost:8080/"
        },
        "id": "IierEGJlc_Ro",
        "outputId": "1cd439c4-a42d-4870-bea3-f0ba48e54da8"
      },
      "execution_count": 6,
      "outputs": [
        {
          "output_type": "stream",
          "name": "stdout",
          "text": [
            "['C', 'C++', 'JAVA', 'Python', 'Go', 'C#']\n"
          ]
        }
      ]
    },
    {
      "cell_type": "code",
      "source": [
        "# 057\n",
        "nums = [1, 2, 3, 4, 5, 6, 7]\n",
        "max = max(nums)\n",
        "min = min(nums)\n",
        "print(f'max: {max}\\n\\nmin: {min}')"
      ],
      "metadata": {
        "colab": {
          "base_uri": "https://localhost:8080/"
        },
        "id": "dfKopHK_drA-",
        "outputId": "cbcd9740-7636-4c9b-a74b-4de8fdc7940b"
      },
      "execution_count": 7,
      "outputs": [
        {
          "output_type": "stream",
          "name": "stdout",
          "text": [
            "max: 7\n",
            "\n",
            "min: 1\n"
          ]
        }
      ]
    },
    {
      "cell_type": "code",
      "source": [
        "# 058\n",
        "nums = [1, 2, 3, 4, 5]\n",
        "print(sum(nums[:]))"
      ],
      "metadata": {
        "colab": {
          "base_uri": "https://localhost:8080/"
        },
        "id": "IKonc23WeFjb",
        "outputId": "01936fdb-a630-41a7-cb36-e1db1b0bcdd4"
      },
      "execution_count": 8,
      "outputs": [
        {
          "output_type": "stream",
          "name": "stdout",
          "text": [
            "15\n"
          ]
        }
      ]
    },
    {
      "cell_type": "code",
      "source": [
        "# 059\n",
        "cook = [\"피자\", \"김밥\", \"만두\", \"양념치킨\", \"족발\", \"피자\", \"김치만두\", \"쫄면\", \"쏘세지\", \"라면\", \"팥빙수\", \"김치전\"]\n",
        "print(len(cook))"
      ],
      "metadata": {
        "colab": {
          "base_uri": "https://localhost:8080/"
        },
        "id": "mPKeTB3beYWN",
        "outputId": "6bf06624-8523-47d0-c31d-f7106dd47cba"
      },
      "execution_count": 9,
      "outputs": [
        {
          "output_type": "stream",
          "name": "stdout",
          "text": [
            "12\n"
          ]
        }
      ]
    },
    {
      "cell_type": "code",
      "source": [
        "# 060\n",
        "nums = [1,2,3,4,5]\n",
        "sum_nums = float(sum(nums[:]))\n",
        "print((sum_nums/len(nums)))"
      ],
      "metadata": {
        "colab": {
          "base_uri": "https://localhost:8080/"
        },
        "id": "isfxcc_cev3W",
        "outputId": "25604bd2-4bd5-436f-92b9-71c5ecb6b31d"
      },
      "execution_count": 10,
      "outputs": [
        {
          "output_type": "stream",
          "name": "stdout",
          "text": [
            "3.0\n"
          ]
        }
      ]
    },
    {
      "cell_type": "code",
      "source": [
        "# 121\n",
        "char1 = input('>> ')\n",
        "if char1.islower():\n",
        "  print(char1.upper())\n",
        "else:\n",
        "  print(char1.lower())"
      ],
      "metadata": {
        "colab": {
          "base_uri": "https://localhost:8080/"
        },
        "id": "cYjfzYBYf_3E",
        "outputId": "c95c4f9a-62e2-4077-e646-385658bd2386"
      },
      "execution_count": 11,
      "outputs": [
        {
          "output_type": "stream",
          "name": "stdout",
          "text": [
            ">> a\n",
            "A\n"
          ]
        }
      ]
    },
    {
      "cell_type": "code",
      "source": [
        "# 122\n",
        "score = int(input('>> '))\n",
        "if score > 80:\n",
        "  grade = 'A'\n",
        "elif score > 60:\n",
        "  grade = 'B'\n",
        "elif score > 40:\n",
        "  grade = 'C'\n",
        "elif score > 20:\n",
        "  grade = 'D'\n",
        "else:\n",
        "  grade = 'E'\n",
        "\n",
        "print(f'grade is {grade}')\n"
      ],
      "metadata": {
        "colab": {
          "base_uri": "https://localhost:8080/"
        },
        "id": "VfCLCFpegwLP",
        "outputId": "7aaaf6fd-5e87-4b03-b39d-3f6e679815e0"
      },
      "execution_count": 12,
      "outputs": [
        {
          "output_type": "stream",
          "name": "stdout",
          "text": [
            ">> 90\n",
            "grade is A\n"
          ]
        }
      ]
    },
    {
      "cell_type": "code",
      "source": [
        "# 123\n",
        "inp = input('>> 입력 : ')\n",
        "void = inp.index(' ')\n",
        "gold = int(inp[:void])\n",
        "\n",
        "if '달러' in inp:\n",
        "  print(float(gold*1167))\n",
        "elif '엔' in inp:\n",
        "  print(float(gold*1.096))\n",
        "elif '유로' in inp:\n",
        "  print(float(gold*1268))\n",
        "else:\n",
        "  print(float(gold*171))\n"
      ],
      "metadata": {
        "colab": {
          "base_uri": "https://localhost:8080/"
        },
        "id": "8hWqqppQhSUu",
        "outputId": "16be9751-3853-4c07-f6d1-19c162209dd2"
      },
      "execution_count": 13,
      "outputs": [
        {
          "output_type": "stream",
          "name": "stdout",
          "text": [
            ">> 입력 : 540 달러\n",
            "630180.0\n"
          ]
        }
      ]
    },
    {
      "cell_type": "code",
      "source": [
        "# 124\n",
        "num1 = int(input('>> input number1: '))\n",
        "num2 = int(input('>> input number2: '))\n",
        "num3 = int(input('>> input number3: '))\n",
        "max_num = 0\n",
        "\n",
        "if num1 > num2 & num1 > num3:\n",
        "  max_num = num1\n",
        "elif num2 > num3:\n",
        "  max_num = num2\n",
        "else:\n",
        "  max_num = num3\n",
        "\n",
        "print(max_num)"
      ],
      "metadata": {
        "colab": {
          "base_uri": "https://localhost:8080/"
        },
        "id": "1mBslBWRkLdP",
        "outputId": "401a1c36-5e5c-4f7a-f913-ce36ddd4a189"
      },
      "execution_count": 14,
      "outputs": [
        {
          "output_type": "stream",
          "name": "stdout",
          "text": [
            ">> input number1: 1\n",
            ">> input number2: 2\n",
            ">> input number3: 3\n",
            "3\n"
          ]
        }
      ]
    },
    {
      "cell_type": "code",
      "source": [
        "# 125\n",
        "p_num = input('>> 휴대전화 번호 입력: ')\n",
        "eq = p_num[:3]\n",
        "if eq == '011':\n",
        "  tel = 'SKT'\n",
        "elif eq == '016':\n",
        "  tel = 'KT'\n",
        "elif eq == '019':\n",
        "  tel = 'LGU'\n",
        "else:\n",
        "  tel = '알수없음'\n",
        "\n",
        "print(f'당신은 {tel} 사용자입니다.')\n"
      ],
      "metadata": {
        "colab": {
          "base_uri": "https://localhost:8080/"
        },
        "id": "Z-bNJ2ETky85",
        "outputId": "fedbd4e3-dd68-41dc-f1ee-666182e8be0e"
      },
      "execution_count": 15,
      "outputs": [
        {
          "output_type": "stream",
          "name": "stdout",
          "text": [
            ">> 휴대전화 번호 입력: 010-2206-7609\n",
            "당신은 알수없음 사용자입니다.\n"
          ]
        }
      ]
    },
    {
      "cell_type": "code",
      "source": [
        "# 126\n",
        "addr = input('>> 우편번호: ')\n",
        "test = int(addr[2])\n",
        "\n",
        "if test < 3:\n",
        "  print('강북구')\n",
        "elif test < 6:\n",
        "  print('도봉구')\n",
        "else:\n",
        "  print('노원구')"
      ],
      "metadata": {
        "colab": {
          "base_uri": "https://localhost:8080/"
        },
        "id": "W1fPHg9LmQqY",
        "outputId": "10b0a687-d587-4f10-eceb-1ec88808ac26"
      },
      "execution_count": 16,
      "outputs": [
        {
          "output_type": "stream",
          "name": "stdout",
          "text": [
            ">> 우편번호: 01154\n",
            "강북구\n"
          ]
        }
      ]
    },
    {
      "cell_type": "code",
      "source": [
        "# 127\n",
        "id = input('>> 주민등록번호: ')\n",
        "test = id[7]\n",
        "if test == '1' or test == '3':\n",
        "  print('남자')\n",
        "elif test == '2' or test == '4':\n",
        "  print('여자')"
      ],
      "metadata": {
        "colab": {
          "base_uri": "https://localhost:8080/"
        },
        "id": "WWe5n0WUoF-Y",
        "outputId": "90d32fb9-bcc7-4b65-b193-7808fb770f7b"
      },
      "execution_count": 17,
      "outputs": [
        {
          "output_type": "stream",
          "name": "stdout",
          "text": [
            ">> 주민등록번호: 940108-1032426\n",
            "남자\n"
          ]
        }
      ]
    },
    {
      "cell_type": "code",
      "source": [
        "# 128\n",
        "id = input('>> 주민등록번호: ')\n",
        "test = int(id[8:10])\n",
        "\n",
        "if test < 9:\n",
        "  print('서울입니다.')\n",
        "else:\n",
        "  print('서울이 아닙니다.')"
      ],
      "metadata": {
        "colab": {
          "base_uri": "https://localhost:8080/"
        },
        "id": "W31TeVjqpu7c",
        "outputId": "f4f564db-0448-4c89-a067-184819c92382"
      },
      "execution_count": 18,
      "outputs": [
        {
          "output_type": "stream",
          "name": "stdout",
          "text": [
            ">> 주민등록번호: 940108-1032426\n",
            "서울입니다.\n"
          ]
        }
      ]
    },
    {
      "cell_type": "code",
      "source": [
        "# 129\n",
        "id = list(input('>> 주민등록번호: '))\n",
        "del id[6]\n",
        "print(id)\n",
        "va = [2,3,4,5,6,7,8,9,2,3,4,5]\n",
        "sum = 0\n",
        "for i in range (0,12):\n",
        "  sum += int(id[i])*int(va[i])\n",
        "\n",
        "last = 11 - (sum % 11)\n",
        "if last == int(id[12]):\n",
        "  print('유효한 주민등록번호입니다.')\n",
        "else:\n",
        "  print('유효하지 않은 주민등록번호입니다.')"
      ],
      "metadata": {
        "colab": {
          "base_uri": "https://localhost:8080/"
        },
        "id": "o45CrMgAqrbo",
        "outputId": "25a23858-179d-42d8-eae7-7ad14dffee2c"
      },
      "execution_count": 20,
      "outputs": [
        {
          "output_type": "stream",
          "name": "stdout",
          "text": [
            ">> 주민등록번호: 940108-1032426\n",
            "['9', '4', '0', '1', '0', '8', '1', '0', '3', '2', '4', '2', '6']\n",
            "6\n",
            "유효한 주민등록번호입니다.\n"
          ]
        }
      ]
    },
    {
      "cell_type": "code",
      "source": [
        "import requests\n",
        "\n",
        "btc = requests.get(\"https://api.bithumb.com/public/ticker/\").json()['data']\n",
        "width = int(btc[\"max_price\"]) - int(btc[\"min_price\"])\n",
        "if (int(btc[\"opening_price\"]) + width) > int(btc[\"max_price\"]):\n",
        "  print('상승장')\n",
        "else:\n",
        "  print('하락장') \n"
      ],
      "metadata": {
        "colab": {
          "base_uri": "https://localhost:8080/"
        },
        "id": "U7EM2vS3wVfx",
        "outputId": "0448712b-d055-495f-9a91-e1902db9ed05"
      },
      "execution_count": 34,
      "outputs": [
        {
          "output_type": "stream",
          "name": "stdout",
          "text": [
            "상승장\n"
          ]
        }
      ]
    }
  ]
}