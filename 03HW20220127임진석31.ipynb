{
 "cells": [
  {
   "cell_type": "markdown",
   "metadata": {
    "colab_type": "text",
    "id": "view-in-github"
   },
   "source": [
    "<a href=\"https://colab.research.google.com/github/limjs0108/ai/blob/main/03HW20220127%EC%9E%84%EC%A7%84%EC%84%9D31.ipynb\" target=\"_parent\"><img src=\"https://colab.research.google.com/assets/colab-badge.svg\" alt=\"Open In Colab\"/></a>"
   ]
  },
  {
   "cell_type": "code",
   "execution_count": 3,
   "metadata": {
    "colab": {
     "base_uri": "https://localhost:8080/"
    },
    "id": "sJlOenZQjnkh",
    "outputId": "5939362b-32e9-4ead-8b88-a1b84f013134"
   },
   "outputs": [
    {
     "name": "stdout",
     "output_type": "stream",
     "text": [
      "{'메로나': [300, 20], '비비빅': [400, 3], '죠스바': [250, 100]}\n"
     ]
    }
   ],
   "source": [
    "# 091\n",
    "\n",
    "inventory = {\n",
    "    '메로나' : [300, 20],\n",
    "    '비비빅' : [400, 3],\n",
    "    '죠스바' : [250, 100]\n",
    "}\n",
    "\n",
    "print(inventory)"
   ]
  },
  {
   "cell_type": "code",
   "execution_count": 11,
   "metadata": {
    "colab": {
     "base_uri": "https://localhost:8080/"
    },
    "id": "iAQaHF36kZVV",
    "outputId": "d799e1c3-4edf-4ad3-f348-2158f98811ce"
   },
   "outputs": [
    {
     "name": "stdout",
     "output_type": "stream",
     "text": [
      "300 원\n"
     ]
    }
   ],
   "source": [
    "# 092\n",
    "\n",
    "inventory = {\n",
    "    '메로나' : [300, 20],\n",
    "    '비비빅' : [400, 3],\n",
    "    '죠스바' : [250, 100]\n",
    "}\n",
    "\n",
    "print(inventory['메로나'][0], '원')"
   ]
  },
  {
   "cell_type": "code",
   "execution_count": 13,
   "metadata": {
    "colab": {
     "base_uri": "https://localhost:8080/"
    },
    "id": "r2lPySumlx2g",
    "outputId": "4dddf33e-c9ee-4fa9-bea5-67523a974cc7"
   },
   "outputs": [
    {
     "name": "stdout",
     "output_type": "stream",
     "text": [
      "20 개\n"
     ]
    }
   ],
   "source": [
    "# 093\n",
    "\n",
    "inventory = {\n",
    "    '메로나' : [300, 20],\n",
    "    '비비빅' : [400, 3],\n",
    "    '죠스바' : [250, 100]\n",
    "}\n",
    "\n",
    "print(inventory['메로나'][1], '개')"
   ]
  },
  {
   "cell_type": "code",
   "execution_count": 14,
   "metadata": {
    "colab": {
     "base_uri": "https://localhost:8080/"
    },
    "id": "9aBta7AmmCvx",
    "outputId": "1be328c3-0da2-4551-f77f-d9cd195a761e"
   },
   "outputs": [
    {
     "name": "stdout",
     "output_type": "stream",
     "text": [
      "{'메로나': [300, 20], '비비빅': [400, 3], '죠스바': [250, 100], '월드콘': [500, 7]}\n"
     ]
    }
   ],
   "source": [
    "# 094\n",
    "\n",
    "inventory = {\n",
    "    '메로나' : [300, 20],\n",
    "    '비비빅' : [400, 3],\n",
    "    '죠스바' : [250, 100]\n",
    "}\n",
    "\n",
    "inventory['월드콘'] = [500, 7]\n",
    "\n",
    "print(inventory)"
   ]
  },
  {
   "cell_type": "code",
   "execution_count": 22,
   "metadata": {
    "colab": {
     "base_uri": "https://localhost:8080/"
    },
    "id": "aZth1aqwms3c",
    "outputId": "0b89ee1b-1306-41dd-81ae-0882aba678f6"
   },
   "outputs": [
    {
     "name": "stdout",
     "output_type": "stream",
     "text": [
      "['탱크보이', '폴라포', '빵빠레', '월드콘', '메로나']\n"
     ]
    }
   ],
   "source": [
    "# 095\n",
    "\n",
    "icecream = {\n",
    "    '탱크보이' : 1200,\n",
    "    '폴라포' : 1200,\n",
    "    '빵빠레' : 1800,\n",
    "    '월드콘' : 1500,\n",
    "    '메로나' : 1000\n",
    "}\n",
    "\n",
    "keys = list(icecream.keys())\n",
    "\n",
    "print(keys)"
   ]
  },
  {
   "cell_type": "code",
   "execution_count": 23,
   "metadata": {
    "colab": {
     "base_uri": "https://localhost:8080/"
    },
    "id": "3tTjUBFWnru8",
    "outputId": "1e14d031-7a29-44c3-eb45-5bac1fcfbd1a"
   },
   "outputs": [
    {
     "name": "stdout",
     "output_type": "stream",
     "text": [
      "[1200, 1200, 1800, 1500, 1000]\n"
     ]
    }
   ],
   "source": [
    "# 096\n",
    "\n",
    "icecream = {\n",
    "    '탱크보이' : 1200,\n",
    "    '폴라포' : 1200,\n",
    "    '빵빠레' : 1800,\n",
    "    '월드콘' : 1500,\n",
    "    '메로나' : 1000\n",
    "}\n",
    "\n",
    "values = list(icecream.values())\n",
    "\n",
    "print(values)"
   ]
  },
  {
   "cell_type": "code",
   "execution_count": 26,
   "metadata": {
    "colab": {
     "base_uri": "https://localhost:8080/"
    },
    "id": "n7AjZtFyoJy4",
    "outputId": "381cc158-756f-436c-a585-d4a35b505cb8"
   },
   "outputs": [
    {
     "name": "stdout",
     "output_type": "stream",
     "text": [
      "6700\n"
     ]
    }
   ],
   "source": [
    "# 097\n",
    "icecream = {\n",
    "    '탱크보이' : 1200,\n",
    "    '폴라포' : 1200,\n",
    "    '빵빠레' : 1800,\n",
    "    '월드콘' : 1500,\n",
    "    '메로나' : 1000\n",
    "}\n",
    "\n",
    "print(sum(icecream.values()))"
   ]
  },
  {
   "cell_type": "code",
   "execution_count": 27,
   "metadata": {
    "colab": {
     "base_uri": "https://localhost:8080/"
    },
    "id": "ZMq4K9cboXt5",
    "outputId": "73347733-f16b-44a4-b494-14b42627c8f3"
   },
   "outputs": [
    {
     "name": "stdout",
     "output_type": "stream",
     "text": [
      "{'탱크보이': 1200, '폴라포': 1200, '빵빠레': 1800, '월드콘': 1500, '메로나': 1000, '팥빙수': 2700, '아맛나': 1000}\n"
     ]
    }
   ],
   "source": [
    "# 098\n",
    "\n",
    "icecream = {\n",
    "    '탱크보이' : 1200,\n",
    "    '폴라포' : 1200,\n",
    "    '빵빠레' : 1800,\n",
    "    '월드콘' : 1500,\n",
    "    '메로나' : 1000\n",
    "}\n",
    "\n",
    "new_product = {'팥빙수' : 2700, '아맛나' : 1000}\n",
    "\n",
    "icecream.update(new_product)\n",
    "\n",
    "print(icecream)"
   ]
  },
  {
   "cell_type": "code",
   "execution_count": 38,
   "metadata": {
    "colab": {
     "base_uri": "https://localhost:8080/"
    },
    "id": "DGLbKwvIo4ji",
    "outputId": "d9be1ce1-b11a-44a5-9b80-e1b2a8df5d3b"
   },
   "outputs": [
    {
     "name": "stdout",
     "output_type": "stream",
     "text": [
      "{'apple': 300, 'pear': 250, 'peach': 400}\n"
     ]
    }
   ],
   "source": [
    "# 099\n",
    "\n",
    "keys = (\"apple\", \"pear\", \"peach\")\n",
    "vals = (300, 250, 400)\n",
    "\n",
    "result = zip(keys,vals)\n",
    "\n",
    "print(dict(result))"
   ]
  },
  {
   "cell_type": "code",
   "execution_count": 37,
   "metadata": {
    "colab": {
     "base_uri": "https://localhost:8080/"
    },
    "id": "ofS4DhGkq9B0",
    "outputId": "ac79febc-c6f5-4a50-aeb1-4dd8e9b9c8c4"
   },
   "outputs": [
    {
     "name": "stdout",
     "output_type": "stream",
     "text": [
      "{'09/05': 10500, '09/06': 10300, '09/07': 10100, '09/08': 10800, '09/09': 11000}\n"
     ]
    }
   ],
   "source": [
    "# 100\n",
    "\n",
    "date = ['09/05', '09/06', '09/07', '09/08', '09/09']\n",
    "close_price = [10500, 10300, 10100, 10800, 11000]\n",
    "\n",
    "close_table = zip(date,close_price)\n",
    "\n",
    "print(dict(close_table))"
   ]
  },
  {
   "cell_type": "code",
   "execution_count": 39,
   "metadata": {
    "colab": {
     "base_uri": "https://localhost:8080/"
    },
    "id": "uSuYnh_Nrq1P",
    "outputId": "45a79fb4-2270-4441-b3ce-6058b9ffc891"
   },
   "outputs": [
    {
     "name": "stdout",
     "output_type": "stream",
     "text": [
      "-20\n",
      "-3\n"
     ]
    }
   ],
   "source": [
    "# 151\n",
    "\n",
    "nums = [3, -20, -3, 44]\n",
    "\n",
    "for i in nums:\n",
    "  if i < 0:\n",
    "    print(i)"
   ]
  },
  {
   "cell_type": "code",
   "execution_count": 40,
   "metadata": {
    "colab": {
     "base_uri": "https://localhost:8080/"
    },
    "id": "Nfk43dapr_3I",
    "outputId": "9bcda7e5-97b5-450f-f597-8832d0bf7a4e"
   },
   "outputs": [
    {
     "name": "stdout",
     "output_type": "stream",
     "text": [
      "3\n"
     ]
    }
   ],
   "source": [
    "# 152\n",
    "\n",
    "nums = [3, 100, 23, 44]\n",
    "\n",
    "for i in nums:\n",
    "  if i % 3 == 0:\n",
    "    print(i)"
   ]
  },
  {
   "cell_type": "code",
   "execution_count": 41,
   "metadata": {
    "colab": {
     "base_uri": "https://localhost:8080/"
    },
    "id": "TzdlFfcYsK3Y",
    "outputId": "c8a22fcd-70b3-49e6-bcdc-b8cae99a3e71"
   },
   "outputs": [
    {
     "name": "stdout",
     "output_type": "stream",
     "text": [
      "12\n",
      "18\n"
     ]
    }
   ],
   "source": [
    "# 153\n",
    "\n",
    "nums = [13, 21, 12, 14, 30, 18]\n",
    "\n",
    "for i in nums:\n",
    "  if i < 20 and i % 3 == 0:\n",
    "    print(i)"
   ]
  },
  {
   "cell_type": "code",
   "execution_count": 42,
   "metadata": {
    "colab": {
     "base_uri": "https://localhost:8080/"
    },
    "id": "ztVTadz8sc2t",
    "outputId": "5f3d69d4-4788-4339-9455-cf9b09789cbe"
   },
   "outputs": [
    {
     "name": "stdout",
     "output_type": "stream",
     "text": [
      "study\n",
      "python\n",
      "language\n"
     ]
    }
   ],
   "source": [
    "# 154\n",
    "\n",
    "str = ['I', 'study', 'python', 'language', '!']\n",
    "\n",
    "for i in str:\n",
    "  if len(i) >= 3:\n",
    "    print(i)"
   ]
  },
  {
   "cell_type": "code",
   "execution_count": 43,
   "metadata": {
    "colab": {
     "base_uri": "https://localhost:8080/"
    },
    "id": "nBcfFpwcs9OA",
    "outputId": "b40d9879-626a-43fc-cb68-2375bdd06ff6"
   },
   "outputs": [
    {
     "name": "stdout",
     "output_type": "stream",
     "text": [
      "A\n",
      "D\n"
     ]
    }
   ],
   "source": [
    "# 155\n",
    "\n",
    "alp = ['A', 'b', 'c', 'D']\n",
    "\n",
    "for i in alp:\n",
    "  if i.isupper():\n",
    "    print(i)"
   ]
  },
  {
   "cell_type": "code",
   "execution_count": 44,
   "metadata": {
    "colab": {
     "base_uri": "https://localhost:8080/"
    },
    "id": "14vkXXtLtuwq",
    "outputId": "ab15e578-2c25-4027-959b-e0abb2795947"
   },
   "outputs": [
    {
     "name": "stdout",
     "output_type": "stream",
     "text": [
      "b\n",
      "c\n"
     ]
    }
   ],
   "source": [
    "# 156\n",
    "\n",
    "alp = ['A', 'b', 'c', 'D']\n",
    "\n",
    "for i in alp:\n",
    "  if i.islower():\n",
    "    print(i)"
   ]
  },
  {
   "cell_type": "code",
   "execution_count": 57,
   "metadata": {
    "colab": {
     "base_uri": "https://localhost:8080/"
    },
    "id": "U1xFYpUzt9PG",
    "outputId": "aec733ac-a541-4f58-d227-21abf0ab1d52"
   },
   "outputs": [
    {
     "name": "stdout",
     "output_type": "stream",
     "text": [
      "Dog\n",
      "Cat\n",
      "Parrot\n"
     ]
    }
   ],
   "source": [
    "# 157\n",
    "\n",
    "str1 = ['dog','cat', 'parrot']\n",
    "\n",
    "for i in str1:\n",
    "  first = i[0].upper()\n",
    "  print(first + i[1:])"
   ]
  },
  {
   "cell_type": "code",
   "execution_count": 59,
   "metadata": {
    "colab": {
     "base_uri": "https://localhost:8080/"
    },
    "id": "UByTDNjTx46-",
    "outputId": "432c5bcd-21ba-4066-9b9e-8dac3764fd42"
   },
   "outputs": [
    {
     "name": "stdout",
     "output_type": "stream",
     "text": [
      "hello\n",
      "ex01\n",
      "intro\n"
     ]
    }
   ],
   "source": [
    "# 158\n",
    "\n",
    "list1 = ['hello.py', 'ex01.py', 'intro.hwp']\n",
    "\n",
    "for i in list1:\n",
    "  res = i.split('.')\n",
    "  print(res[0])\n"
   ]
  },
  {
   "cell_type": "code",
   "execution_count": 60,
   "metadata": {
    "colab": {
     "base_uri": "https://localhost:8080/"
    },
    "id": "mlvXD56Qy-G9",
    "outputId": "d1a7d42d-c238-4d39-935f-8874f0248262"
   },
   "outputs": [
    {
     "name": "stdout",
     "output_type": "stream",
     "text": [
      "intra.h\n",
      "define.h\n"
     ]
    }
   ],
   "source": [
    "# 159\n",
    "\n",
    "list2 = ['intra.h', 'intra.c', 'define.h', 'run.py']\n",
    "\n",
    "for i in list2:\n",
    "  res = i.split('.')\n",
    "  if(res[1] == 'h'):\n",
    "    print(i)"
   ]
  },
  {
   "cell_type": "code",
   "execution_count": 61,
   "metadata": {
    "colab": {
     "base_uri": "https://localhost:8080/"
    },
    "id": "5J2PkelazVtE",
    "outputId": "a41c8451-78e7-484e-f42c-d534a5940c80"
   },
   "outputs": [
    {
     "name": "stdout",
     "output_type": "stream",
     "text": [
      "intra.h\n",
      "intra.c\n",
      "define.h\n"
     ]
    }
   ],
   "source": [
    "# 160\n",
    "\n",
    "list3 = ['intra.h', 'intra.c', 'define.h', 'run.py']\n",
    "\n",
    "for i in list2:\n",
    "  res = i.split('.')\n",
    "  if(res[1] == 'h' or res[1] == 'c'):\n",
    "    print(i)"
   ]
  }
 ],
 "metadata": {
  "colab": {
   "authorship_tag": "ABX9TyPMfb8gGUtU5SN2qfrSyctH",
   "include_colab_link": true,
   "name": "03HW20220127임진석31.ipynb",
   "provenance": []
  },
  "kernelspec": {
   "display_name": "Python 3 (ipykernel)",
   "language": "python",
   "name": "python3"
  },
  "language_info": {
   "codemirror_mode": {
    "name": "ipython",
    "version": 3
   },
   "file_extension": ".py",
   "mimetype": "text/x-python",
   "name": "python",
   "nbconvert_exporter": "python",
   "pygments_lexer": "ipython3",
   "version": "3.9.7"
  }
 },
 "nbformat": 4,
 "nbformat_minor": 1
}
