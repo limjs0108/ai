{
  "nbformat": 4,
  "nbformat_minor": 0,
  "metadata": {
    "colab": {
      "name": "04HW20220207임진석31.ipynb",
      "provenance": [],
      "authorship_tag": "ABX9TyMVaP5aA35LdHzAXBDzz22c",
      "include_colab_link": true
    },
    "kernelspec": {
      "name": "python3",
      "display_name": "Python 3"
    },
    "language_info": {
      "name": "python"
    }
  },
  "cells": [
    {
      "cell_type": "markdown",
      "metadata": {
        "id": "view-in-github",
        "colab_type": "text"
      },
      "source": [
        "<a href=\"https://colab.research.google.com/github/limjs0108/ai/blob/main/04HW20220207%EC%9E%84%EC%A7%84%EC%84%9D31.ipynb\" target=\"_parent\"><img src=\"https://colab.research.google.com/assets/colab-badge.svg\" alt=\"Open In Colab\"/></a>"
      ]
    },
    {
      "cell_type": "code",
      "execution_count": null,
      "metadata": {
        "colab": {
          "base_uri": "https://localhost:8080/"
        },
        "id": "ERkl2FwQNHmm",
        "outputId": "7c22b6e4-1fd7-4b34-b673-26d9bfe2c583"
      },
      "outputs": [
        {
          "output_type": "stream",
          "name": "stdout",
          "text": [
            "안녕\n",
            "Hi\n"
          ]
        }
      ],
      "source": [
        "# 211\n",
        "\n",
        "def print_1(str1):\n",
        "  print(str1)\n",
        "\n",
        "print_1('안녕')\n",
        "print_1('Hi')"
      ]
    },
    {
      "cell_type": "code",
      "source": [
        "# 212\n",
        "\n",
        "def add(a, b):\n",
        "  print(a + b)\n",
        "\n",
        "add(3,4)\n",
        "add(7,8)"
      ],
      "metadata": {
        "colab": {
          "base_uri": "https://localhost:8080/"
        },
        "id": "OUAQYaFONwK8",
        "outputId": "8f3a2ca8-7c72-4464-d1b8-6991f5267210"
      },
      "execution_count": null,
      "outputs": [
        {
          "output_type": "stream",
          "name": "stdout",
          "text": [
            "7\n",
            "15\n"
          ]
        }
      ]
    },
    {
      "cell_type": "code",
      "source": [
        "# 213\n",
        "\n",
        "# 함수의 input 부분에 입력을 하지 않음"
      ],
      "metadata": {
        "id": "6zbtE6ahN3il"
      },
      "execution_count": null,
      "outputs": []
    },
    {
      "cell_type": "code",
      "source": [
        "# 214\n",
        "\n",
        "# string 타입과 int 타입은 + 연산을 할 수 없음"
      ],
      "metadata": {
        "id": "rmji8oMXOPX4"
      },
      "execution_count": null,
      "outputs": []
    },
    {
      "cell_type": "code",
      "source": [
        "# 215\n",
        "\n",
        "def print_with_smile(str2):\n",
        "  print(f'{str2}:D')"
      ],
      "metadata": {
        "id": "yaycLR9ROnMo"
      },
      "execution_count": null,
      "outputs": []
    },
    {
      "cell_type": "code",
      "source": [
        "# 216\n",
        "def print_with_smile(str2):\n",
        "  print(f'{str2}:D')\n",
        "\n",
        "print_with_smile(\"안녕하세요\")"
      ],
      "metadata": {
        "colab": {
          "base_uri": "https://localhost:8080/"
        },
        "id": "qREPT8K3PGqu",
        "outputId": "6ce3874e-aba2-481f-c64f-c35fc139d1cc"
      },
      "execution_count": null,
      "outputs": [
        {
          "output_type": "stream",
          "name": "stdout",
          "text": [
            "안녕하세요:D\n"
          ]
        }
      ]
    },
    {
      "cell_type": "code",
      "source": [
        "# 217\n",
        "\n",
        "def print_upper_price():\n",
        "  price = int(input('현재 가격 입력 : '))\n",
        "  print(f'상한가 : {price*1.3}')\n",
        "\n",
        "print_upper_price()"
      ],
      "metadata": {
        "colab": {
          "base_uri": "https://localhost:8080/"
        },
        "id": "lPX7fGHbPOpN",
        "outputId": "d1203403-fd29-48fa-b14f-d017e96f5b94"
      },
      "execution_count": null,
      "outputs": [
        {
          "output_type": "stream",
          "name": "stdout",
          "text": [
            "현재 가격 입력 : 500\n",
            "상한가 : 650.0\n"
          ]
        }
      ]
    },
    {
      "cell_type": "code",
      "source": [
        "# 218\n",
        "\n",
        "def print_sum():\n",
        "  a = int(input('첫 번째 수 입력 : '))\n",
        "  b = int(input('두 번째 수 입력 : '))\n",
        "  print(f'두 수의 합은 {a+b} 입니다.')\n",
        "\n",
        "print_sum()"
      ],
      "metadata": {
        "colab": {
          "base_uri": "https://localhost:8080/"
        },
        "id": "afxf6H4TQDEM",
        "outputId": "b401d6ba-4831-487f-c8db-9d51d1608c31"
      },
      "execution_count": null,
      "outputs": [
        {
          "output_type": "stream",
          "name": "stdout",
          "text": [
            "첫 번째 수 입력 : 1\n",
            "두 번째 수 입력 : 2\n",
            "두 수의 합은 3 입니다.\n"
          ]
        }
      ]
    },
    {
      "cell_type": "code",
      "source": [
        "# 219\n",
        "\n",
        "def print_arithmetic_operation():\n",
        "  a = int(input('첫 번째 수 입력 : '))\n",
        "  b = int(input('두 번째 수 입력 : '))\n",
        "  print(f'a + b = {a + b}')\n",
        "  print(f'a - b = {a - b}')\n",
        "  print(f'a * b = {a * b}')\n",
        "  print(f'a / b = {a / b}')\n",
        "\n",
        "print_arithmetic_operation()"
      ],
      "metadata": {
        "colab": {
          "base_uri": "https://localhost:8080/"
        },
        "id": "Cb77tyClQfCX",
        "outputId": "31763266-aa4a-40f3-ca0c-5fd02a6c45f0"
      },
      "execution_count": null,
      "outputs": [
        {
          "output_type": "stream",
          "name": "stdout",
          "text": [
            "첫 번째 수 입력 : 1\n",
            "두 번째 수 입력 : 2\n",
            "a + b = 3\n",
            "a - b = -1\n",
            "a * b = 2\n",
            "a / b = 0.5\n"
          ]
        }
      ]
    },
    {
      "cell_type": "code",
      "source": [
        "# 220\n",
        "\n",
        "def print_max():\n",
        "  a = int(input('첫 번째 수 입력 : '))\n",
        "  b = int(input('두 번째 수 입력 : '))\n",
        "  c = int(input('세 번째 수 입력 : '))\n",
        "  if a > b and a > c:\n",
        "    print(f'가장 큰 수는 {a} 입니다.')\n",
        "  elif b > c:\n",
        "    print(f'가장 큰 수는 {b} 입니다.')\n",
        "  else:\n",
        "    print(f'가장 큰 수는 {c} 입니다.')\n",
        "\n",
        "print_max()"
      ],
      "metadata": {
        "colab": {
          "base_uri": "https://localhost:8080/"
        },
        "id": "xAOMLD3SQ43p",
        "outputId": "724de9bd-871f-4092-b84e-52ab242d6126"
      },
      "execution_count": null,
      "outputs": [
        {
          "output_type": "stream",
          "name": "stdout",
          "text": [
            "첫 번째 수 입력 : 1\n",
            "두 번째 수 입력 : 2\n",
            "세 번째 수 입력 : 3\n",
            "가장 큰 수는 3 입니다.\n"
          ]
        }
      ]
    },
    {
      "cell_type": "code",
      "source": [
        "# 221\n",
        "\n",
        "def print_reverse(str3):\n",
        "  for i in range(-1,(-1*len(str3) - 1),-1):\n",
        "    print(str3[i], end = \"\")\n",
        "  print()\n",
        "\n",
        "print_reverse('python')"
      ],
      "metadata": {
        "colab": {
          "base_uri": "https://localhost:8080/"
        },
        "id": "V17aAncqR6fS",
        "outputId": "82541d4d-f6bd-4ce0-9305-244fc6452d90"
      },
      "execution_count": null,
      "outputs": [
        {
          "output_type": "stream",
          "name": "stdout",
          "text": [
            "nohtyp\n",
            "olleh\n"
          ]
        }
      ]
    },
    {
      "cell_type": "code",
      "source": [
        "# 222\n",
        "\n",
        "def print_score(args):\n",
        "  print(sum(args) / len(args))\n",
        "\n",
        "print_score([1,2,3])"
      ],
      "metadata": {
        "colab": {
          "base_uri": "https://localhost:8080/"
        },
        "id": "T-RqB_aSWSgV",
        "outputId": "15f24c68-3438-42b5-b544-2ac3f3c156e4"
      },
      "execution_count": null,
      "outputs": [
        {
          "output_type": "stream",
          "name": "stdout",
          "text": [
            "2.0\n"
          ]
        }
      ]
    },
    {
      "cell_type": "code",
      "source": [
        "# 223\n",
        "\n",
        "def print_even(args):\n",
        "  for i in args:\n",
        "    if i % 2 == 0:\n",
        "      print(i)\n",
        "\n",
        "print_even([1,3,2,10,12,11,15])"
      ],
      "metadata": {
        "colab": {
          "base_uri": "https://localhost:8080/"
        },
        "id": "WTavtXsmXgoR",
        "outputId": "1b6f3f63-645b-415b-fbab-e326978e4341"
      },
      "execution_count": null,
      "outputs": [
        {
          "output_type": "stream",
          "name": "stdout",
          "text": [
            "2\n",
            "10\n",
            "12\n"
          ]
        }
      ]
    },
    {
      "cell_type": "code",
      "source": [
        "# 224\n",
        "\n",
        "def print_keys(args):\n",
        "  for key,val in args.items():\n",
        "    print(f'{key} : {val}')\n",
        "\n",
        "print_keys({\"이름\" : \"김말똥\", \"나이\" : 30, \"성별\" : 0})"
      ],
      "metadata": {
        "colab": {
          "base_uri": "https://localhost:8080/"
        },
        "id": "6_ZOeMJDX3DB",
        "outputId": "59a79b73-bcef-485e-ab2e-353b93dc5e3a"
      },
      "execution_count": null,
      "outputs": [
        {
          "output_type": "stream",
          "name": "stdout",
          "text": [
            "이름 : 김말똥\n",
            "나이 : 30\n",
            "성별 : 0\n"
          ]
        }
      ]
    },
    {
      "cell_type": "code",
      "source": [
        "# 225\n",
        "\n",
        "def print_value_by_key(dict, date):\n",
        "  print(dict[date])\n",
        "\n",
        "my_dict = {\"10/26\" : [100, 130, 100, 100], \"10/27\" : [10, 12, 10, 11]}\n",
        "print_value_by_key(my_dict,\"10/26\")"
      ],
      "metadata": {
        "colab": {
          "base_uri": "https://localhost:8080/"
        },
        "id": "BVTp2yA0dWY7",
        "outputId": "9455cd8f-9e95-425a-b83e-81fb143ae4fe"
      },
      "execution_count": null,
      "outputs": [
        {
          "output_type": "stream",
          "name": "stdout",
          "text": [
            "[100, 130, 100, 100]\n"
          ]
        }
      ]
    },
    {
      "cell_type": "code",
      "source": [
        "# 226\n",
        "\n",
        "def print_5xn(str4):\n",
        "  cnt = 0\n",
        "  for i in str4:\n",
        "      print(i, end = \"\")\n",
        "      cnt += 1\n",
        "      if cnt % 5 == 0:\n",
        "        print()\n",
        "\n",
        "print_5xn(\"아이엠어보이유알어걸\")"
      ],
      "metadata": {
        "colab": {
          "base_uri": "https://localhost:8080/"
        },
        "id": "kxm37Xp-ek0P",
        "outputId": "1e8d16d9-116b-4e2e-9cde-c69cae4302dc"
      },
      "execution_count": null,
      "outputs": [
        {
          "output_type": "stream",
          "name": "stdout",
          "text": [
            "아이엠어보\n",
            "이유알어걸\n"
          ]
        }
      ]
    },
    {
      "cell_type": "code",
      "source": [
        "# 227\n",
        "\n",
        "def print_mxn(str5, n):\n",
        "  cnt = 0\n",
        "  for i in str5:\n",
        "    print(i, end = \"\")\n",
        "    cnt += 1\n",
        "    if cnt % n == 0:\n",
        "      print()\n",
        "\n",
        "print_mxn(\"아이엠어보이유알어걸\",3)"
      ],
      "metadata": {
        "colab": {
          "base_uri": "https://localhost:8080/"
        },
        "id": "Y48ECt_RgIIJ",
        "outputId": "2a28db74-8dfb-40f4-807f-6dbc936a5bcd"
      },
      "execution_count": null,
      "outputs": [
        {
          "output_type": "stream",
          "name": "stdout",
          "text": [
            "아이엠\n",
            "어보이\n",
            "유알어\n",
            "걸"
          ]
        }
      ]
    },
    {
      "cell_type": "code",
      "source": [
        "# 228\n",
        "\n",
        "def calc_monthly_salary(annual_salary):\n",
        "  print(int(annual_salary / 12))\n",
        "\n",
        "calc_monthly_salary(12000000)"
      ],
      "metadata": {
        "colab": {
          "base_uri": "https://localhost:8080/"
        },
        "id": "ZdLWZ2Eagg8r",
        "outputId": "2b4541ca-a094-49a0-d064-ea651d280fdf"
      },
      "execution_count": null,
      "outputs": [
        {
          "output_type": "stream",
          "name": "stdout",
          "text": [
            "1000000\n"
          ]
        }
      ]
    },
    {
      "cell_type": "code",
      "source": [
        "# 229\n",
        "\n",
        "def my_print(a, b):\n",
        "  print(\"왼쪽:\", a)\n",
        "  print(\"오른쪽:\", b)\n",
        "\n",
        "my_print(a = 100, b = 200)"
      ],
      "metadata": {
        "colab": {
          "base_uri": "https://localhost:8080/"
        },
        "id": "wtJb2dj5ho7r",
        "outputId": "39319500-d4c9-4e39-d388-d719f631d5fd"
      },
      "execution_count": null,
      "outputs": [
        {
          "output_type": "stream",
          "name": "stdout",
          "text": [
            "왼쪽: 100\n",
            "오른쪽: 200\n"
          ]
        }
      ]
    },
    {
      "cell_type": "code",
      "source": [
        "# 230\n",
        "\n",
        "def my_print(a, b):\n",
        "  print(\"왼쪽:\", a)\n",
        "  print(\"오른쪽:\", b)\n",
        "\n",
        "my_print(b = 100, a = 200)"
      ],
      "metadata": {
        "colab": {
          "base_uri": "https://localhost:8080/"
        },
        "id": "YOZqLNJuh6Cg",
        "outputId": "37c0d95b-ed0b-44d4-8bcf-768580e3753e"
      },
      "execution_count": null,
      "outputs": [
        {
          "output_type": "stream",
          "name": "stdout",
          "text": [
            "왼쪽: 200\n",
            "오른쪽: 100\n"
          ]
        }
      ]
    }
  ]
}