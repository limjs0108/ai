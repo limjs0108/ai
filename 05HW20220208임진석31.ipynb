{
  "nbformat": 4,
  "nbformat_minor": 0,
  "metadata": {
    "colab": {
      "name": "05HW20220208임진석31.ipynb",
      "provenance": [],
      "authorship_tag": "ABX9TyOTzJB7YFt0vAZBfTVgR52s",
      "include_colab_link": true
    },
    "kernelspec": {
      "name": "python3",
      "display_name": "Python 3"
    },
    "language_info": {
      "name": "python"
    }
  },
  "cells": [
    {
      "cell_type": "markdown",
      "metadata": {
        "id": "view-in-github",
        "colab_type": "text"
      },
      "source": [
        "<a href=\"https://colab.research.google.com/github/limjs0108/ai/blob/main/05HW20220208%EC%9E%84%EC%A7%84%EC%84%9D31.ipynb\" target=\"_parent\"><img src=\"https://colab.research.google.com/assets/colab-badge.svg\" alt=\"Open In Colab\"/></a>"
      ]
    },
    {
      "cell_type": "code",
      "execution_count": null,
      "metadata": {
        "id": "xsicUf-jXQF6"
      },
      "outputs": [],
      "source": [
        "# 231\n",
        "\n",
        "def n_plus_1(n) :\n",
        "  result = n + 1\n",
        "\n",
        "n_plus_1(3)\n",
        "\n",
        "\n",
        "# 4"
      ]
    },
    {
      "cell_type": "code",
      "source": [
        "# 232\n",
        "\n",
        "def make_url(str):\n",
        "  str1 = \"www.\" + str + \".com\"\n",
        "  return str1\n",
        "\n",
        "print(make_url(\"naver\"))"
      ],
      "metadata": {
        "colab": {
          "base_uri": "https://localhost:8080/"
        },
        "id": "uNdCEV6BZS6y",
        "outputId": "2731f6c4-f563-4880-c3e9-40491d739beb"
      },
      "execution_count": null,
      "outputs": [
        {
          "output_type": "stream",
          "name": "stdout",
          "text": [
            "www.naver.com\n"
          ]
        }
      ]
    },
    {
      "cell_type": "code",
      "source": [
        "# 233\n",
        "\n",
        "def make_list(str):\n",
        "  list_str = []\n",
        "  for i in str:\n",
        "    list_str.append(i)\n",
        "  return list_str\n",
        "\n",
        "print(make_list(\"abcd\"))"
      ],
      "metadata": {
        "colab": {
          "base_uri": "https://localhost:8080/"
        },
        "id": "cQlfBwzebA-n",
        "outputId": "6c94eb36-994a-4d0e-cef2-c10d87151a9e"
      },
      "execution_count": null,
      "outputs": [
        {
          "output_type": "stream",
          "name": "stdout",
          "text": [
            "['a', 'b', 'c', 'd']\n"
          ]
        }
      ]
    },
    {
      "cell_type": "code",
      "source": [
        "# 234\n",
        "\n",
        "def pickup_even(args):\n",
        "  list_args = []\n",
        "  for i in args:\n",
        "    if i % 2 == 0:\n",
        "      list_args.append(i)\n",
        "  return list_args\n",
        "\n",
        "print(pickup_even([3,4,5,6,7,8]))"
      ],
      "metadata": {
        "colab": {
          "base_uri": "https://localhost:8080/"
        },
        "id": "ykw5C2aAcgU0",
        "outputId": "650ae986-3326-44cb-87c2-2ad73c9b1b0b"
      },
      "execution_count": null,
      "outputs": [
        {
          "output_type": "stream",
          "name": "stdout",
          "text": [
            "[4, 6, 8]\n"
          ]
        }
      ]
    },
    {
      "cell_type": "code",
      "source": [
        "# 235\n",
        "\n",
        "def convert_int(str):\n",
        "  str = str.replace(\",\",\"\")\n",
        "  return str\n",
        "\n",
        "print(convert_int(\"1,234,567\"))"
      ],
      "metadata": {
        "colab": {
          "base_uri": "https://localhost:8080/"
        },
        "id": "relN2fgodKkk",
        "outputId": "d7cee0ba-cce5-451a-f3c6-036d00866848"
      },
      "execution_count": null,
      "outputs": [
        {
          "output_type": "stream",
          "name": "stdout",
          "text": [
            "1234567\n"
          ]
        }
      ]
    },
    {
      "cell_type": "code",
      "source": [
        "# 236\n",
        "\n",
        "def add_4(num):\n",
        "  return num +4 \n",
        "\n",
        "a = add_4(10)\n",
        "b = add_4(a)\n",
        "c = add_4(b)\n",
        "\n",
        "# c = 22"
      ],
      "metadata": {
        "id": "23Haa9age4Qj"
      },
      "execution_count": null,
      "outputs": []
    },
    {
      "cell_type": "code",
      "source": [
        "# 237\n",
        "\n",
        "def add_4(num):\n",
        "  return num +4 \n",
        "\n",
        "c = add_4(add_4(add_4(10)))\n",
        "\n",
        "# c = 22"
      ],
      "metadata": {
        "id": "R3Wl1w34fM7b"
      },
      "execution_count": null,
      "outputs": []
    },
    {
      "cell_type": "code",
      "source": [
        "# 238\n",
        "\n",
        "def add_4(num):\n",
        "  return num + 4\n",
        "\n",
        "def mul_10(num):\n",
        "  return num * 10\n",
        "\n",
        "a = add_4(10)\n",
        "c = mul_10(a)\n",
        "\n",
        "# c = 140"
      ],
      "metadata": {
        "id": "KN00QhbkfbQp"
      },
      "execution_count": null,
      "outputs": []
    },
    {
      "cell_type": "code",
      "source": [
        "# 239\n",
        "\n",
        "def add_4(num):\n",
        "  return num +4\n",
        "\n",
        "def add_m2(num):\n",
        "  num = num + 2\n",
        "  return add_4(num)\n",
        "\n",
        "c = add_m2(10)\n",
        "\n",
        "# c = 16"
      ],
      "metadata": {
        "colab": {
          "base_uri": "https://localhost:8080/"
        },
        "id": "bLdnUmvnfsSJ",
        "outputId": "cc24c8ed-9f25-4c16-9e06-10fdc160366e"
      },
      "execution_count": null,
      "outputs": [
        {
          "output_type": "stream",
          "name": "stdout",
          "text": [
            "16\n"
          ]
        }
      ]
    },
    {
      "cell_type": "code",
      "source": [
        "# 240\n",
        "\n",
        "def mul_2(num):\n",
        "  return num * 2\n",
        "\n",
        "def add_2(num):\n",
        "  return mul_2(num+2)\n",
        "\n",
        "def add_10(num):\n",
        "  num = num + 10\n",
        "  return add_2(num)\n",
        "\n",
        "c = add_10(2)\n",
        "\n",
        "# c = 28"
      ],
      "metadata": {
        "colab": {
          "base_uri": "https://localhost:8080/"
        },
        "id": "K3-3AeJkgH6x",
        "outputId": "18a94e1a-aa6f-4292-ec07-2575207173c3"
      },
      "execution_count": null,
      "outputs": [
        {
          "output_type": "stream",
          "name": "stdout",
          "text": [
            "28\n"
          ]
        }
      ]
    },
    {
      "cell_type": "code",
      "source": [
        "# 291\n",
        "\n",
        "f = open(\"C:\\\\Users\\\\polim\\\\Desktop\\\\매수종목1.txt\",'w')\n",
        "f.write('005930\\n')\n",
        "f.write('005380\\n')\n",
        "f.write('035420\\n')\n",
        "f.close()"
      ],
      "metadata": {
        "id": "MAdo9KM7gpaR"
      },
      "execution_count": null,
      "outputs": []
    },
    {
      "cell_type": "code",
      "source": [
        "# 292\n",
        "\n",
        "f = open(\"C:\\\\Users\\\\polim\\\\Desktop\\\\매수종목2.txt\",'w')\n",
        "f.write('005930 삼성전자\\n')\n",
        "f.write('005380 현대차\\n')\n",
        "f.write('035420 NAVER\\n')\n",
        "f.close()"
      ],
      "metadata": {
        "id": "ATC8Lmpyk1GF"
      },
      "execution_count": null,
      "outputs": []
    },
    {
      "cell_type": "code",
      "source": [
        "# 293\n",
        "\n",
        "title = \"종목명 종목코드 PER\".split(\" \")\n",
        "\n",
        "f = open(\"C:\\\\Users\\\\polim\\\\Desktop\\\\매수종목.csv\",'w',encoding=\"cp949\")\n",
        "w = csv.writer(f)\n",
        "\n",
        "data1 = \"삼성전자 005930 15.79\".split(\" \")\n",
        "data2 = \"NAVER 035420 55.82\".split(\" \")\n",
        "w.writerow(data1)\n",
        "w.writerow(data2)"
      ],
      "metadata": {
        "colab": {
          "base_uri": "https://localhost:8080/"
        },
        "id": "Tt-_S7k_mKq4",
        "outputId": "17db8c72-2f39-472a-c133-8f7f934f88e5"
      },
      "execution_count": null,
      "outputs": [
        {
          "output_type": "execute_result",
          "data": {
            "text/plain": [
              "20"
            ]
          },
          "metadata": {},
          "execution_count": 32
        }
      ]
    },
    {
      "cell_type": "code",
      "source": [
        "# 294\n",
        "\n",
        "f = open(\"C:\\\\Users\\\\polim\\\\Desktop\\\\매수종목2.txt\", 'r')\n",
        "while True:\n",
        "    line = f.readline()\n",
        "    if not line: break\n",
        "    print(line)\n",
        "f.close()"
      ],
      "metadata": {
        "colab": {
          "base_uri": "https://localhost:8080/"
        },
        "id": "PwzkmNuzpZOj",
        "outputId": "f9c0c6d7-b839-4e6f-9110-4146a4c4f837"
      },
      "execution_count": null,
      "outputs": [
        {
          "output_type": "stream",
          "name": "stdout",
          "text": [
            "005930 삼성전자\n",
            "\n",
            "005380 현대차\n",
            "\n",
            "035420 NAVER\n",
            "\n"
          ]
        }
      ]
    },
    {
      "cell_type": "code",
      "source": [
        "# 295\n",
        "\n",
        "f = open(\"C:\\\\Users\\\\polim\\\\Desktop\\\\매수종목2.txt\", 'r')\n",
        "keys = []\n",
        "values = []\n",
        "\n",
        "while True:  \n",
        "  line = f.readline()\n",
        "  line_list = line.split(\" \")\n",
        "  keys.append(line_list[0])\n",
        "  values.append(line_list[1])\n",
        "  if not line: break\n",
        "f.close()\n",
        "\n",
        "my_dict = dict(zip(keys,values))\n",
        "print(my_dict)"
      ],
      "metadata": {
        "colab": {
          "base_uri": "https://localhost:8080/",
          "height": 248
        },
        "id": "utOjZJy4pxfG",
        "outputId": "1c2be2c9-5127-45eb-cfc3-9ce12f085eca"
      },
      "execution_count": null,
      "outputs": [
        {
          "output_type": "error",
          "ename": "IndexError",
          "evalue": "ignored",
          "traceback": [
            "\u001b[0;31m---------------------------------------------------------------------------\u001b[0m",
            "\u001b[0;31mIndexError\u001b[0m                                Traceback (most recent call last)",
            "\u001b[0;32m<ipython-input-3-d33095d8da17>\u001b[0m in \u001b[0;36m<module>\u001b[0;34m()\u001b[0m\n\u001b[1;32m     10\u001b[0m     \u001b[0mline_list\u001b[0m \u001b[0;34m=\u001b[0m \u001b[0mdata\u001b[0m\u001b[0;34m.\u001b[0m\u001b[0msplit\u001b[0m\u001b[0;34m(\u001b[0m\u001b[0;34m\" \"\u001b[0m\u001b[0;34m)\u001b[0m\u001b[0;34m\u001b[0m\u001b[0;34m\u001b[0m\u001b[0m\n\u001b[1;32m     11\u001b[0m     \u001b[0mkeys\u001b[0m\u001b[0;34m.\u001b[0m\u001b[0mappend\u001b[0m\u001b[0;34m(\u001b[0m\u001b[0mline_list\u001b[0m\u001b[0;34m[\u001b[0m\u001b[0;36m0\u001b[0m\u001b[0;34m]\u001b[0m\u001b[0;34m)\u001b[0m\u001b[0;34m\u001b[0m\u001b[0;34m\u001b[0m\u001b[0m\n\u001b[0;32m---> 12\u001b[0;31m     \u001b[0mvalues\u001b[0m\u001b[0;34m.\u001b[0m\u001b[0mappend\u001b[0m\u001b[0;34m(\u001b[0m\u001b[0mline_list\u001b[0m\u001b[0;34m[\u001b[0m\u001b[0;36m1\u001b[0m\u001b[0;34m]\u001b[0m\u001b[0;34m)\u001b[0m\u001b[0;34m\u001b[0m\u001b[0;34m\u001b[0m\u001b[0m\n\u001b[0m\u001b[1;32m     13\u001b[0m   \u001b[0;32mif\u001b[0m \u001b[0;32mnot\u001b[0m \u001b[0mline\u001b[0m\u001b[0;34m:\u001b[0m \u001b[0;32mbreak\u001b[0m\u001b[0;34m\u001b[0m\u001b[0;34m\u001b[0m\u001b[0m\n\u001b[1;32m     14\u001b[0m \u001b[0mf\u001b[0m\u001b[0;34m.\u001b[0m\u001b[0mclose\u001b[0m\u001b[0;34m(\u001b[0m\u001b[0;34m)\u001b[0m\u001b[0;34m\u001b[0m\u001b[0;34m\u001b[0m\u001b[0m\n",
            "\u001b[0;31mIndexError\u001b[0m: list index out of range"
          ]
        }
      ]
    },
    {
      "cell_type": "code",
      "source": [
        "# 296\n",
        "\n",
        "per = ['10.31', \"\", '8.00']\n",
        "for i in per:\n",
        "  try:\n",
        "      print(float(i))\n",
        "  except:\n",
        "    print(0)"
      ],
      "metadata": {
        "colab": {
          "base_uri": "https://localhost:8080/"
        },
        "id": "s1pfFr23uT1f",
        "outputId": "a809c0b9-8582-44e7-ffbf-b9065dc113cd"
      },
      "execution_count": null,
      "outputs": [
        {
          "output_type": "stream",
          "name": "stdout",
          "text": [
            "10.31\n",
            "0\n",
            "8.0\n"
          ]
        }
      ]
    },
    {
      "cell_type": "code",
      "source": [
        "# 297\n",
        "\n",
        "per = [\"10.31\", \"\", \"8.00\"]\n",
        "new_list = []\n",
        "for i in per:\n",
        "  try:\n",
        "      float(i)\n",
        "      new_list.append(i) \n",
        "  except:\n",
        "    print(0)\n",
        "\n",
        "print(new_list)"
      ],
      "metadata": {
        "colab": {
          "base_uri": "https://localhost:8080/"
        },
        "id": "BIBaYPspvaSc",
        "outputId": "3f3a3c11-6275-4248-99ec-3bf76bc85083"
      },
      "execution_count": null,
      "outputs": [
        {
          "output_type": "stream",
          "name": "stdout",
          "text": [
            "0\n",
            "['10.31', '8.00']\n"
          ]
        }
      ]
    },
    {
      "cell_type": "code",
      "source": [
        "# 298\n",
        "\n",
        "a = int(input('a 입력 >> '))\n",
        "b = int(input('b 입력 >> '))\n",
        "\n",
        "try:\n",
        "  c = a / b\n",
        "  print(c)\n",
        "except:\n",
        "  print('0으로 나눌 수 없습니다.')"
      ],
      "metadata": {
        "colab": {
          "base_uri": "https://localhost:8080/"
        },
        "id": "C5lfY6-8yE6E",
        "outputId": "a3683686-15a7-42c0-f6ec-ed595f8b0bcf"
      },
      "execution_count": null,
      "outputs": [
        {
          "output_type": "stream",
          "name": "stdout",
          "text": [
            "a 입력 >> 5\n",
            "b 입력 >> 0\n",
            "0으로 나눌 수 없습니다.\n"
          ]
        }
      ]
    },
    {
      "cell_type": "code",
      "source": [
        "# 299\n",
        "\n",
        "data = [1, 2, 3]\n",
        "\n",
        "for i in range(5):\n",
        "  try:\n",
        "    print(data[i])\n",
        "  except IndexError as e:\n",
        "    print(e)"
      ],
      "metadata": {
        "colab": {
          "base_uri": "https://localhost:8080/"
        },
        "id": "HXRk2EYgywJw",
        "outputId": "b7a11f73-cf89-423b-c7b0-e0fbcff63d62"
      },
      "execution_count": null,
      "outputs": [
        {
          "output_type": "stream",
          "name": "stdout",
          "text": [
            "1\n",
            "2\n",
            "3\n",
            "list index out of range\n",
            "list index out of range\n"
          ]
        }
      ]
    },
    {
      "cell_type": "code",
      "source": [
        "# 300\n",
        "\n",
        "per = [\"10.31\", \"\", \"8.00\"]\n",
        "\n",
        "for i in per:\n",
        "  try:\n",
        "    print(float(i))\n",
        "  except:\n",
        "    print('실수 타입이 아닙니다.')\n",
        "  else:\n",
        "    print('else 구문 실행')\n",
        "  finally:\n",
        "    print('finally 구문 실행')\n"
      ],
      "metadata": {
        "colab": {
          "base_uri": "https://localhost:8080/"
        },
        "id": "J5slyArs2b1e",
        "outputId": "2db4b197-e199-4964-d38c-2a80e3756d17"
      },
      "execution_count": null,
      "outputs": [
        {
          "output_type": "stream",
          "name": "stdout",
          "text": [
            "10.31\n",
            "else 구문 실행\n",
            "finally 구문 실행\n",
            "실수 타입이 아닙니다.\n",
            "finally 구문 실행\n",
            "8.0\n",
            "else 구문 실행\n",
            "finally 구문 실행\n"
          ]
        }
      ]
    }
  ]
}