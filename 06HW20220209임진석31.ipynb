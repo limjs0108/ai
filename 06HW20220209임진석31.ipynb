{
  "nbformat": 4,
  "nbformat_minor": 0,
  "metadata": {
    "colab": {
      "name": "06HW20220209임진석31.ipynb",
      "provenance": [],
      "authorship_tag": "ABX9TyNYb9OsE5GIJh4I+yFHbuGg",
      "include_colab_link": true
    },
    "kernelspec": {
      "name": "python3",
      "display_name": "Python 3"
    },
    "language_info": {
      "name": "python"
    }
  },
  "cells": [
    {
      "cell_type": "markdown",
      "metadata": {
        "id": "view-in-github",
        "colab_type": "text"
      },
      "source": [
        "<a href=\"https://colab.research.google.com/github/limjs0108/ai/blob/main/06HW20220209%EC%9E%84%EC%A7%84%EC%84%9D31.ipynb\" target=\"_parent\"><img src=\"https://colab.research.google.com/assets/colab-badge.svg\" alt=\"Open In Colab\"/></a>"
      ]
    },
    {
      "cell_type": "code",
      "source": [
        "# 436 \n",
        "x = ''\n",
        "if bool(x):\n",
        "  print('Yes')\n",
        "else:\n",
        "  print('No')\n",
        "\n",
        "# c. No"
      ],
      "metadata": {
        "id": "bUA_Vz2jjpAi"
      },
      "execution_count": null,
      "outputs": []
    },
    {
      "cell_type": "code",
      "source": [
        "# 437\n",
        "x = ' '\n",
        "if bool(x):\n",
        "  print('Yes')\n",
        "else:\n",
        "  print('No')\n",
        "\n",
        "# b. yes"
      ],
      "metadata": {
        "id": "T0cPuDt-jrYD"
      },
      "execution_count": null,
      "outputs": []
    },
    {
      "cell_type": "code",
      "source": [
        "# 438\n",
        "x = []\n",
        "if bool(x):\n",
        "  print('Yes')\n",
        "else:\n",
        "  print('No')\n",
        "\n",
        "# c. No"
      ],
      "metadata": {
        "id": "wbOY4q64jt8D"
      },
      "execution_count": null,
      "outputs": []
    },
    {
      "cell_type": "code",
      "source": [
        "# 439\n",
        "x = [1, 2, 3]\n",
        "if bool(x):\n",
        "  print('Yes')\n",
        "else:\n",
        "  print('No')\n",
        "\n",
        "# b. Yes"
      ],
      "metadata": {
        "id": "-oK3DGL7jvWi"
      },
      "execution_count": null,
      "outputs": []
    },
    {
      "cell_type": "code",
      "source": [
        "# 440\n",
        "x = ''\n",
        "if not bool(x):\n",
        "  print('Yes')\n",
        "else:\n",
        "  print('No')\n",
        "\n",
        "# a. Yes"
      ],
      "metadata": {
        "id": "Er--rOWFjm6l"
      },
      "execution_count": null,
      "outputs": []
    },
    {
      "cell_type": "code",
      "source": [
        "# 441\n",
        "x = 'print(\"Python\")' \n",
        "eval(x)\n",
        "\n",
        "# c. Python"
      ],
      "metadata": {
        "id": "q77JO2kljkev"
      },
      "execution_count": null,
      "outputs": []
    },
    {
      "cell_type": "code",
      "source": [
        "# 442\n",
        "x = input(\"Enter an expression: \")\n",
        "print(eval(x))\n",
        "\n",
        "# c. 90"
      ],
      "metadata": {
        "id": "Z7PdbqhZi_hj"
      },
      "execution_count": null,
      "outputs": []
    },
    {
      "cell_type": "code",
      "source": [
        "# 444\n",
        "a = ['a', 'b', 'c', 'A', 'B']\n",
        "print(max(a))\n",
        "\n",
        "# d. c"
      ],
      "metadata": {
        "id": "qjHiwKpyjxoO"
      },
      "execution_count": null,
      "outputs": []
    },
    {
      "cell_type": "code",
      "source": [
        "# 445\n",
        "a = ['a', 'b', 'c', 'A', 'B']\n",
        "print(min(a))\n",
        "\n",
        "# b. A"
      ],
      "metadata": {
        "id": "1H2n-1gClX26"
      },
      "execution_count": null,
      "outputs": []
    },
    {
      "cell_type": "code",
      "source": [
        "# 446\n",
        "a = ['a', 'b', 'c','1', '2', 'A', 'B']\n",
        "print(max(a))\n",
        "\n",
        "# d. c"
      ],
      "metadata": {
        "id": "pZhb8RC9kGIX"
      },
      "execution_count": null,
      "outputs": []
    },
    {
      "cell_type": "code",
      "source": [
        "# 447\n",
        "a = ['a', 'b', 'c','1', '2', 'A', 'B']\n",
        "print(min(a))\n",
        "\n",
        "# c. 1"
      ],
      "metadata": {
        "id": "VhBL-E3ekUGO"
      },
      "execution_count": null,
      "outputs": []
    },
    {
      "cell_type": "code",
      "source": [
        "# 448\n",
        "a = [1, 2, 3]\n",
        "print(sum(a))\n",
        "\n",
        "# d. 6"
      ],
      "metadata": {
        "id": "zqyO0ROTkWMS"
      },
      "execution_count": null,
      "outputs": []
    },
    {
      "cell_type": "code",
      "source": [
        "# 449\n",
        "a = list(range(0,10,3))\n",
        "print(sum(a))\n",
        "\n",
        "# c. 18"
      ],
      "metadata": {
        "id": "FCeNIalKkmg7"
      },
      "execution_count": null,
      "outputs": []
    },
    {
      "cell_type": "code",
      "source": [
        "# 450\n",
        "a = list(range(10,-10,3))\n",
        "print(sum(a))\n",
        "\n",
        "# b. 0"
      ],
      "metadata": {
        "id": "7dC-6LBwkz4f"
      },
      "execution_count": null,
      "outputs": []
    },
    {
      "cell_type": "code",
      "source": [
        "# 451\n",
        "a = list(range(-10,5,2))\n",
        "print(sum(a))\n",
        "\n",
        "# a. -24"
      ],
      "metadata": {
        "id": "K2w6vqOElKKS"
      },
      "execution_count": null,
      "outputs": []
    },
    {
      "cell_type": "code",
      "source": [
        "# 452\n",
        "x = [5,4,3,2,1]\n",
        "y = x.copy()\n",
        "x[0] = 6\n",
        "print(y)\n",
        "\n",
        "# c. [5,4,3,2,1]"
      ],
      "metadata": {
        "id": "bWzgcZQhlVXh"
      },
      "execution_count": null,
      "outputs": []
    },
    {
      "cell_type": "code",
      "source": [
        "# 453\n",
        "import copy\n",
        "x = [5,4,3,2,1]\n",
        "y = copy.copy(x)\n",
        "x.append(6)\n",
        "print(y[0])\n",
        "\n",
        "# d. 5"
      ],
      "metadata": {
        "id": "d7ZanK5plmNl"
      },
      "execution_count": null,
      "outputs": []
    },
    {
      "cell_type": "code",
      "source": [
        "# 454\n",
        "import keyword\n",
        "print(keyword.iskeyword('IS'))\n",
        "\n",
        "# d. False"
      ],
      "metadata": {
        "id": "EfKHGJ9gl1WD"
      },
      "execution_count": null,
      "outputs": []
    },
    {
      "cell_type": "code",
      "source": [
        "# 455\n",
        "import keyword\n",
        "print(keyword.iskeyword('for'))\n",
        "\n",
        "# a. True"
      ],
      "metadata": {
        "id": "aPv-3PMOmCZp"
      },
      "execution_count": null,
      "outputs": []
    },
    {
      "cell_type": "code",
      "source": [
        "# Algorithm Homework\n",
        "s_num = 1\n",
        "e_num = 10000\n",
        "cnt = 0 # 8의 개수를 카운팅 하기 위한 변수\n",
        "while s_num < e_num:\n",
        "  for i in str(s_num):  # 숫자를 문자열로 변환하여\n",
        "    if i == '8':        # 각 자리수 마다 8이 있는지 검사\n",
        "      cnt += 1          # 8이 있으면 카운팅\n",
        "  s_num += 1            # 시작 숫자 1 올림\n",
        "\n",
        "print(cnt)"
      ],
      "metadata": {
        "colab": {
          "base_uri": "https://localhost:8080/"
        },
        "id": "x5X-rmPgm6T0",
        "outputId": "37055c3a-9a2a-47f2-b2ea-195a64c72151"
      },
      "execution_count": 23,
      "outputs": [
        {
          "output_type": "stream",
          "name": "stdout",
          "text": [
            "4000\n"
          ]
        }
      ]
    }
  ]
}