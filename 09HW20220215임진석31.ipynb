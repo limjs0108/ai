{
  "nbformat": 4,
  "nbformat_minor": 0,
  "metadata": {
    "colab": {
      "name": "09HW20220215임진석31.ipynb",
      "provenance": [],
      "authorship_tag": "ABX9TyPF6kKPguNadOvAk6O/y0vq",
      "include_colab_link": true
    },
    "kernelspec": {
      "name": "python3",
      "display_name": "Python 3"
    },
    "language_info": {
      "name": "python"
    }
  },
  "cells": [
    {
      "cell_type": "markdown",
      "metadata": {
        "id": "view-in-github",
        "colab_type": "text"
      },
      "source": [
        "<a href=\"https://colab.research.google.com/github/limjs0108/ai/blob/master/09HW20220215%EC%9E%84%EC%A7%84%EC%84%9D31.ipynb\" target=\"_parent\"><img src=\"https://colab.research.google.com/assets/colab-badge.svg\" alt=\"Open In Colab\"/></a>"
      ]
    },
    {
      "cell_type": "code",
      "execution_count": 1,
      "metadata": {
        "colab": {
          "base_uri": "https://localhost:8080/"
        },
        "id": "mRBX_UnrZ1KK",
        "outputId": "d04c6197-b0d2-4a4f-b889-d8f1d7b8eb53"
      },
      "outputs": [
        {
          "output_type": "stream",
          "name": "stdout",
          "text": [
            "[4, 6, 8, 'Today', 'Sunday', 'Monday']\n"
          ]
        }
      ],
      "source": [
        "# 496\n",
        "x = ['Today','Sunday','Monday']\n",
        "y = [4, 6, 8]\n",
        "print(y + x)\n",
        "\n",
        "# b"
      ]
    },
    {
      "cell_type": "code",
      "source": [
        "# 497\n",
        "x = 'Monday'\n",
        "print('Mon' in x)\n",
        "\n",
        "# c"
      ],
      "metadata": {
        "colab": {
          "base_uri": "https://localhost:8080/"
        },
        "id": "A5KYkNMhaj-w",
        "outputId": "0d402c5d-17d4-49aa-8283-8c41b1f03537"
      },
      "execution_count": 2,
      "outputs": [
        {
          "output_type": "stream",
          "name": "stdout",
          "text": [
            "True\n"
          ]
        }
      ]
    },
    {
      "cell_type": "code",
      "source": [
        "# 498\n",
        "x = 'Monday'\n",
        "print('Day' not in x)\n",
        "\n",
        "# c"
      ],
      "metadata": {
        "colab": {
          "base_uri": "https://localhost:8080/"
        },
        "id": "rLKbrYgYapSe",
        "outputId": "a95d404b-e20d-447a-fe99-c4cb08f2ed27"
      },
      "execution_count": 3,
      "outputs": [
        {
          "output_type": "stream",
          "name": "stdout",
          "text": [
            "True\n"
          ]
        }
      ]
    },
    {
      "cell_type": "code",
      "source": [
        "# 499\n",
        "x = ['hot','100',True]\n",
        "weather = x[0]\n",
        "temperature = x[1]\n",
        "humid = x[2]\n",
        "print(weather,temperature,humid)\n",
        "\n",
        "# d"
      ],
      "metadata": {
        "colab": {
          "base_uri": "https://localhost:8080/"
        },
        "id": "LldO1JjSay33",
        "outputId": "435e47ee-8a17-4406-bfea-3f4ab2f975d8"
      },
      "execution_count": 4,
      "outputs": [
        {
          "output_type": "stream",
          "name": "stdout",
          "text": [
            "hot 100 True\n"
          ]
        }
      ]
    },
    {
      "cell_type": "code",
      "source": [
        "# 500\n",
        "x = ['hot','100',True]\n",
        "weather, temperature, humid = x\n",
        "print(weather, temperature, humid)\n",
        "\n",
        "# d"
      ],
      "metadata": {
        "colab": {
          "base_uri": "https://localhost:8080/"
        },
        "id": "sKH9S0IlbEM5",
        "outputId": "edb4423b-a194-4da4-be03-c3238cde25ad"
      },
      "execution_count": 5,
      "outputs": [
        {
          "output_type": "stream",
          "name": "stdout",
          "text": [
            "hot 100 True\n"
          ]
        }
      ]
    },
    {
      "cell_type": "code",
      "source": [
        "# 501\n",
        "x = ['hot','100',True]\n",
        "weather, humid = x\n",
        "print(weather,humid)\n",
        "\n",
        "# a"
      ],
      "metadata": {
        "colab": {
          "base_uri": "https://localhost:8080/",
          "height": 248
        },
        "id": "3Tn8ac3ybXe5",
        "outputId": "2cbcde81-7a2d-4faf-ba15-d70b2d86c2b8"
      },
      "execution_count": 6,
      "outputs": [
        {
          "output_type": "error",
          "ename": "ValueError",
          "evalue": "ignored",
          "traceback": [
            "\u001b[0;31m---------------------------------------------------------------------------\u001b[0m",
            "\u001b[0;31mValueError\u001b[0m                                Traceback (most recent call last)",
            "\u001b[0;32m<ipython-input-6-3a7ceb2e5c0a>\u001b[0m in \u001b[0;36m<module>\u001b[0;34m()\u001b[0m\n\u001b[1;32m      1\u001b[0m \u001b[0;31m# 501\u001b[0m\u001b[0;34m\u001b[0m\u001b[0;34m\u001b[0m\u001b[0;34m\u001b[0m\u001b[0m\n\u001b[1;32m      2\u001b[0m \u001b[0mx\u001b[0m \u001b[0;34m=\u001b[0m \u001b[0;34m[\u001b[0m\u001b[0;34m'hot'\u001b[0m\u001b[0;34m,\u001b[0m\u001b[0;34m'100'\u001b[0m\u001b[0;34m,\u001b[0m\u001b[0;32mTrue\u001b[0m\u001b[0;34m]\u001b[0m\u001b[0;34m\u001b[0m\u001b[0;34m\u001b[0m\u001b[0m\n\u001b[0;32m----> 3\u001b[0;31m \u001b[0mweather\u001b[0m\u001b[0;34m,\u001b[0m \u001b[0mhumid\u001b[0m \u001b[0;34m=\u001b[0m \u001b[0mx\u001b[0m\u001b[0;34m\u001b[0m\u001b[0;34m\u001b[0m\u001b[0m\n\u001b[0m\u001b[1;32m      4\u001b[0m \u001b[0mprint\u001b[0m\u001b[0;34m(\u001b[0m\u001b[0mweather\u001b[0m\u001b[0;34m,\u001b[0m\u001b[0mhumid\u001b[0m\u001b[0;34m)\u001b[0m\u001b[0;34m\u001b[0m\u001b[0;34m\u001b[0m\u001b[0m\n\u001b[1;32m      5\u001b[0m \u001b[0;34m\u001b[0m\u001b[0m\n",
            "\u001b[0;31mValueError\u001b[0m: too many values to unpack (expected 2)"
          ]
        }
      ]
    },
    {
      "cell_type": "code",
      "source": [
        "# 502\n",
        "x = ['hot','100',True]\n",
        "x.remove('100')\n",
        "weather,humid = x\n",
        "print(weather,humid)\n",
        "\n",
        "# c"
      ],
      "metadata": {
        "colab": {
          "base_uri": "https://localhost:8080/"
        },
        "id": "a5tg-ZxxbfmN",
        "outputId": "6468f932-d1e8-4338-a455-2811822a5243"
      },
      "execution_count": 7,
      "outputs": [
        {
          "output_type": "stream",
          "name": "stdout",
          "text": [
            "hot True\n"
          ]
        }
      ]
    },
    {
      "cell_type": "code",
      "source": [
        "# 503\n",
        "x = ['a','b','c','A','B','C']\n",
        "\n",
        "x.sort()\n",
        "print(x)\n",
        "\n",
        "# d"
      ],
      "metadata": {
        "colab": {
          "base_uri": "https://localhost:8080/"
        },
        "id": "WmGdxpjfbqwx",
        "outputId": "6cd5169c-64ce-4444-8000-ae06432490f5"
      },
      "execution_count": 8,
      "outputs": [
        {
          "output_type": "stream",
          "name": "stdout",
          "text": [
            "['A', 'B', 'C', 'a', 'b', 'c']\n"
          ]
        }
      ]
    },
    {
      "cell_type": "code",
      "source": [
        "# 504\n",
        "x = ['a','b','c','A','B','C']\n",
        "x.sort(key=str.lower)\n",
        "print(x)\n",
        "\n",
        "# c"
      ],
      "metadata": {
        "colab": {
          "base_uri": "https://localhost:8080/"
        },
        "id": "v8eCnSMvbz8K",
        "outputId": "d30ae6e7-7248-4089-83fd-05dd1a33b4a2"
      },
      "execution_count": 9,
      "outputs": [
        {
          "output_type": "stream",
          "name": "stdout",
          "text": [
            "['a', 'A', 'b', 'B', 'c', 'C']\n"
          ]
        }
      ]
    },
    {
      "cell_type": "code",
      "source": [
        "# 505\n",
        "x = ['a','b','c','A','B','C']\n",
        "x.sort(key=str.swapcase)\n",
        "print(x)\n",
        "\n",
        "# b"
      ],
      "metadata": {
        "colab": {
          "base_uri": "https://localhost:8080/"
        },
        "id": "RwW-RdhicEzQ",
        "outputId": "60e7a3cf-50d5-4822-d901-529bb3c4c0a2"
      },
      "execution_count": 10,
      "outputs": [
        {
          "output_type": "stream",
          "name": "stdout",
          "text": [
            "['a', 'b', 'c', 'A', 'B', 'C']\n"
          ]
        }
      ]
    },
    {
      "cell_type": "code",
      "source": [
        "# 506\n",
        "x = ['a','b',1,2,'A','B']\n",
        "x.sort()\n",
        "print(x)\n",
        "\n",
        "# a"
      ],
      "metadata": {
        "colab": {
          "base_uri": "https://localhost:8080/",
          "height": 248
        },
        "id": "nj2KweT4cPjR",
        "outputId": "0de2cbc5-e401-430b-fb0a-792a75142a75"
      },
      "execution_count": 11,
      "outputs": [
        {
          "output_type": "error",
          "ename": "TypeError",
          "evalue": "ignored",
          "traceback": [
            "\u001b[0;31m---------------------------------------------------------------------------\u001b[0m",
            "\u001b[0;31mTypeError\u001b[0m                                 Traceback (most recent call last)",
            "\u001b[0;32m<ipython-input-11-d4977fb08344>\u001b[0m in \u001b[0;36m<module>\u001b[0;34m()\u001b[0m\n\u001b[1;32m      1\u001b[0m \u001b[0;31m# 506\u001b[0m\u001b[0;34m\u001b[0m\u001b[0;34m\u001b[0m\u001b[0;34m\u001b[0m\u001b[0m\n\u001b[1;32m      2\u001b[0m \u001b[0mx\u001b[0m \u001b[0;34m=\u001b[0m \u001b[0;34m[\u001b[0m\u001b[0;34m'a'\u001b[0m\u001b[0;34m,\u001b[0m\u001b[0;34m'b'\u001b[0m\u001b[0;34m,\u001b[0m\u001b[0;36m1\u001b[0m\u001b[0;34m,\u001b[0m\u001b[0;36m2\u001b[0m\u001b[0;34m,\u001b[0m\u001b[0;34m'A'\u001b[0m\u001b[0;34m,\u001b[0m\u001b[0;34m'B'\u001b[0m\u001b[0;34m]\u001b[0m\u001b[0;34m\u001b[0m\u001b[0;34m\u001b[0m\u001b[0m\n\u001b[0;32m----> 3\u001b[0;31m \u001b[0mx\u001b[0m\u001b[0;34m.\u001b[0m\u001b[0msort\u001b[0m\u001b[0;34m(\u001b[0m\u001b[0;34m)\u001b[0m\u001b[0;34m\u001b[0m\u001b[0;34m\u001b[0m\u001b[0m\n\u001b[0m\u001b[1;32m      4\u001b[0m \u001b[0mprint\u001b[0m\u001b[0;34m(\u001b[0m\u001b[0mx\u001b[0m\u001b[0;34m)\u001b[0m\u001b[0;34m\u001b[0m\u001b[0;34m\u001b[0m\u001b[0m\n\u001b[1;32m      5\u001b[0m \u001b[0;34m\u001b[0m\u001b[0m\n",
            "\u001b[0;31mTypeError\u001b[0m: '<' not supported between instances of 'int' and 'str'"
          ]
        }
      ]
    },
    {
      "cell_type": "code",
      "source": [
        "# 507\n",
        "import random\n",
        "x = ['Monday','Tuesday','Wednesday','Thursday','Friday','Saturday','Sunday']\n",
        "print(x[random.randint(0, len(x)-1)])\n",
        "\n",
        "# b"
      ],
      "metadata": {
        "colab": {
          "base_uri": "https://localhost:8080/"
        },
        "id": "oJH3Uy8bcbJz",
        "outputId": "39d55c46-93d4-4e00-c695-10faf0c25256"
      },
      "execution_count": 39,
      "outputs": [
        {
          "output_type": "stream",
          "name": "stdout",
          "text": [
            "Monday\n"
          ]
        }
      ]
    },
    {
      "cell_type": "code",
      "source": [
        "# 508\n",
        "x = 'Today is a nice day' + \\'I will go for a walk today'\n",
        "print(x)\n",
        "\n",
        "# a"
      ],
      "metadata": {
        "colab": {
          "base_uri": "https://localhost:8080/",
          "height": 137
        },
        "id": "YCiMPsC7c-fI",
        "outputId": "553a446c-c740-4ade-f952-471bd260a750"
      },
      "execution_count": 40,
      "outputs": [
        {
          "output_type": "error",
          "ename": "SyntaxError",
          "evalue": "ignored",
          "traceback": [
            "\u001b[0;36m  File \u001b[0;32m\"<ipython-input-40-aec420baf420>\"\u001b[0;36m, line \u001b[0;32m2\u001b[0m\n\u001b[0;31m    x = 'Today is a nice day' + \\'I will go for a walk today'\u001b[0m\n\u001b[0m                                                             ^\u001b[0m\n\u001b[0;31mSyntaxError\u001b[0m\u001b[0;31m:\u001b[0m unexpected character after line continuation character\n"
          ]
        }
      ]
    },
    {
      "cell_type": "code",
      "source": [
        "# 509\n",
        "x = 'Today is a nice day'\n",
        "x[9] = 'not'\n",
        "print(x)\n",
        "\n",
        "# a"
      ],
      "metadata": {
        "colab": {
          "base_uri": "https://localhost:8080/",
          "height": 229
        },
        "id": "o-E5XUBbdM5B",
        "outputId": "528d0bd0-6e80-4029-a6a5-395da1513f76"
      },
      "execution_count": 41,
      "outputs": [
        {
          "output_type": "error",
          "ename": "TypeError",
          "evalue": "ignored",
          "traceback": [
            "\u001b[0;31m---------------------------------------------------------------------------\u001b[0m",
            "\u001b[0;31mTypeError\u001b[0m                                 Traceback (most recent call last)",
            "\u001b[0;32m<ipython-input-41-2ca73f5ee14c>\u001b[0m in \u001b[0;36m<module>\u001b[0;34m()\u001b[0m\n\u001b[1;32m      1\u001b[0m \u001b[0;31m# 509\u001b[0m\u001b[0;34m\u001b[0m\u001b[0;34m\u001b[0m\u001b[0;34m\u001b[0m\u001b[0m\n\u001b[1;32m      2\u001b[0m \u001b[0mx\u001b[0m \u001b[0;34m=\u001b[0m \u001b[0;34m'Today is a nice day'\u001b[0m\u001b[0;34m\u001b[0m\u001b[0;34m\u001b[0m\u001b[0m\n\u001b[0;32m----> 3\u001b[0;31m \u001b[0mx\u001b[0m\u001b[0;34m[\u001b[0m\u001b[0;36m9\u001b[0m\u001b[0;34m]\u001b[0m \u001b[0;34m=\u001b[0m \u001b[0;34m'not'\u001b[0m\u001b[0;34m\u001b[0m\u001b[0;34m\u001b[0m\u001b[0m\n\u001b[0m\u001b[1;32m      4\u001b[0m \u001b[0mprint\u001b[0m\u001b[0;34m(\u001b[0m\u001b[0mx\u001b[0m\u001b[0;34m)\u001b[0m\u001b[0;34m\u001b[0m\u001b[0;34m\u001b[0m\u001b[0m\n",
            "\u001b[0;31mTypeError\u001b[0m: 'str' object does not support item assignment"
          ]
        }
      ]
    },
    {
      "cell_type": "code",
      "source": [
        "# 510\n",
        "x = 'Today is a nice day'\n",
        "y = x[:9] + 'not ' + x[9:]\n",
        "print(y)\n",
        "\n",
        "# d"
      ],
      "metadata": {
        "colab": {
          "base_uri": "https://localhost:8080/"
        },
        "id": "aMNH-fHCdc08",
        "outputId": "f1b4fbef-e597-44bb-d390-f831b6192ab3"
      },
      "execution_count": 44,
      "outputs": [
        {
          "output_type": "stream",
          "name": "stdout",
          "text": [
            "Today is not a nice day\n"
          ]
        }
      ]
    },
    {
      "cell_type": "code",
      "source": [
        "# 511\n",
        "x = 'Today is a nice day'\n",
        "y = x[:9] + 'not ' + x[9:]\n",
        "print(x)\n",
        "\n",
        "# b"
      ],
      "metadata": {
        "colab": {
          "base_uri": "https://localhost:8080/"
        },
        "id": "FEE8dacLdriJ",
        "outputId": "598dfd8a-58b7-4c45-b982-ed327bfa3922"
      },
      "execution_count": 45,
      "outputs": [
        {
          "output_type": "stream",
          "name": "stdout",
          "text": [
            "Today is a nice day\n"
          ]
        }
      ]
    },
    {
      "cell_type": "code",
      "source": [
        "# 512\n",
        "x = 'Today is not a nice day'\n",
        "x = 'Today is a nice day'\n",
        "print(x)\n",
        "\n",
        "# b"
      ],
      "metadata": {
        "colab": {
          "base_uri": "https://localhost:8080/"
        },
        "id": "IThvDaBpd3Xq",
        "outputId": "9794058d-2eec-4a3d-c0b5-d6b4ce2945b6"
      },
      "execution_count": 46,
      "outputs": [
        {
          "output_type": "stream",
          "name": "stdout",
          "text": [
            "Today is a nice day\n"
          ]
        }
      ]
    },
    {
      "cell_type": "code",
      "source": [
        "# 513\n",
        "x = ('Today','nice','day')\n",
        "x[1] = 'not'\n",
        "print(x)\n",
        "\n",
        "# a"
      ],
      "metadata": {
        "colab": {
          "base_uri": "https://localhost:8080/",
          "height": 229
        },
        "id": "2OFDegMSeCjj",
        "outputId": "46ba3957-6931-4364-b4a2-eb95037778ae"
      },
      "execution_count": 47,
      "outputs": [
        {
          "output_type": "error",
          "ename": "TypeError",
          "evalue": "ignored",
          "traceback": [
            "\u001b[0;31m---------------------------------------------------------------------------\u001b[0m",
            "\u001b[0;31mTypeError\u001b[0m                                 Traceback (most recent call last)",
            "\u001b[0;32m<ipython-input-47-7206e5b6515b>\u001b[0m in \u001b[0;36m<module>\u001b[0;34m()\u001b[0m\n\u001b[1;32m      1\u001b[0m \u001b[0;31m# 513\u001b[0m\u001b[0;34m\u001b[0m\u001b[0;34m\u001b[0m\u001b[0;34m\u001b[0m\u001b[0m\n\u001b[1;32m      2\u001b[0m \u001b[0mx\u001b[0m \u001b[0;34m=\u001b[0m \u001b[0;34m(\u001b[0m\u001b[0;34m'Today'\u001b[0m\u001b[0;34m,\u001b[0m\u001b[0;34m'nice'\u001b[0m\u001b[0;34m,\u001b[0m\u001b[0;34m'day'\u001b[0m\u001b[0;34m)\u001b[0m\u001b[0;34m\u001b[0m\u001b[0;34m\u001b[0m\u001b[0m\n\u001b[0;32m----> 3\u001b[0;31m \u001b[0mx\u001b[0m\u001b[0;34m[\u001b[0m\u001b[0;36m1\u001b[0m\u001b[0;34m]\u001b[0m \u001b[0;34m=\u001b[0m \u001b[0;34m'not'\u001b[0m\u001b[0;34m\u001b[0m\u001b[0;34m\u001b[0m\u001b[0m\n\u001b[0m\u001b[1;32m      4\u001b[0m \u001b[0mprint\u001b[0m\u001b[0;34m(\u001b[0m\u001b[0mx\u001b[0m\u001b[0;34m)\u001b[0m\u001b[0;34m\u001b[0m\u001b[0;34m\u001b[0m\u001b[0m\n",
            "\u001b[0;31mTypeError\u001b[0m: 'tuple' object does not support item assignment"
          ]
        }
      ]
    },
    {
      "cell_type": "code",
      "source": [
        "# 514\n",
        "x = ('Today')\n",
        "print(x)\n",
        "\n",
        "# b"
      ],
      "metadata": {
        "id": "sT7mr1beegG6"
      },
      "execution_count": null,
      "outputs": []
    },
    {
      "cell_type": "code",
      "source": [
        "# 515\n",
        "x = ('Today',)\n",
        "print(x)\n",
        "\n",
        "# c"
      ],
      "metadata": {
        "id": "crQBg2A_egs4"
      },
      "execution_count": null,
      "outputs": []
    },
    {
      "cell_type": "code",
      "source": [
        "# Algorithm Homework\n",
        "\n",
        "def search(x,y,z):\n",
        "  if x + y + z != 180 or (x <= 0 or y <= 0 or z <= 0):\n",
        "    print(f'[{x}, {y}, {z}] = 삼각형이 아니다')\n",
        "  else:\n",
        "    if x < 90 and y < 90 and z < 90:\n",
        "      print(f'[{x}, {y}, {z}] = 예각삼각형')\n",
        "    elif x == 90 or y == 90 or z == 90:\n",
        "      print(f'[{x}, {y}, {z}] = 직각삼각형')\n",
        "    else:\n",
        "      print(f'[{x}, {y}, {z}] = 둔각삼각형')\n",
        "  return ''\n",
        "\n",
        "x = int(input('제1각을 입력하세요'))\n",
        "y = int(input('제2각을 입력하세요'))\n",
        "z = int(input('제3각을 입력하세요'))\n",
        "\n",
        "print(search(x,y,z))"
      ],
      "metadata": {
        "colab": {
          "base_uri": "https://localhost:8080/"
        },
        "id": "fEBPVQuvelrB",
        "outputId": "e9a7685f-e958-4376-a971-60fe1af3725b"
      },
      "execution_count": 68,
      "outputs": [
        {
          "output_type": "stream",
          "name": "stdout",
          "text": [
            "제1각을 입력하세요100\n",
            "제2각을 입력하세요100\n",
            "제3각을 입력하세요-20\n",
            "[100, 100, -20] = 삼각형이 아니다\n",
            "\n"
          ]
        }
      ]
    }
  ]
}