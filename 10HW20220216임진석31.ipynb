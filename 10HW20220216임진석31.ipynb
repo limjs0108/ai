{
  "nbformat": 4,
  "nbformat_minor": 0,
  "metadata": {
    "colab": {
      "name": "10HW20220216임진석31.ipynb",
      "provenance": [],
      "collapsed_sections": [],
      "authorship_tag": "ABX9TyP3IeSFY0T3d9Thmx162aMh",
      "include_colab_link": true
    },
    "kernelspec": {
      "name": "python3",
      "display_name": "Python 3"
    },
    "language_info": {
      "name": "python"
    }
  },
  "cells": [
    {
      "cell_type": "markdown",
      "metadata": {
        "id": "view-in-github",
        "colab_type": "text"
      },
      "source": [
        "<a href=\"https://colab.research.google.com/github/limjs0108/ai/blob/master/10HW20220216%EC%9E%84%EC%A7%84%EC%84%9D31.ipynb\" target=\"_parent\"><img src=\"https://colab.research.google.com/assets/colab-badge.svg\" alt=\"Open In Colab\"/></a>"
      ]
    },
    {
      "cell_type": "code",
      "execution_count": 1,
      "metadata": {
        "id": "Zg8F3y6tjpfZ"
      },
      "outputs": [],
      "source": [
        "# 516\n",
        "x = [1, 2, 3, 4] \n",
        "y = tuple(x)\n",
        "\n",
        "# c"
      ]
    },
    {
      "cell_type": "code",
      "source": [
        "# 517\n",
        "x = [1, 2, 3, 4] \n",
        "y = tuple(x)\n",
        "z = list(y)\n",
        "\n",
        "# d"
      ],
      "metadata": {
        "colab": {
          "base_uri": "https://localhost:8080/"
        },
        "id": "ILHJbyxIk2Eq",
        "outputId": "aefa59a4-29ae-42e8-fe52-7297aa6aa1b9"
      },
      "execution_count": 3,
      "outputs": [
        {
          "output_type": "execute_result",
          "data": {
            "text/plain": [
              "list"
            ]
          },
          "metadata": {},
          "execution_count": 3
        }
      ]
    },
    {
      "cell_type": "code",
      "source": [
        "# 518\n",
        "x = 'Python' \n",
        "y = list(x) \n",
        "print(y)\n",
        "\n",
        "# d"
      ],
      "metadata": {
        "colab": {
          "base_uri": "https://localhost:8080/"
        },
        "id": "feGnBsVclAIa",
        "outputId": "bb1a8237-8624-4a36-f5ba-ca81ad9d8fe5"
      },
      "execution_count": 4,
      "outputs": [
        {
          "output_type": "stream",
          "name": "stdout",
          "text": [
            "['P', 'y', 't', 'h', 'o', 'n']\n"
          ]
        }
      ]
    },
    {
      "cell_type": "code",
      "source": [
        "# 519\n",
        "x = 'Python' \n",
        "y = tuple(x) \n",
        "print(y)\n",
        "\n",
        "# c"
      ],
      "metadata": {
        "colab": {
          "base_uri": "https://localhost:8080/"
        },
        "id": "CJIWxqkJl9Fw",
        "outputId": "552b6f6e-5dff-4526-d637-5ec3962e4a41"
      },
      "execution_count": 5,
      "outputs": [
        {
          "output_type": "stream",
          "name": "stdout",
          "text": [
            "('P', 'y', 't', 'h', 'o', 'n')\n"
          ]
        }
      ]
    },
    {
      "cell_type": "code",
      "source": [
        "# 520\n",
        "x = ('Python') \n",
        "print(x)\n",
        "\n",
        "# b"
      ],
      "metadata": {
        "colab": {
          "base_uri": "https://localhost:8080/"
        },
        "id": "9nKgSWFgmHjh",
        "outputId": "3b80f835-d690-4a05-9a1e-9b84e17b5637"
      },
      "execution_count": 6,
      "outputs": [
        {
          "output_type": "stream",
          "name": "stdout",
          "text": [
            "Python\n"
          ]
        }
      ]
    },
    {
      "cell_type": "code",
      "source": [
        "# 521\n",
        "x = ('Python',) \n",
        "print(x)\n",
        "\n",
        "# a"
      ],
      "metadata": {
        "colab": {
          "base_uri": "https://localhost:8080/"
        },
        "id": "gMVwZ3qHmOmm",
        "outputId": "3866b6fe-5b46-4a3f-f5dc-b3cee1474b70"
      },
      "execution_count": 7,
      "outputs": [
        {
          "output_type": "stream",
          "name": "stdout",
          "text": [
            "('Python',)\n"
          ]
        }
      ]
    },
    {
      "cell_type": "code",
      "source": [
        "# 522\n",
        "x = [0, 2, 4, 6] \n",
        "print(tuple(x))\n",
        "\n",
        "# b"
      ],
      "metadata": {
        "colab": {
          "base_uri": "https://localhost:8080/"
        },
        "id": "dhHUQkH9mWjD",
        "outputId": "0e26275a-57b0-4bff-e825-12f006d8c150"
      },
      "execution_count": 8,
      "outputs": [
        {
          "output_type": "stream",
          "name": "stdout",
          "text": [
            "(0, 2, 4, 6)\n"
          ]
        }
      ]
    },
    {
      "cell_type": "code",
      "source": [
        "# 523\n",
        "x = (0, 2, 4, 6) \n",
        "print(list(x))\n",
        "\n",
        "# a"
      ],
      "metadata": {
        "colab": {
          "base_uri": "https://localhost:8080/"
        },
        "id": "O3i1-9Camehl",
        "outputId": "2b340bfc-71b5-4e63-bf31-4a89fc0e3c66"
      },
      "execution_count": 9,
      "outputs": [
        {
          "output_type": "stream",
          "name": "stdout",
          "text": [
            "[0, 2, 4, 6]\n"
          ]
        }
      ]
    },
    {
      "cell_type": "code",
      "source": [
        "# 524\n",
        "x = 'Python' \n",
        "print(list(x))\n",
        "\n",
        "# c"
      ],
      "metadata": {
        "colab": {
          "base_uri": "https://localhost:8080/"
        },
        "id": "LfKqx1EqmlzH",
        "outputId": "42188813-a3e0-473f-fcbc-7cff86e4bbd6"
      },
      "execution_count": 10,
      "outputs": [
        {
          "output_type": "stream",
          "name": "stdout",
          "text": [
            "['P', 'y', 't', 'h', 'o', 'n']\n"
          ]
        }
      ]
    },
    {
      "cell_type": "code",
      "source": [
        "# 525\n",
        "x = 'Python' \n",
        "print(tuple(x))\n",
        "\n",
        "# a"
      ],
      "metadata": {
        "colab": {
          "base_uri": "https://localhost:8080/"
        },
        "id": "fqnWh5l3mqJm",
        "outputId": "7e785fdd-e4bc-455f-f478-1ebf745d2ac4"
      },
      "execution_count": 11,
      "outputs": [
        {
          "output_type": "stream",
          "name": "stdout",
          "text": [
            "('P', 'y', 't', 'h', 'o', 'n')\n"
          ]
        }
      ]
    },
    {
      "cell_type": "code",
      "source": [
        "# 526\n",
        "x = [4, 5, 7, 8, 9] \n",
        "y = x \n",
        "y[1] = 6 \n",
        "print(y)\n",
        "\n",
        "# c"
      ],
      "metadata": {
        "colab": {
          "base_uri": "https://localhost:8080/"
        },
        "id": "iM-mKTMGmwSw",
        "outputId": "781b7a95-d267-4518-c058-7531ecd972ab"
      },
      "execution_count": 12,
      "outputs": [
        {
          "output_type": "stream",
          "name": "stdout",
          "text": [
            "[4, 6, 7, 8, 9]\n"
          ]
        }
      ]
    },
    {
      "cell_type": "code",
      "source": [
        "# 527\n",
        "x = [4, 5, 7, 8, 9] \n",
        "y = x \n",
        "y[1] = 6 \n",
        "print(x)\n",
        "\n",
        "# c"
      ],
      "metadata": {
        "colab": {
          "base_uri": "https://localhost:8080/"
        },
        "id": "eusSgY9Bm3hC",
        "outputId": "64892653-b918-452c-879e-cab89dcc63c2"
      },
      "execution_count": 13,
      "outputs": [
        {
          "output_type": "stream",
          "name": "stdout",
          "text": [
            "[4, 6, 7, 8, 9]\n"
          ]
        }
      ]
    },
    {
      "cell_type": "code",
      "source": [
        "# 528\n",
        "def abc(z): \n",
        "  z.append(44) \n",
        "  \n",
        "x = [7, 8, 9] \n",
        "abc(x) \n",
        "print(x) \n",
        "\n",
        "# b"
      ],
      "metadata": {
        "colab": {
          "base_uri": "https://localhost:8080/"
        },
        "id": "jPM7-7R2nHmE",
        "outputId": "9066d039-48cc-4871-c03f-9552a47237dc"
      },
      "execution_count": 14,
      "outputs": [
        {
          "output_type": "stream",
          "name": "stdout",
          "text": [
            "[7, 8, 9, 44]\n"
          ]
        }
      ]
    },
    {
      "cell_type": "code",
      "source": [
        "# 529\n",
        "import copy \n",
        "x = [5, 4, 3, 2, 1] \n",
        "y = copy.copy(x) \n",
        "x.append(6) \n",
        "print(y[-1])\n",
        "\n",
        "# d"
      ],
      "metadata": {
        "colab": {
          "base_uri": "https://localhost:8080/"
        },
        "id": "vyW0ZjX_nRyw",
        "outputId": "000e24cf-5434-4948-8a68-c9ff832dea97"
      },
      "execution_count": 15,
      "outputs": [
        {
          "output_type": "stream",
          "name": "stdout",
          "text": [
            "1\n"
          ]
        }
      ]
    },
    {
      "cell_type": "code",
      "source": [
        "# 530\n",
        "import copy \n",
        "x = [5, 4, 3, 2, 1] \n",
        "y = copy.copy(x) \n",
        "x[2] = 6 \n",
        "print(y[2])\n",
        "\n",
        "# a"
      ],
      "metadata": {
        "colab": {
          "base_uri": "https://localhost:8080/"
        },
        "id": "UFxBro9NnaqJ",
        "outputId": "ab4b0e18-24d9-4da2-ec87-160a6fbff7a4"
      },
      "execution_count": 16,
      "outputs": [
        {
          "output_type": "stream",
          "name": "stdout",
          "text": [
            "3\n"
          ]
        }
      ]
    },
    {
      "cell_type": "code",
      "source": [
        "# 531\n",
        "import copy \n",
        "x = [5, 4, 3, 2, 1]\n",
        "y = [7, 8, 9] \n",
        "z = [x, y] \n",
        "a = copy.copy(z) \n",
        "x[2] = 6 \n",
        "print(a) \n",
        "\n",
        "# b"
      ],
      "metadata": {
        "colab": {
          "base_uri": "https://localhost:8080/"
        },
        "id": "SyCu3WZjniQc",
        "outputId": "f88cf9f2-c03a-4f94-bbe1-d28acd944e3b"
      },
      "execution_count": 17,
      "outputs": [
        {
          "output_type": "stream",
          "name": "stdout",
          "text": [
            "[[5, 4, 6, 2, 1], [7, 8, 9]]\n"
          ]
        }
      ]
    },
    {
      "cell_type": "code",
      "source": [
        "# 532\n",
        "import copy \n",
        "x = [5, 4, 3, 2, 1] \n",
        "y = [7, 8, 9] \n",
        "z = [x, y] \n",
        "a = copy.deepcopy(z) \n",
        "x[2] = 6 \n",
        "print(a) \n",
        "\n",
        "# a"
      ],
      "metadata": {
        "colab": {
          "base_uri": "https://localhost:8080/"
        },
        "id": "DD_yT58dn5tC",
        "outputId": "91366253-328e-4f77-bd73-bcb8b64011b4"
      },
      "execution_count": 18,
      "outputs": [
        {
          "output_type": "stream",
          "name": "stdout",
          "text": [
            "[[5, 4, 3, 2, 1], [7, 8, 9]]\n"
          ]
        }
      ]
    },
    {
      "cell_type": "code",
      "source": [
        "# 533\n",
        "x = {'day':'Sunday', 'week':10} \n",
        "print(x['year']) \n",
        "\n",
        "# b"
      ],
      "metadata": {
        "colab": {
          "base_uri": "https://localhost:8080/",
          "height": 248
        },
        "id": "A8hWBEe6oD8I",
        "outputId": "d6c9b00d-35aa-45c3-e9ed-0173c90faa55"
      },
      "execution_count": 19,
      "outputs": [
        {
          "output_type": "error",
          "ename": "KeyError",
          "evalue": "ignored",
          "traceback": [
            "\u001b[0;31m---------------------------------------------------------------------------\u001b[0m",
            "\u001b[0;31mKeyError\u001b[0m                                  Traceback (most recent call last)",
            "\u001b[0;32m<ipython-input-19-dae85b33162f>\u001b[0m in \u001b[0;36m<module>\u001b[0;34m()\u001b[0m\n\u001b[1;32m      1\u001b[0m \u001b[0;31m# 533\u001b[0m\u001b[0;34m\u001b[0m\u001b[0;34m\u001b[0m\u001b[0;34m\u001b[0m\u001b[0m\n\u001b[1;32m      2\u001b[0m \u001b[0mx\u001b[0m \u001b[0;34m=\u001b[0m \u001b[0;34m{\u001b[0m\u001b[0;34m'day'\u001b[0m\u001b[0;34m:\u001b[0m\u001b[0;34m'Sunday'\u001b[0m\u001b[0;34m,\u001b[0m \u001b[0;34m'week'\u001b[0m\u001b[0;34m:\u001b[0m\u001b[0;36m10\u001b[0m\u001b[0;34m}\u001b[0m\u001b[0;34m\u001b[0m\u001b[0;34m\u001b[0m\u001b[0m\n\u001b[0;32m----> 3\u001b[0;31m \u001b[0mprint\u001b[0m\u001b[0;34m(\u001b[0m\u001b[0mx\u001b[0m\u001b[0;34m[\u001b[0m\u001b[0;34m'year'\u001b[0m\u001b[0;34m]\u001b[0m\u001b[0;34m)\u001b[0m\u001b[0;34m\u001b[0m\u001b[0;34m\u001b[0m\u001b[0m\n\u001b[0m\u001b[1;32m      4\u001b[0m \u001b[0;34m\u001b[0m\u001b[0m\n\u001b[1;32m      5\u001b[0m \u001b[0;31m# b\u001b[0m\u001b[0;34m\u001b[0m\u001b[0;34m\u001b[0m\u001b[0;34m\u001b[0m\u001b[0m\n",
            "\u001b[0;31mKeyError\u001b[0m: 'year'"
          ]
        }
      ]
    },
    {
      "cell_type": "code",
      "source": [
        "# 534\n",
        "x = {'day':'Sunday', 'week':10} \n",
        "for i in x.values(): \n",
        "  print(i, end=' ') \n",
        "\n",
        "# a"
      ],
      "metadata": {
        "colab": {
          "base_uri": "https://localhost:8080/"
        },
        "id": "1Z0pyZvZoMhd",
        "outputId": "7177c254-11e8-4abb-f2b6-bf99f8356bdf"
      },
      "execution_count": 21,
      "outputs": [
        {
          "output_type": "stream",
          "name": "stdout",
          "text": [
            "Sunday 10 "
          ]
        }
      ]
    },
    {
      "cell_type": "code",
      "source": [
        "# 535\n",
        "x = {'day':'Sunday', 'week':10} \n",
        "for i in x: \n",
        "  print(i, end=' ')\n",
        "\n",
        "# b"
      ],
      "metadata": {
        "colab": {
          "base_uri": "https://localhost:8080/"
        },
        "id": "Z2GcAxKvoZmh",
        "outputId": "b6f8d252-fef0-46c2-9689-7d446a345b4e"
      },
      "execution_count": 22,
      "outputs": [
        {
          "output_type": "stream",
          "name": "stdout",
          "text": [
            "day week "
          ]
        }
      ]
    },
    {
      "cell_type": "code",
      "source": [
        "# Algorithm Homework\n",
        "import math\n",
        "try:\n",
        "  num = float(input('입력하시오 : '))\n",
        "  r_num = round(eval('num/2'),1)\n",
        "  res = str(r_num)\n",
        "  if res[-1] == '5' or res[-1] == '0':\n",
        "    print('정수입니다.')\n",
        "  else:\n",
        "    print('소수입니다.') \n",
        "except:\n",
        "  print('math error')\n"
      ],
      "metadata": {
        "colab": {
          "base_uri": "https://localhost:8080/"
        },
        "id": "zdEP3e61oxU9",
        "outputId": "9ea4cc19-96d9-4d9e-ff44-ec2538accbc9"
      },
      "execution_count": 57,
      "outputs": [
        {
          "output_type": "stream",
          "name": "stdout",
          "text": [
            "입력하시오 : 0.335\n",
            "소수입니다.\n"
          ]
        }
      ]
    }
  ]
}