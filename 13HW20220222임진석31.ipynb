{
  "nbformat": 4,
  "nbformat_minor": 0,
  "metadata": {
    "colab": {
      "name": "13HW20220222임진석31.ipynb",
      "provenance": [],
      "collapsed_sections": [],
      "authorship_tag": "ABX9TyMjSE5oL1NE1ftOIeGPCEOb",
      "include_colab_link": true
    },
    "kernelspec": {
      "name": "python3",
      "display_name": "Python 3"
    },
    "language_info": {
      "name": "python"
    }
  },
  "cells": [
    {
      "cell_type": "markdown",
      "metadata": {
        "id": "view-in-github",
        "colab_type": "text"
      },
      "source": [
        "<a href=\"https://colab.research.google.com/github/limjs0108/ai/blob/master/13HW20220222%EC%9E%84%EC%A7%84%EC%84%9D31.ipynb\" target=\"_parent\"><img src=\"https://colab.research.google.com/assets/colab-badge.svg\" alt=\"Open In Colab\"/></a>"
      ]
    },
    {
      "cell_type": "code",
      "execution_count": null,
      "metadata": {
        "id": "UzyqHIyQdKnU"
      },
      "outputs": [],
      "source": [
        "# 1\n",
        "\n",
        "# d"
      ]
    },
    {
      "cell_type": "code",
      "source": [
        "# 2\n",
        "\n",
        "# d"
      ],
      "metadata": {
        "id": "H2I--A5Sdgin"
      },
      "execution_count": null,
      "outputs": []
    },
    {
      "cell_type": "code",
      "source": [
        "# 3\n",
        "\n",
        "# b"
      ],
      "metadata": {
        "id": "KyLDfDKYds9C"
      },
      "execution_count": null,
      "outputs": []
    },
    {
      "cell_type": "code",
      "source": [
        "# 4\n",
        "\n",
        "# b"
      ],
      "metadata": {
        "id": "EWwYyBQjePCn"
      },
      "execution_count": null,
      "outputs": []
    },
    {
      "cell_type": "code",
      "source": [
        "# 5\n",
        "\n",
        "# a"
      ],
      "metadata": {
        "id": "FuC_XRbzee1o"
      },
      "execution_count": null,
      "outputs": []
    },
    {
      "cell_type": "code",
      "source": [
        "# 6\n",
        "\n",
        "# c"
      ],
      "metadata": {
        "id": "DiVmLjIWep1H"
      },
      "execution_count": null,
      "outputs": []
    },
    {
      "cell_type": "code",
      "source": [
        "# 7\n",
        "\n",
        "# d"
      ],
      "metadata": {
        "id": "j4wqHyGuf6Cs"
      },
      "execution_count": null,
      "outputs": []
    },
    {
      "cell_type": "code",
      "source": [
        "# 8\n",
        "\n",
        "# a"
      ],
      "metadata": {
        "id": "SEUS_RQtf-Lk"
      },
      "execution_count": null,
      "outputs": []
    },
    {
      "cell_type": "code",
      "source": [
        "# 9\n",
        "\n",
        "# d"
      ],
      "metadata": {
        "id": "hy_MdYx9gQEm"
      },
      "execution_count": null,
      "outputs": []
    },
    {
      "cell_type": "code",
      "source": [
        "# 10\n",
        "\n",
        "# b"
      ],
      "metadata": {
        "id": "YwpL2rSlghwl"
      },
      "execution_count": null,
      "outputs": []
    },
    {
      "cell_type": "code",
      "source": [
        "# 11\n",
        "\n",
        "multi = []\n",
        "\n",
        "for i in range(1,1001):\n",
        "  if (i % 3 == 0) or (i % 5 == 0):\n",
        "    multi.append(i)\n",
        "\n",
        "print(sum(multi))"
      ],
      "metadata": {
        "colab": {
          "base_uri": "https://localhost:8080/"
        },
        "id": "rCny8NKBgp9K",
        "outputId": "d1adcbc3-e58a-4170-daab-15ea501ba345"
      },
      "execution_count": 2,
      "outputs": [
        {
          "output_type": "stream",
          "name": "stdout",
          "text": [
            "234168\n"
          ]
        }
      ]
    }
  ]
}