{
  "nbformat": 4,
  "nbformat_minor": 0,
  "metadata": {
    "colab": {
      "name": "14HW20220223임진석31.ipynb",
      "provenance": [],
      "collapsed_sections": [],
      "authorship_tag": "ABX9TyOccP4KehyYIXjNNud+2Tv5",
      "include_colab_link": true
    },
    "kernelspec": {
      "name": "python3",
      "display_name": "Python 3"
    },
    "language_info": {
      "name": "python"
    }
  },
  "cells": [
    {
      "cell_type": "markdown",
      "metadata": {
        "id": "view-in-github",
        "colab_type": "text"
      },
      "source": [
        "<a href=\"https://colab.research.google.com/github/limjs0108/ai/blob/master/14HW20220223%EC%9E%84%EC%A7%84%EC%84%9D31.ipynb\" target=\"_parent\"><img src=\"https://colab.research.google.com/assets/colab-badge.svg\" alt=\"Open In Colab\"/></a>"
      ]
    },
    {
      "cell_type": "code",
      "execution_count": null,
      "metadata": {
        "id": "nRVNBnW_uZbY"
      },
      "outputs": [],
      "source": [
        "# 1\n",
        "# 답 : a"
      ]
    },
    {
      "cell_type": "code",
      "source": [
        "# 2\n",
        "# 답 : d"
      ],
      "metadata": {
        "id": "9O9K_U-WuvE-"
      },
      "execution_count": null,
      "outputs": []
    },
    {
      "cell_type": "code",
      "source": [
        "# 3\n",
        "# 답 : b"
      ],
      "metadata": {
        "id": "vAS0XfpqvCl2"
      },
      "execution_count": null,
      "outputs": []
    },
    {
      "cell_type": "code",
      "source": [
        "# 4\n",
        "# 답 : a"
      ],
      "metadata": {
        "id": "dirhBFvsvO0h"
      },
      "execution_count": null,
      "outputs": []
    },
    {
      "cell_type": "code",
      "source": [
        "# 5\n",
        "# 답 : a"
      ],
      "metadata": {
        "id": "arx92-a5vSS-"
      },
      "execution_count": null,
      "outputs": []
    },
    {
      "cell_type": "code",
      "source": [
        "# 6\n",
        "# 답 : d"
      ],
      "metadata": {
        "id": "P3TuU7wzvfns"
      },
      "execution_count": null,
      "outputs": []
    },
    {
      "cell_type": "code",
      "source": [
        "# 7\n",
        "# 답 : a"
      ],
      "metadata": {
        "id": "subklXasvuri"
      },
      "execution_count": null,
      "outputs": []
    },
    {
      "cell_type": "code",
      "source": [
        "# 8\n",
        "# 답 : c"
      ],
      "metadata": {
        "id": "IMPBgJwRv0rh"
      },
      "execution_count": null,
      "outputs": []
    },
    {
      "cell_type": "code",
      "source": [
        "# 9\n",
        "# 답 : b"
      ],
      "metadata": {
        "id": "NuP71sDUv6IC"
      },
      "execution_count": null,
      "outputs": []
    },
    {
      "cell_type": "code",
      "source": [
        "# 10\n",
        "# 답 : b"
      ],
      "metadata": {
        "id": "szIS7yXqwffA"
      },
      "execution_count": null,
      "outputs": []
    },
    {
      "cell_type": "code",
      "source": [
        "# 11\n",
        "\n",
        "n = int(input('Input: n = '))\n",
        "def primeN(n):  \n",
        "  if n == 2:\n",
        "    res = 'true'\n",
        "  for i in range(2,n):\n",
        "    if (n % i != 0):\n",
        "      res = 'true'\n",
        "    else:\n",
        "      res = 'false'\n",
        "      break\n",
        "  print(f'Output:{res}')\n",
        "\n",
        "primeN(n)\n"
      ],
      "metadata": {
        "colab": {
          "base_uri": "https://localhost:8080/"
        },
        "id": "KW0u-9_uwp_a",
        "outputId": "afcdcb79-430b-4fbb-cb4d-f2c826b7ca96"
      },
      "execution_count": 28,
      "outputs": [
        {
          "output_type": "stream",
          "name": "stdout",
          "text": [
            "Input: n = 11\n",
            "Output:true\n"
          ]
        }
      ]
    }
  ]
}