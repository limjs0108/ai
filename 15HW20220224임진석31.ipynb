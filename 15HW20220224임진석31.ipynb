{
  "nbformat": 4,
  "nbformat_minor": 0,
  "metadata": {
    "colab": {
      "name": "15HW20220224임진석31.ipynb",
      "provenance": [],
      "collapsed_sections": [],
      "authorship_tag": "ABX9TyNvBgItWAfXxnWeY00X+Me/",
      "include_colab_link": true
    },
    "kernelspec": {
      "name": "python3",
      "display_name": "Python 3"
    },
    "language_info": {
      "name": "python"
    }
  },
  "cells": [
    {
      "cell_type": "markdown",
      "metadata": {
        "id": "view-in-github",
        "colab_type": "text"
      },
      "source": [
        "<a href=\"https://colab.research.google.com/github/limjs0108/ai/blob/master/15HW20220224%EC%9E%84%EC%A7%84%EC%84%9D31.ipynb\" target=\"_parent\"><img src=\"https://colab.research.google.com/assets/colab-badge.svg\" alt=\"Open In Colab\"/></a>"
      ]
    },
    {
      "cell_type": "code",
      "execution_count": null,
      "metadata": {
        "id": "Nl3AbHcu0nMq"
      },
      "outputs": [],
      "source": [
        "# 1\n",
        "\n",
        "# 답 : d"
      ]
    },
    {
      "cell_type": "code",
      "source": [
        "# 2\n",
        "\n",
        "# 답 : b"
      ],
      "metadata": {
        "id": "p_wA8Ln90ySM"
      },
      "execution_count": null,
      "outputs": []
    },
    {
      "cell_type": "code",
      "source": [
        "# 3\n",
        "\n",
        "# 답 : c"
      ],
      "metadata": {
        "id": "ufJ6KXVp024O"
      },
      "execution_count": null,
      "outputs": []
    },
    {
      "cell_type": "code",
      "source": [
        "# 4\n",
        "\n",
        "# 답 : d"
      ],
      "metadata": {
        "id": "PO6nYyCo07rm"
      },
      "execution_count": null,
      "outputs": []
    },
    {
      "cell_type": "code",
      "source": [
        "# 5\n",
        "\n",
        "# 답 : c"
      ],
      "metadata": {
        "id": "7753PnG109XA"
      },
      "execution_count": null,
      "outputs": []
    },
    {
      "cell_type": "code",
      "source": [
        "# 6\n",
        "\n",
        "# 답 : b"
      ],
      "metadata": {
        "id": "eZ85CbJQ1A1T"
      },
      "execution_count": null,
      "outputs": []
    },
    {
      "cell_type": "code",
      "source": [
        "# 7\n",
        "\n",
        "# 답 : b"
      ],
      "metadata": {
        "id": "a59nk7p41KoF"
      },
      "execution_count": null,
      "outputs": []
    },
    {
      "cell_type": "code",
      "source": [
        "# 8\n",
        "\n",
        "# 답 : a"
      ],
      "metadata": {
        "id": "lEc3kXnS1P3k"
      },
      "execution_count": null,
      "outputs": []
    },
    {
      "cell_type": "code",
      "source": [
        "# 9\n",
        "\n",
        "# 답 : c"
      ],
      "metadata": {
        "id": "41DTuSQ11hSy"
      },
      "execution_count": null,
      "outputs": []
    },
    {
      "cell_type": "code",
      "source": [
        "# 10\n",
        "\n",
        "# 답 : b"
      ],
      "metadata": {
        "id": "ij4Ar3MT1zgK"
      },
      "execution_count": null,
      "outputs": []
    },
    {
      "cell_type": "code",
      "source": [
        "def OddEven():\n",
        "  num = int(input('Enter a number: '))\n",
        "  if num % 2 == 0:\n",
        "    print(f'{num} is Even')\n",
        "  else:\n",
        "    print(f'{num} is Odd')\n",
        "\n",
        "OddEven()"
      ],
      "metadata": {
        "colab": {
          "base_uri": "https://localhost:8080/"
        },
        "id": "lF36Mfn1143_",
        "outputId": "08d29ef8-7468-463a-8efc-230e533bf32d"
      },
      "execution_count": 1,
      "outputs": [
        {
          "output_type": "stream",
          "name": "stdout",
          "text": [
            "Enter a number: 43\n",
            "43 is Odd\n"
          ]
        }
      ]
    }
  ]
}