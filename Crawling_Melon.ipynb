{
 "cells": [
  {
   "cell_type": "code",
   "execution_count": 1,
   "id": "338835c9",
   "metadata": {},
   "outputs": [],
   "source": [
    "# !pip install selenium\n",
    "\n",
    "from selenium import webdriver\n",
    "\n",
    "from bs4 import BeautifulSoup as bs"
   ]
  },
  {
   "cell_type": "code",
   "execution_count": 2,
   "id": "3047bbc8",
   "metadata": {},
   "outputs": [
    {
     "name": "stderr",
     "output_type": "stream",
     "text": [
      "C:\\Users\\Public\\Documents\\ESTsoft\\CreatorTemp/ipykernel_10072/3873821663.py:1: DeprecationWarning: executable_path has been deprecated, please pass in a Service object\n",
      "  driver = webdriver.Chrome('chromedriver.exe')\n"
     ]
    }
   ],
   "source": [
    "driver = webdriver.Chrome('chromedriver.exe')\n",
    "driver.get('https://www.melon.com/chart/index.htm')"
   ]
  },
  {
   "cell_type": "code",
   "execution_count": 3,
   "id": "b8a519ed",
   "metadata": {},
   "outputs": [],
   "source": [
    "html = driver.page_source\n",
    "soup = bs(html)"
   ]
  },
  {
   "cell_type": "code",
   "execution_count": 6,
   "id": "779ea855",
   "metadata": {},
   "outputs": [
    {
     "data": {
      "text/plain": [
       "100"
      ]
     },
     "execution_count": 6,
     "metadata": {},
     "output_type": "execute_result"
    }
   ],
   "source": [
    "len(soup.select('tbody > tr'))"
   ]
  },
  {
   "cell_type": "code",
   "execution_count": 7,
   "id": "df5253e5",
   "metadata": {},
   "outputs": [
    {
     "data": {
      "text/plain": [
       "<tr class=\"lst50\" data-song-no=\"34061322\" id=\"lst50\">\n",
       "<td><div class=\"wrap t_right\"><input class=\"input_check\" name=\"input_check\" title=\"사랑은 늘 도망가 곡 선택\" type=\"checkbox\" value=\"34061322\"/></div></td>\n",
       "<td><div class=\"wrap t_center\"><span class=\"rank\">1</span><span class=\"none\">위</span></div></td>\n",
       "<!-- 차트순위 추가 -->\n",
       "<td><div class=\"wrap\">\n",
       "<span class=\"rank_wrap\" title=\"순위 동일\">\n",
       "<span class=\"bullet_icons rank_static\"><span class=\"none\">순위 동일</span></span>\n",
       "<span class=\"none\">0</span>\n",
       "</span>\n",
       "</div></td>\n",
       "<td><div class=\"wrap\">\n",
       "<a class=\"image_typeAll\" href=\"javascript:melon.link.goAlbumDetail('10735654');\" title=\"신사와 아가씨 OST Part.2\">\n",
       "<img alt=\"신사와 아가씨 OST Part.2 - 페이지 이동\" height=\"60\" onerror=\"WEBPOCIMG.defaultAlbumImg(this);\" src=\"https://cdnimg.melon.co.kr/cm2/album/images/107/35/654/10735654_20211008114339_500.jpg/melon/resize/120/quality/80/optimize\" width=\"60\"/>\n",
       "<span class=\"bg_album_frame\"></span>\n",
       "</a>\n",
       "</div></td>\n",
       "<td><div class=\"wrap\">\n",
       "<a class=\"btn button_icons type03 song_info\" href=\"javascript:melon.link.goSongDetail('34061322');\" title=\"사랑은 늘 도망가 곡정보\"><span class=\"none\">곡정보</span></a>\n",
       "</div></td>\n",
       "<td><div class=\"wrap\">\n",
       "<div class=\"wrap_song_info\">\n",
       "<div class=\"ellipsis rank01\"><span>\n",
       "<a href=\"javascript:melon.play.playSong('1000002721',34061322);\" title=\"사랑은 늘 도망가 재생\">사랑은 늘 도망가</a>\n",
       "</span></div><br/>\n",
       "<div class=\"ellipsis rank02\">\n",
       "<a href=\"javascript:melon.link.goArtistDetail('994944');\" title=\"임영웅 - 페이지 이동\">임영웅</a><span class=\"checkEllipsis\" style=\"display: none;\"><a href=\"javascript:melon.link.goArtistDetail('994944');\" title=\"임영웅 - 페이지 이동\">임영웅</a></span>\n",
       "</div>\n",
       "</div>\n",
       "</div></td>\n",
       "<td><div class=\"wrap\">\n",
       "<div class=\"wrap_song_info\">\n",
       "<div class=\"ellipsis rank03\">\n",
       "<a href=\"javascript:melon.link.goAlbumDetail('10735654');\" title=\"신사와 아가씨 OST Part.2 - 페이지 이동\">신사와 아가씨 OST Part.2</a>\n",
       "</div>\n",
       "</div>\n",
       "</div></td>\n",
       "<td><div class=\"wrap\">\n",
       "<button class=\"button_etc like\" data-song-menuid=\"1000002721\" data-song-no=\"34061322\" title=\"사랑은 늘 도망가 좋아요\" type=\"button\"><span class=\"odd_span\">좋아요</span>\n",
       "<span class=\"cnt\">\n",
       "<span class=\"none\">총건수</span>\n",
       "127,777</span></button>\n",
       "</div></td>\n",
       "<td><div class=\"wrap t_center\">\n",
       "<button class=\"button_icons play\" onclick=\"melon.play.playSong('1000002721',34061322);\" title=\"듣기\" type=\"button\"><span class=\"none\">듣기</span></button>\n",
       "</div></td>\n",
       "<td><div class=\"wrap t_center\">\n",
       "<button class=\"button_icons scrap\" onclick=\"melon.play.addPlayList('34061322');\" title=\"담기\" type=\"button\"><span class=\"none\">담기</span></button>\n",
       "</div></td>\n",
       "<td><div class=\"wrap t_center\">\n",
       "<button class=\"button_icons download\" onclick=\"melon.buy.goBuyProduct('frm', '34061322', '3C0001', '','0', '1000002721');\" title=\"다운로드\" type=\"button\"><span class=\"none\">다운로드</span></button>\n",
       "</div></td>\n",
       "<td><div class=\"wrap t_center\">\n",
       "<button class=\"button_icons video\" onclick=\"melon.link.goMvDetail('1000002721', '34061322','song');\" title=\"뮤직비디오\" type=\"button\"><span class=\"none\">뮤직비디오</span></button>\n",
       "</div></td>\n",
       "</tr>"
      ]
     },
     "execution_count": 7,
     "metadata": {},
     "output_type": "execute_result"
    }
   ],
   "source": [
    "songs = soup.select('tbody > tr')\n",
    "songs[0]"
   ]
  },
  {
   "cell_type": "code",
   "execution_count": 21,
   "id": "b1fe15da",
   "metadata": {},
   "outputs": [
    {
     "data": {
      "text/plain": [
       "'사랑은 늘 도망가'"
      ]
     },
     "execution_count": 21,
     "metadata": {},
     "output_type": "execute_result"
    }
   ],
   "source": [
    "title = songs[0].select('span > a')[0].text\n",
    "title"
   ]
  },
  {
   "cell_type": "code",
   "execution_count": 20,
   "id": "be126d2c",
   "metadata": {},
   "outputs": [
    {
     "data": {
      "text/plain": [
       "'임영웅'"
      ]
     },
     "execution_count": 20,
     "metadata": {},
     "output_type": "execute_result"
    }
   ],
   "source": [
    "singer = songs[0].select('div.rank02 > a')[0].text\n",
    "singer"
   ]
  },
  {
   "cell_type": "code",
   "execution_count": 22,
   "id": "951b01cf",
   "metadata": {},
   "outputs": [
    {
     "data": {
      "text/plain": [
       "[[1, '사랑은 늘 도망가', '임영웅'],\n",
       " [2, '취중고백', '김민석 (멜로망스)'],\n",
       " [3, 'INVU', '태연 (TAEYEON)'],\n",
       " [4, 'ELEVEN', 'IVE (아이브)'],\n",
       " [5, 'Step Back', 'GOT the beat'],\n",
       " [6, '호랑수월가', '탑현'],\n",
       " [7, '회전목마 (Feat. Zion.T, 원슈타인) (Prod. Slom)', 'sokodomo'],\n",
       " [8, '리무진 (Feat. MINO) (Prod. GRAY)', \"BE'O (비오)\"],\n",
       " [9, 'SMILEY (Feat. BIBI)', 'YENA (최예나)'],\n",
       " [10, '이제 나만 믿어요', '임영웅'],\n",
       " [11, 'Counting Stars (Feat. Beenzino)', \"BE'O (비오)\"],\n",
       " [12, '눈이 오잖아(Feat.헤이즈)', '이무진'],\n",
       " [13, \"Can't Control Myself\", '태연 (TAEYEON)'],\n",
       " [14, '다정히 내 이름을 부르면', '경서예지'],\n",
       " [15, 'Dreams Come True', 'aespa'],\n",
       " [16, '겨울잠', '아이유'],\n",
       " [17, '언제나 사랑해', '케이시 (Kassy)'],\n",
       " [18, '다시 사랑한다면 (김필 Ver.)', '임영웅'],\n",
       " [19, 'STAY', 'The Kid LAROI'],\n",
       " [20, '그대라는 사치', '임영웅'],\n",
       " [21, '신호등', '이무진'],\n",
       " [22, '별빛 같은 나의 사랑아', '임영웅'],\n",
       " [23, 'strawberry moon', '아이유'],\n",
       " [24, 'Next Level', 'aespa'],\n",
       " [25, '잊을 수 있을까', '노을'],\n",
       " [26, '잊었니', '임영웅'],\n",
       " [27, 'HERO', '임영웅'],\n",
       " [28, 'Christmas Tree', 'V'],\n",
       " [29, '만남은 쉽고 이별은 어려워 (Feat. Leellamarz) (Prod. TOIL)', '베이식 (Basick)'],\n",
       " [30, '끝사랑', '임영웅'],\n",
       " [31, '그래서 그래 (Feat. 윤하)', '에픽하이 (EPIK HIGH)'],\n",
       " [32, 'Savage', 'aespa'],\n",
       " [33, '드라마', '아이유'],\n",
       " [34, 'Butter', '방탄소년단'],\n",
       " [35, 'Bk Love', '임영웅'],\n",
       " [36, '너 아니면 안돼', '먼데이 키즈 (Monday Kiz)'],\n",
       " [37, '언덕나무', '이승윤'],\n",
       " [38, 'abcdefu', 'GAYLE'],\n",
       " [39, 'Dynamite', '방탄소년단'],\n",
       " [40, '서랍', '10CM'],\n",
       " [41, '우리가 헤어져야 했던 이유', '비비 (BIBI)'],\n",
       " [42, '흰눈', '먼데이 키즈 (Monday Kiz)'],\n",
       " [43, 'Permission to Dance', '방탄소년단'],\n",
       " [44, '너를 생각해', '주시크 (Joosiq)'],\n",
       " [45, 'My Universe', 'Coldplay'],\n",
       " [46, '너, 너 (N번째 연애 X 휘인 (Whee In))', '휘인 (Whee In)'],\n",
       " [47, 'OHAYO MY NIGHT', '디핵 (D-Hack)'],\n",
       " [48, '계단말고 엘리베이터', '임영웅'],\n",
       " [49, 'Dilemma', 'Apink (에이핑크)'],\n",
       " [50, '문득', \"BE'O (비오)\"],\n",
       " [51, '그런 밤 (Some Nights)', '태연 (TAEYEON)'],\n",
       " [52, 'Weekend', '태연 (TAEYEON)'],\n",
       " [53, '바라만 본다', 'MSG워너비(M.O.M)'],\n",
       " [54, '네가 없는 밤 (Feat. ASH ISLAND) (Prod. GRAY)', \"BE'O (비오)\"],\n",
       " [55, '불협화음 (Feat. AKMU) (Prod. GRAY)', 'Mudd the student'],\n",
       " [56, 'Celebrity', '아이유'],\n",
       " [57, '사랑이 아니었다고 말하지 마요', '이예준'],\n",
       " [58, '낙하 (with 아이유)', 'AKMU (악뮤)'],\n",
       " [59, '라일락', '아이유'],\n",
       " [60, '쉬어 (Feat. MINO) (Prod. GRAY)', '아넌딜라이트(Anandelight)'],\n",
       " [61, '밤하늘의 별을(2020)', '경서'],\n",
       " [62, \"Good Night (Feat. BE'O)\", '쿠기 (Coogie)'],\n",
       " [63, 'Wake Up (Prod. 코드 쿤스트)', '개코'],\n",
       " [64, '사이렌 Remix (Feat. UNEDUCATED KID, Paul Blanco)', '호미들'],\n",
       " [65, 'Bad Habits', 'Ed Sheeran'],\n",
       " [66, '헤픈 우연', '헤이즈 (Heize)'],\n",
       " [67, '그게 더 편할 것 같아 (N번째 연애 X 멜로망스)', '멜로망스'],\n",
       " [68, '대낮에 한 이별', '선예'],\n",
       " [69, '모든 날, 모든 순간 (Every day, Every Moment)', '폴킴'],\n",
       " [70, '찰나가 영원이 될 때 (The Eternal Moment)', '마크툽 (MAKTUB)'],\n",
       " [71, 'Stay Alive (Prod. SUGA of BTS)', '정국'],\n",
       " [72, '어떻게 이별까지 사랑하겠어, 널 사랑하는 거지', 'AKMU (악뮤)'],\n",
       " [73, '봄날', '방탄소년단'],\n",
       " [74, '고백', '멜로망스'],\n",
       " [75, 'Off My Face', 'Justin Bieber'],\n",
       " [76, '너의 모든 순간', '성시경'],\n",
       " [77, '내 손을 잡아', '아이유'],\n",
       " [78, 'Set Myself On Fire', '태연 (TAEYEON)'],\n",
       " [79, '작은 것들을 위한 시 (Boy With Luv) (Feat. Halsey)', '방탄소년단'],\n",
       " [80, '어른아이 (Toddler)', '태연 (TAEYEON)'],\n",
       " [81, 'DM', '프로미스나인'],\n",
       " [82, '강변북로', '황인욱'],\n",
       " [83, '이별후회', '김나영'],\n",
       " [84, '추억은 만남보다 이별에 남아', '정동하'],\n",
       " [85, \"롤린 (Rollin')\", '브레이브걸스'],\n",
       " [86, 'Savage Love (Laxed - Siren Beat) (BTS Remix)', 'Jawsh 685'],\n",
       " [87, 'Blueming', '아이유'],\n",
       " [88, '여름비', '샘김 (Sam Kim)'],\n",
       " [89, '오늘도 빛나는 너에게 (To You My Light) (Feat.이라온)', '마크툽 (MAKTUB)'],\n",
       " [90, 'Dun Dun Dance', '오마이걸 (OH MY GIRL)'],\n",
       " [91, '밝게 빛나는 별이 되어 비춰줄게', '송이한'],\n",
       " [92, 'Because', 'ASH ISLAND'],\n",
       " [93, 'Siren', '태연 (TAEYEON)'],\n",
       " [94, '안녕 우린 헤어져야만 해', '전상근'],\n",
       " [95, 'Life Goes On', '방탄소년단'],\n",
       " [96, 'Timeless', '태연 (TAEYEON)'],\n",
       " [97, '취기를 빌려 (취향저격 그녀 X 산들)', '산들'],\n",
       " [98, '비가 오는 날엔 (2021)', '헤이즈 (Heize)'],\n",
       " [99, '시간을 거슬러 (낮에 뜨는 달 X 케이윌)', '케이윌'],\n",
       " [100, '그날에 나는 맘이 편했을까', '이예준']]"
      ]
     },
     "execution_count": 22,
     "metadata": {},
     "output_type": "execute_result"
    }
   ],
   "source": [
    "songs_data = []\n",
    "rank = 1\n",
    "\n",
    "for song in songs:\n",
    "    title = song.select('span > a')[0].text\n",
    "    singer = song.select('div.rank02 > a')[0].text\n",
    "    songs_data.append([rank, title, singer])\n",
    "    rank += 1\n",
    "    \n",
    "songs_data"
   ]
  },
  {
   "cell_type": "code",
   "execution_count": 23,
   "id": "ea95df76",
   "metadata": {},
   "outputs": [
    {
     "data": {
      "text/html": [
       "<div>\n",
       "<style scoped>\n",
       "    .dataframe tbody tr th:only-of-type {\n",
       "        vertical-align: middle;\n",
       "    }\n",
       "\n",
       "    .dataframe tbody tr th {\n",
       "        vertical-align: top;\n",
       "    }\n",
       "\n",
       "    .dataframe thead th {\n",
       "        text-align: right;\n",
       "    }\n",
       "</style>\n",
       "<table border=\"1\" class=\"dataframe\">\n",
       "  <thead>\n",
       "    <tr style=\"text-align: right;\">\n",
       "      <th></th>\n",
       "      <th>순위</th>\n",
       "      <th>제목</th>\n",
       "      <th>가수</th>\n",
       "    </tr>\n",
       "  </thead>\n",
       "  <tbody>\n",
       "    <tr>\n",
       "      <th>0</th>\n",
       "      <td>1</td>\n",
       "      <td>사랑은 늘 도망가</td>\n",
       "      <td>임영웅</td>\n",
       "    </tr>\n",
       "    <tr>\n",
       "      <th>1</th>\n",
       "      <td>2</td>\n",
       "      <td>취중고백</td>\n",
       "      <td>김민석 (멜로망스)</td>\n",
       "    </tr>\n",
       "    <tr>\n",
       "      <th>2</th>\n",
       "      <td>3</td>\n",
       "      <td>INVU</td>\n",
       "      <td>태연 (TAEYEON)</td>\n",
       "    </tr>\n",
       "    <tr>\n",
       "      <th>3</th>\n",
       "      <td>4</td>\n",
       "      <td>ELEVEN</td>\n",
       "      <td>IVE (아이브)</td>\n",
       "    </tr>\n",
       "    <tr>\n",
       "      <th>4</th>\n",
       "      <td>5</td>\n",
       "      <td>Step Back</td>\n",
       "      <td>GOT the beat</td>\n",
       "    </tr>\n",
       "    <tr>\n",
       "      <th>...</th>\n",
       "      <td>...</td>\n",
       "      <td>...</td>\n",
       "      <td>...</td>\n",
       "    </tr>\n",
       "    <tr>\n",
       "      <th>95</th>\n",
       "      <td>96</td>\n",
       "      <td>Timeless</td>\n",
       "      <td>태연 (TAEYEON)</td>\n",
       "    </tr>\n",
       "    <tr>\n",
       "      <th>96</th>\n",
       "      <td>97</td>\n",
       "      <td>취기를 빌려 (취향저격 그녀 X 산들)</td>\n",
       "      <td>산들</td>\n",
       "    </tr>\n",
       "    <tr>\n",
       "      <th>97</th>\n",
       "      <td>98</td>\n",
       "      <td>비가 오는 날엔 (2021)</td>\n",
       "      <td>헤이즈 (Heize)</td>\n",
       "    </tr>\n",
       "    <tr>\n",
       "      <th>98</th>\n",
       "      <td>99</td>\n",
       "      <td>시간을 거슬러 (낮에 뜨는 달 X 케이윌)</td>\n",
       "      <td>케이윌</td>\n",
       "    </tr>\n",
       "    <tr>\n",
       "      <th>99</th>\n",
       "      <td>100</td>\n",
       "      <td>그날에 나는 맘이 편했을까</td>\n",
       "      <td>이예준</td>\n",
       "    </tr>\n",
       "  </tbody>\n",
       "</table>\n",
       "<p>100 rows × 3 columns</p>\n",
       "</div>"
      ],
      "text/plain": [
       "     순위                       제목            가수\n",
       "0     1                사랑은 늘 도망가           임영웅\n",
       "1     2                     취중고백    김민석 (멜로망스)\n",
       "2     3                     INVU  태연 (TAEYEON)\n",
       "3     4                   ELEVEN     IVE (아이브)\n",
       "4     5                Step Back  GOT the beat\n",
       "..  ...                      ...           ...\n",
       "95   96                 Timeless  태연 (TAEYEON)\n",
       "96   97    취기를 빌려 (취향저격 그녀 X 산들)            산들\n",
       "97   98          비가 오는 날엔 (2021)   헤이즈 (Heize)\n",
       "98   99  시간을 거슬러 (낮에 뜨는 달 X 케이윌)           케이윌\n",
       "99  100           그날에 나는 맘이 편했을까           이예준\n",
       "\n",
       "[100 rows x 3 columns]"
      ]
     },
     "execution_count": 23,
     "metadata": {},
     "output_type": "execute_result"
    }
   ],
   "source": [
    "import pandas as pd\n",
    "df = pd.DataFrame(songs_data,columns = ['순위','제목','가수'])\n",
    "df"
   ]
  },
  {
   "cell_type": "code",
   "execution_count": 24,
   "id": "5e0cc8e1",
   "metadata": {},
   "outputs": [],
   "source": [
    "df.to_excel('Melon.xlsx',index = False)"
   ]
  },
  {
   "cell_type": "code",
   "execution_count": null,
   "id": "58b23ac5",
   "metadata": {},
   "outputs": [],
   "source": []
  }
 ],
 "metadata": {
  "kernelspec": {
   "display_name": "Python 3 (ipykernel)",
   "language": "python",
   "name": "python3"
  },
  "language_info": {
   "codemirror_mode": {
    "name": "ipython",
    "version": 3
   },
   "file_extension": ".py",
   "mimetype": "text/x-python",
   "name": "python",
   "nbconvert_exporter": "python",
   "pygments_lexer": "ipython3",
   "version": "3.9.7"
  }
 },
 "nbformat": 4,
 "nbformat_minor": 5
}
