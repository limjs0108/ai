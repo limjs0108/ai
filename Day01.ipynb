{
  "cells": [
    {
      "cell_type": "markdown",
      "metadata": {
        "id": "view-in-github",
        "colab_type": "text"
      },
      "source": [
        "<a href=\"https://colab.research.google.com/github/limjs0108/ai/blob/main/Day01.ipynb\" target=\"_parent\"><img src=\"https://colab.research.google.com/assets/colab-badge.svg\" alt=\"Open In Colab\"/></a>"
      ]
    },
    {
      "cell_type": "code",
      "source": [
        "# 실수 float\n",
        "\n",
        "a = float(1)\n",
        "print(a)\n",
        "\n",
        "b = float(True)\n",
        "print(b)\n",
        "\n",
        "c = float('3.14')\n",
        "print(c)\n",
        "\n",
        "d = float('100')\n",
        "print(d)\n",
        "\n"
      ],
      "metadata": {
        "id": "sU6Eof9iZzP5",
        "outputId": "9c11f78d-6320-4d01-dba7-72a31d0a57ae",
        "colab": {
          "base_uri": "https://localhost:8080/"
        }
      },
      "execution_count": 8,
      "outputs": [
        {
          "output_type": "stream",
          "name": "stdout",
          "text": [
            "1.0\n",
            "1.0\n",
            "3.14\n",
            "100.0\n"
          ]
        }
      ]
    },
    {
      "cell_type": "code",
      "source": [
        "# bool 논리 True or False\n",
        "\n",
        "a = bool(0)\n",
        "print(a)\n",
        "\n",
        "b = bool()\n",
        "print(b)\n",
        "\n",
        "c = bool([])\n",
        "print(c)\n",
        "\n",
        "d = bool([100])\n",
        "print(d)"
      ],
      "metadata": {
        "id": "M-KXBuueaqYh",
        "outputId": "86776761-104b-4318-dd22-43b51422cc8b",
        "colab": {
          "base_uri": "https://localhost:8080/"
        }
      },
      "execution_count": 7,
      "outputs": [
        {
          "output_type": "stream",
          "name": "stdout",
          "text": [
            "False\n",
            "False\n",
            "False\n",
            "True\n"
          ]
        }
      ]
    },
    {
      "cell_type": "code",
      "source": [
        "################\n",
        "# 문자열 String\n",
        "################\n",
        "\n",
        "a = '대한민국'\n",
        "a = \"대한민국\"\n",
        "\n",
        "b = str(100)\n",
        "print(b)\n",
        "print(type(b))\n",
        "\n",
        "c = str(True)\n",
        "print(c)\n",
        "print(type(c))"
      ],
      "metadata": {
        "id": "pdpKPsNxbPcd",
        "outputId": "184c24c7-b3e0-47c8-ca76-2765b966b07f",
        "colab": {
          "base_uri": "https://localhost:8080/"
        }
      },
      "execution_count": 10,
      "outputs": [
        {
          "output_type": "stream",
          "name": "stdout",
          "text": [
            "100\n",
            "<class 'str'>\n",
            "True\n",
            "<class 'str'>\n"
          ]
        }
      ]
    },
    {
      "cell_type": "code",
      "source": [
        "# 문자열 인덱싱\n",
        "\n",
        "# hello 파이썬은 0에서 시작한다.\n",
        "\n",
        "s = 'Hello'\n",
        "print(s[4])\n",
        "\n",
        "print(s[-1])\n",
        "print(s[-5]==s[0])\n",
        "\n",
        "ss = '990211-1005432'\n",
        "print(ss[7])"
      ],
      "metadata": {
        "id": "yr2D7L4cb6d2",
        "outputId": "bbc45920-25a3-4c3a-abdb-f137ba9b5e14",
        "colab": {
          "base_uri": "https://localhost:8080/"
        }
      },
      "execution_count": 15,
      "outputs": [
        {
          "output_type": "stream",
          "name": "stdout",
          "text": [
            "o\n",
            "o\n",
            "True\n",
            "1\n"
          ]
        }
      ]
    },
    {
      "cell_type": "code",
      "source": [
        "ss = '990211-1005432'\n",
        "print(ss[0:2]) # 0 번째 부터 2번째 미만까지..[start:stop:step] step은 생락 가능...\n",
        "print(ss[0:10:2])"
      ],
      "metadata": {
        "id": "ldXR93FgfKGN",
        "outputId": "1489f943-9d08-4004-d109-b0e0f9f81340",
        "colab": {
          "base_uri": "https://localhost:8080/"
        }
      },
      "execution_count": 19,
      "outputs": [
        {
          "output_type": "stream",
          "name": "stdout",
          "text": [
            "99\n",
            "901-0\n"
          ]
        }
      ]
    },
    {
      "cell_type": "code",
      "source": [
        "# print\n",
        "\n",
        "print('Hello World')\n",
        "print('Hello \\'World\\'')\n",
        "print(\"Hello \\\"World\\\"\")\n",
        "\n",
        "print(\"Hello \\n'World'\")"
      ],
      "metadata": {
        "id": "ygNVsnW2gTKE",
        "outputId": "942a9eaf-2530-4834-8d07-a9b3a9f6a24d",
        "colab": {
          "base_uri": "https://localhost:8080/"
        }
      },
      "execution_count": 27,
      "outputs": [
        {
          "output_type": "stream",
          "name": "stdout",
          "text": [
            "Hello World\n",
            "Hello 'World'\n",
            "Hello \"World\"\n",
            "Hello \n",
            "'World'\n"
          ]
        }
      ]
    },
    {
      "cell_type": "code",
      "source": [
        "print('이름 \\n전화')"
      ],
      "metadata": {
        "id": "crFDLWXSidWk",
        "outputId": "98e5254a-055f-4277-ba57-3334300171e0",
        "colab": {
          "base_uri": "https://localhost:8080/"
        }
      },
      "execution_count": 28,
      "outputs": [
        {
          "output_type": "stream",
          "name": "stdout",
          "text": [
            "이름 \n",
            "전화\n"
          ]
        }
      ]
    },
    {
      "cell_type": "code",
      "source": [
        "print('이름\\t연락처')\n",
        "print('홍길동\\t010-2020-2903')"
      ],
      "metadata": {
        "id": "4HjB-0dnisJK",
        "outputId": "0945b006-aa6c-41c9-e89d-4cef131fabc6",
        "colab": {
          "base_uri": "https://localhost:8080/"
        }
      },
      "execution_count": 30,
      "outputs": [
        {
          "output_type": "stream",
          "name": "stdout",
          "text": [
            "이름\t연락처\n",
            "홍길동\t010-2020-2903\n"
          ]
        }
      ]
    },
    {
      "cell_type": "code",
      "source": [
        "print('재미있는 ','파이썬')"
      ],
      "metadata": {
        "id": "Y0sPqKZUjV7J",
        "outputId": "232079bb-9566-4680-add0-3316c350850c",
        "colab": {
          "base_uri": "https://localhost:8080/"
        }
      },
      "execution_count": 31,
      "outputs": [
        {
          "output_type": "stream",
          "name": "stdout",
          "text": [
            "재미있는  파이썬\n"
          ]
        }
      ]
    },
    {
      "cell_type": "code",
      "source": [
        "print('평점', end=':')\n",
        "print('5점')"
      ],
      "metadata": {
        "id": "P5BAe7GZjm8j",
        "outputId": "b64ecf13-ecc5-4816-a275-a03bd5e4dfc7",
        "colab": {
          "base_uri": "https://localhost:8080/"
        }
      },
      "execution_count": 33,
      "outputs": [
        {
          "output_type": "stream",
          "name": "stdout",
          "text": [
            "평점:5점\n"
          ]
        }
      ]
    },
    {
      "cell_type": "code",
      "source": [
        "print('국어','영어','수학')\n",
        "print('국어','영어','수학',sep = '/')\n",
        "print('국어','영어','수학',sep = ', ')\n",
        "print('국어','영어','수학',sep = '\\n')\n",
        "print('\\n국어\\n영어\\n수학')"
      ],
      "metadata": {
        "id": "AEBkiMR8juPa",
        "outputId": "6f08c2fa-34c3-4120-8692-9160c4b03b51",
        "colab": {
          "base_uri": "https://localhost:8080/"
        }
      },
      "execution_count": 37,
      "outputs": [
        {
          "output_type": "stream",
          "name": "stdout",
          "text": [
            "국어 영어 수학\n",
            "국어/영어/수학\n",
            "국어, 영어, 수학\n",
            "국어\n",
            "영어\n",
            "수학\n",
            "\n",
            "국어\n",
            "영어\n",
            "수학\n"
          ]
        }
      ]
    },
    {
      "cell_type": "code",
      "source": [
        "# %연산자\n",
        "print(10)\n",
        "print('%d' % 10)      # %d decimal 정수\n",
        "print('%f' % 3.14)    # %f float 실수\n",
        "print('%s' % '학생')  # %s string 문자열 \n",
        "\n",
        "print('%d 을 입력하세오' % 10)      \n",
        "print('원주율은 %f 입니다' % 3.14)    \n",
        "print('원주율은 %s 입니다' % 3.14)\n",
        "print('저는 %s 입니다.' % '학생') \n",
        "\n",
        "std = \"대학생\"\n",
        "print('저는 %s 입니다.' % std)"
      ],
      "metadata": {
        "id": "e0RvneMAqRDt",
        "outputId": "ca6c6d3d-7f8e-4836-9380-a3364c2f8080",
        "colab": {
          "base_uri": "https://localhost:8080/"
        }
      },
      "execution_count": 49,
      "outputs": [
        {
          "output_type": "stream",
          "name": "stdout",
          "text": [
            "10\n",
            "10\n",
            "3.140000\n",
            "학생\n",
            "10 을 입력하세오\n",
            "원주율은 3.14 입니다\n",
            "원주율은 3.14 입니다\n",
            "저는 학생 입니다.\n",
            "저는 대학생 입니다.\n"
          ]
        }
      ]
    },
    {
      "cell_type": "code",
      "source": [
        "print(\"%d\" % 1)\n",
        "print(\"%5d\" % 1)\n",
        "print(\"%-5d\" % 1)\n",
        "print(\"%5d\" % 11)\n",
        "print(\"%-5d\" % 11)"
      ],
      "metadata": {
        "id": "1ihtIet4tOAE",
        "outputId": "93357a3c-eb11-4b25-e82f-0d4ec8c7c61b",
        "colab": {
          "base_uri": "https://localhost:8080/"
        }
      },
      "execution_count": 52,
      "outputs": [
        {
          "output_type": "stream",
          "name": "stdout",
          "text": [
            "1\n",
            "    1\n",
            "1    \n",
            "   11\n",
            "11   \n"
          ]
        }
      ]
    },
    {
      "cell_type": "code",
      "source": [
        "print('원주율은 %f 입니다' % 3.14)\n",
        "print('원주율은 %5.2f 입니다' % 3.14)\n",
        "print('')"
      ],
      "metadata": {
        "id": "snb-kFlCt-cj",
        "outputId": "e56f16ea-ee3c-44f7-a284-bdc64a613190",
        "colab": {
          "base_uri": "https://localhost:8080/"
        }
      },
      "execution_count": 55,
      "outputs": [
        {
          "output_type": "stream",
          "name": "stdout",
          "text": [
            "원주율은 3.140000 입니다\n",
            "원주율은  3.14 입니다\n"
          ]
        }
      ]
    },
    {
      "cell_type": "code",
      "source": [
        "name = 'kai'\n",
        "height = 185.5\n",
        "print(\"내 키는 %s입니다.\" % height)\n",
        "print(\"내 키는 %s이고 이름은 %s입니다.\" % (height, name))\n",
        "print(\"내 키는 {}이고 이름은 {}입니다.\".format(height, name))"
      ],
      "metadata": {
        "id": "6b8HabN5xazQ",
        "outputId": "4b946c6d-9bae-4e23-a5ce-fb3cd55e10d7",
        "colab": {
          "base_uri": "https://localhost:8080/"
        }
      },
      "execution_count": 57,
      "outputs": [
        {
          "output_type": "stream",
          "name": "stdout",
          "text": [
            "내 키는 185.5입니다.\n",
            "내 키는 185.5이고 이름은 kai입니다.\n",
            "내 키는 185.5이고 이름은 kai입니다.\n"
          ]
        }
      ]
    },
    {
      "cell_type": "code",
      "source": [
        "# format()\n",
        "\n",
        "zipcode = '06236'\n",
        "print('우편번호 : %s' % zipcode)\n",
        "print('우편번호 : {}'.format(zipcode))"
      ],
      "metadata": {
        "id": "rrmLORvIv3gJ",
        "outputId": "46751535-9e53-4c1d-a56b-444007bf324c",
        "colab": {
          "base_uri": "https://localhost:8080/"
        }
      },
      "execution_count": 56,
      "outputs": [
        {
          "output_type": "stream",
          "name": "stdout",
          "text": [
            "우편번호 : 06236\n",
            "우편번호 : 06236\n"
          ]
        }
      ]
    },
    {
      "cell_type": "code",
      "source": [
        "print('My name is {}. I\\'m {} years old.'.format('James',25))\n",
        "print('My name is {1}. I\\'m {0} years old.'.format(25,'James'))\n",
        "print('My name is {name}. I\\'m {age} years old.'.format(name = 'James',age = 25))"
      ],
      "metadata": {
        "id": "ZKVj9JAo2M9_",
        "outputId": "3e3a10f4-e0ba-4d84-84ca-065825130a90",
        "colab": {
          "base_uri": "https://localhost:8080/"
        }
      },
      "execution_count": 59,
      "outputs": [
        {
          "output_type": "stream",
          "name": "stdout",
          "text": [
            "My name is James. I'm 25 years old.\n",
            "My name is James. I'm 25 years old.\n",
            "My name is James. I'm 25 years old.\n"
          ]
        }
      ]
    },
    {
      "cell_type": "code",
      "source": [
        "# f-strings\n",
        "# 파이썬 3.6 이후 부터 사용 가능\n",
        "\n",
        "who = 'you'\n",
        "how = 'happy'\n",
        "print(f'{who} make me {how}')"
      ],
      "metadata": {
        "id": "Uig07gKf21cv",
        "outputId": "68285c17-e948-4252-9051-40996025c818",
        "colab": {
          "base_uri": "https://localhost:8080/"
        }
      },
      "execution_count": 60,
      "outputs": [
        {
          "output_type": "stream",
          "name": "stdout",
          "text": [
            "you make me happy\n"
          ]
        }
      ]
    },
    {
      "cell_type": "code",
      "source": [
        "age = 25\n",
        "print(f'내년에는 {age+1} 입니다.')"
      ],
      "metadata": {
        "id": "8BoNIUdM3qS1",
        "outputId": "d6dd290f-e6af-4efa-e1f4-d21f793247a6",
        "colab": {
          "base_uri": "https://localhost:8080/"
        }
      },
      "execution_count": 63,
      "outputs": [
        {
          "output_type": "stream",
          "name": "stdout",
          "text": [
            "내년에는 26 입니다.\n"
          ]
        }
      ]
    },
    {
      "cell_type": "code",
      "source": [
        "##############\n",
        "# 입력 input()\n",
        "##############\n",
        "\n",
        "n = input('당신의 나이를 입력하세요 ')\n",
        "print(f'당신이 입력한 내용은 {n} 입니다.')\n",
        "print('당신이 입력한 내용은', n , '입니다.')"
      ],
      "metadata": {
        "id": "hfi09aap4VZX",
        "outputId": "36f49697-777a-4864-abf8-b3890f606e20",
        "colab": {
          "base_uri": "https://localhost:8080/"
        }
      },
      "execution_count": 67,
      "outputs": [
        {
          "output_type": "stream",
          "name": "stdout",
          "text": [
            "당신의 나이를 입력하세요 20\n",
            "당신이 입력한 내용은 20 입니다.\n",
            "당신이 입력한 내용은 20 입니다.\n"
          ]
        }
      ]
    },
    {
      "cell_type": "code",
      "source": [
        "name = input('이름을 입력하세요 ')\n",
        "age = input('나이를 입력하세요 ')\n",
        "\n",
        "print('당신의 이름은' , name , '이고 나이는' , age ,'입니다.')      # 기본\n",
        "print('당신의 이름은 %s 이고 나이는 %s 입니다.' % (name, age))      # %\n",
        "print('당신의 이름은 {} 이고 나이는 {} 입니다.'.format(name,age))   # format()\n",
        "print(f'당신의 이름은 {name} 이고 나이는 {age} 입니다.')            # f-string\n",
        "\n",
        "\n"
      ],
      "metadata": {
        "id": "45KSzagX5oTX",
        "outputId": "516183dd-9722-4fe3-dc8b-88e71a6a6cab",
        "colab": {
          "base_uri": "https://localhost:8080/"
        }
      },
      "execution_count": 73,
      "outputs": [
        {
          "output_type": "stream",
          "name": "stdout",
          "text": [
            "이름을 입력하세요 임진석\n",
            "나이를 입력하세요 27\n",
            "당신의 이름은 임진석 이고 나이는 27 입니다.\n",
            "당신의 이름은 임진석 이고 나이는 27 입니다.\n",
            "당신의 이름은 임진석 이고 나이는 27 입니다.\n",
            "당신의 이름은 임진석 이고 나이는 27 입니다.\n"
          ]
        }
      ]
    },
    {
      "cell_type": "code",
      "source": [
        "month = int(input('할부 개월 입력 : '))\n",
        "money = round(50000 / month,2)\n",
        "print(f'{month} 개월 동안 매달 내는 금액은 {money} 입니다.')\n",
        "print('%d 개월 동안 매달 내는 금액은 %s 입니다.' % (month, money))\n",
        "print('{} 개월 동안 매달 내는 금액은 {} 입니다.'.format(month, money))\n",
        "print(month , '개월 동안 매달 내는 금액은' ,money, '입니다.')"
      ],
      "metadata": {
        "id": "HnGoQNtz9zUV",
        "outputId": "7c46aa2d-d6ce-41fa-9e06-929ee3141554",
        "colab": {
          "base_uri": "https://localhost:8080/"
        }
      },
      "execution_count": 85,
      "outputs": [
        {
          "output_type": "stream",
          "name": "stdout",
          "text": [
            "할부 개월 입력 : 3\n",
            "3 개월 동안 매달 내는 금액은 16666.67 입니다.\n",
            "3 개월 동안 매달 내는 금액은 16666.67 입니다.\n",
            "3 개월 동안 매달 내는 금액은 16666.67 입니다.\n",
            "3 개월 동안 매달 내는 금액은 16666.67 입니다.\n"
          ]
        }
      ]
    },
    {
      "cell_type": "code",
      "source": [
        "num1 = float(input('실수 1 : '))\n",
        "num2 = float(input('실수 2 : '))\n",
        "sum = num1 + num2\n",
        "\n",
        "print(f'{num1} 과 {num2}의 합계는 {sum}입니다.')"
      ],
      "metadata": {
        "id": "jBzftmTpFSbx",
        "outputId": "1c3739a2-ea8f-4308-9ee9-082edabb1d20",
        "colab": {
          "base_uri": "https://localhost:8080/"
        }
      },
      "execution_count": 91,
      "outputs": [
        {
          "output_type": "stream",
          "name": "stdout",
          "text": [
            "실수 1 : 2\n",
            "실수 2 : 3\n",
            "2.0 과 3.0의 합계는 5.0입니다.\n"
          ]
        }
      ]
    }
  ],
  "metadata": {
    "colab": {
      "collapsed_sections": [],
      "name": "Colaboratory에 오신 것을 환영합니다",
      "toc_visible": true,
      "provenance": [],
      "include_colab_link": true
    },
    "kernelspec": {
      "display_name": "Python 3",
      "name": "python3"
    }
  },
  "nbformat": 4,
  "nbformat_minor": 0
}