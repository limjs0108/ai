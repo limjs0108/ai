{
 "cells": [
  {
   "cell_type": "code",
   "execution_count": null,
   "id": "80c241d3",
   "metadata": {},
   "outputs": [],
   "source": [
    "# Function\n",
    "\n",
    "# 함수 만들기\n",
    "\n",
    "# 수학에서의 함수와 유사\n",
    "\n",
    "# 딸기(input) -> 믹서기(함수) -> 딸기 쥬스(output)\n",
    "# 바나나(input) -> 믹서기(함수) -> 바나나 쥬스(output)\n",
    "# 사과(input) -> 믹서기(함수) -> 사과 쥬스(output)\n",
    "\n",
    "def 함수명(input):\n",
    "    #수행"
   ]
  },
  {
   "cell_type": "code",
   "execution_count": 1,
   "id": "bb82ca7f",
   "metadata": {},
   "outputs": [
    {
     "name": "stdout",
     "output_type": "stream",
     "text": [
      "hi\n",
      "hi\n",
      "hi\n"
     ]
    }
   ],
   "source": [
    "def print_3():\n",
    "    print(\"hi\")\n",
    "    print(\"hi\")\n",
    "    print(\"hi\")\n",
    "    \n",
    "print_3()"
   ]
  },
  {
   "cell_type": "code",
   "execution_count": 2,
   "id": "cdad2896",
   "metadata": {},
   "outputs": [
    {
     "name": "stdout",
     "output_type": "stream",
     "text": [
      "hello\n",
      "hello\n",
      "hello\n"
     ]
    }
   ],
   "source": [
    "def print_3(val):\n",
    "    print(val)\n",
    "    print(val)\n",
    "    print(val)\n",
    "    \n",
    "print_3(\"hello\")"
   ]
  },
  {
   "cell_type": "code",
   "execution_count": 8,
   "id": "ba71be04",
   "metadata": {},
   "outputs": [
    {
     "name": "stdout",
     "output_type": "stream",
     "text": [
      "hello\n",
      "hello\n",
      "hello\n",
      "hello\n",
      "hello\n",
      "hello\n"
     ]
    }
   ],
   "source": [
    "def print_3(val, n):\n",
    "    for i in range(n):\n",
    "        print(val)\n",
    "    \n",
    "print_3(\"hello\", 6)"
   ]
  },
  {
   "cell_type": "code",
   "execution_count": 9,
   "id": "393bafb7",
   "metadata": {},
   "outputs": [
    {
     "ename": "TypeError",
     "evalue": "print_3() missing 1 required positional argument: 'n'",
     "output_type": "error",
     "traceback": [
      "\u001b[1;31m---------------------------------------------------------------------------\u001b[0m",
      "\u001b[1;31mTypeError\u001b[0m                                 Traceback (most recent call last)",
      "\u001b[1;32m~\\AppData\\Local\\Temp/ipykernel_3272/2769277343.py\u001b[0m in \u001b[0;36m<module>\u001b[1;34m\u001b[0m\n\u001b[0;32m      3\u001b[0m         \u001b[0mprint\u001b[0m\u001b[1;33m(\u001b[0m\u001b[0mval\u001b[0m\u001b[1;33m)\u001b[0m\u001b[1;33m\u001b[0m\u001b[1;33m\u001b[0m\u001b[0m\n\u001b[0;32m      4\u001b[0m \u001b[1;33m\u001b[0m\u001b[0m\n\u001b[1;32m----> 5\u001b[1;33m \u001b[0mprint_3\u001b[0m\u001b[1;33m(\u001b[0m\u001b[1;34m\"hello\"\u001b[0m\u001b[1;33m)\u001b[0m\u001b[1;33m\u001b[0m\u001b[1;33m\u001b[0m\u001b[0m\n\u001b[0m",
      "\u001b[1;31mTypeError\u001b[0m: print_3() missing 1 required positional argument: 'n'"
     ]
    }
   ],
   "source": [
    "# def print_3(val, n):\n",
    "#     for i in range(n):\n",
    "#         print(val)\n",
    "    \n",
    "# print_3(\"hello\")"
   ]
  },
  {
   "cell_type": "code",
   "execution_count": 10,
   "id": "dcfb8307",
   "metadata": {},
   "outputs": [
    {
     "ename": "TypeError",
     "evalue": "print_3() takes 2 positional arguments but 3 were given",
     "output_type": "error",
     "traceback": [
      "\u001b[1;31m---------------------------------------------------------------------------\u001b[0m",
      "\u001b[1;31mTypeError\u001b[0m                                 Traceback (most recent call last)",
      "\u001b[1;32m~\\AppData\\Local\\Temp/ipykernel_3272/2703022456.py\u001b[0m in \u001b[0;36m<module>\u001b[1;34m\u001b[0m\n\u001b[0;32m      3\u001b[0m         \u001b[0mprint\u001b[0m\u001b[1;33m(\u001b[0m\u001b[0mval\u001b[0m\u001b[1;33m)\u001b[0m\u001b[1;33m\u001b[0m\u001b[1;33m\u001b[0m\u001b[0m\n\u001b[0;32m      4\u001b[0m \u001b[1;33m\u001b[0m\u001b[0m\n\u001b[1;32m----> 5\u001b[1;33m \u001b[0mprint_3\u001b[0m\u001b[1;33m(\u001b[0m\u001b[1;34m\"hello\"\u001b[0m\u001b[1;33m,\u001b[0m\u001b[1;36m2\u001b[0m\u001b[1;33m,\u001b[0m\u001b[1;36m3\u001b[0m\u001b[1;33m)\u001b[0m\u001b[1;33m\u001b[0m\u001b[1;33m\u001b[0m\u001b[0m\n\u001b[0m",
      "\u001b[1;31mTypeError\u001b[0m: print_3() takes 2 positional arguments but 3 were given"
     ]
    }
   ],
   "source": [
    "# 매개 변수를 2개 지정했으나 함수를 호출할 때 3개를 입력하면 에러 발생\n",
    "\n",
    "# def print_3(val, n):\n",
    "#     for i in range(n):\n",
    "#         print(val)\n",
    "    \n",
    "# print_3(\"hello\",2,3)"
   ]
  },
  {
   "cell_type": "code",
   "execution_count": 13,
   "id": "4f554efe",
   "metadata": {},
   "outputs": [
    {
     "name": "stdout",
     "output_type": "stream",
     "text": [
      "hi\n",
      "hello\n",
      "good morning\n",
      "\n",
      "hi\n",
      "hello\n",
      "good morning\n",
      "\n",
      "hi\n",
      "hello\n",
      "good morning\n",
      "\n",
      "hi\n",
      "hello\n",
      "\n",
      "hi\n",
      "hello\n",
      "\n",
      "hi\n",
      "hello\n",
      "\n"
     ]
    }
   ],
   "source": [
    "# 가변 매개 변수\n",
    "# 함수를 선언할 때 매개변수와 함수를 호출할 때 매개변수가 같아야만 했다. 적어도 안 되고 많아도 안 된다.\n",
    "\n",
    "def print_n_times(n, *val):\n",
    "    for i in range(n):\n",
    "        for v in val:\n",
    "            print(v)\n",
    "        print()\n",
    "        \n",
    "print_n_times(3,'hi','hello','good morning')\n",
    "print_n_times(3,'hi','hello')"
   ]
  },
  {
   "cell_type": "code",
   "execution_count": 29,
   "id": "66b253a5",
   "metadata": {},
   "outputs": [
    {
     "name": "stdout",
     "output_type": "stream",
     "text": [
      "10\n"
     ]
    }
   ],
   "source": [
    "# 입력 받은 정수들을 모두 더한 합을 반환하는 sum_all 함수를 작성\n",
    "def sum_all(*val):\n",
    "    print(sum(val))\n",
    "    \n",
    "sum_all(1,2,3,4)"
   ]
  },
  {
   "cell_type": "code",
   "execution_count": 30,
   "id": "513e3c27",
   "metadata": {},
   "outputs": [
    {
     "name": "stdout",
     "output_type": "stream",
     "text": [
      "hi\n",
      "hi\n",
      "hi\n",
      "hi\n",
      "hi\n",
      "hi\n"
     ]
    }
   ],
   "source": [
    "# 기본 매개변수\n",
    "\n",
    "def print_3(val, n = 2):\n",
    "    for i in range(n):\n",
    "        print(val)\n",
    "    \n",
    "print_3(\"hi\")\n",
    "print_3(\"hi\", 4)"
   ]
  },
  {
   "cell_type": "code",
   "execution_count": 32,
   "id": "7e7f38a8",
   "metadata": {},
   "outputs": [
    {
     "ename": "SyntaxError",
     "evalue": "non-default argument follows default argument (Temp/ipykernel_3272/467108772.py, line 1)",
     "output_type": "error",
     "traceback": [
      "\u001b[1;36m  File \u001b[1;32m\"C:\\Users\\ljs\\AppData\\Local\\Temp/ipykernel_3272/467108772.py\"\u001b[1;36m, line \u001b[1;32m1\u001b[0m\n\u001b[1;33m    def print_3(n = 2, val):\u001b[0m\n\u001b[1;37m                          ^\u001b[0m\n\u001b[1;31mSyntaxError\u001b[0m\u001b[1;31m:\u001b[0m non-default argument follows default argument\n"
     ]
    }
   ],
   "source": [
    "# 순서르 기본 매개변수를 뒤에 위치시킨다.\n",
    "# def print_3(n = 2, val):\n",
    "#     for i in range(n):\n",
    "#         print(val)\n",
    "    \n",
    "# print_3(\"hi\")\n",
    "# print_3(4,\"hi\")"
   ]
  },
  {
   "cell_type": "code",
   "execution_count": null,
   "id": "2d7349d1",
   "metadata": {},
   "outputs": [],
   "source": [
    "def print_n_times(n, *args): # 관용적으로 가변매개변수의 이름은 args를 사용한다.\n",
    "    for i in range(n):\n",
    "        for arg in args:\n",
    "            print(arg)\n",
    "        print()\n",
    "        \n",
    "print_n_times(3,'hi','hello','good morning')\n",
    "print_n_times(3,'hi','hello')"
   ]
  },
  {
   "cell_type": "code",
   "execution_count": 34,
   "id": "d9405836",
   "metadata": {},
   "outputs": [
    {
     "name": "stdout",
     "output_type": "stream",
     "text": [
      "60\n",
      "60\n",
      "60\n",
      "50\n"
     ]
    }
   ],
   "source": [
    "def test(a, b = 10, c = 100):\n",
    "    print(a+b+c)\n",
    "    \n",
    "# 1 기본형태\n",
    "test(10,20,30)\n",
    "\n",
    "# 2 모든 매개변수 지정\n",
    "test(a=10,b=20,c=30)\n",
    "\n",
    "# 3 순서를 섞어서 지정\n",
    "test(c=30,a=10,b=20)\n",
    "\n",
    "# 4 일부만 지정\n",
    "test(10, c=30)"
   ]
  },
  {
   "cell_type": "code",
   "execution_count": 35,
   "id": "62c60ebc",
   "metadata": {},
   "outputs": [
    {
     "name": "stdout",
     "output_type": "stream",
     "text": [
      "A위치입니다.\n"
     ]
    }
   ],
   "source": [
    "def return_test():\n",
    "    print(\"A위치입니다.\")\n",
    "    return # return을 만나면 끝이다.\n",
    "    print(\"B위치입니다.\")\n",
    "    \n",
    "return_test()"
   ]
  },
  {
   "cell_type": "code",
   "execution_count": 36,
   "id": "2f964e4c",
   "metadata": {},
   "outputs": [
    {
     "data": {
      "text/plain": [
       "100"
      ]
     },
     "execution_count": 36,
     "metadata": {},
     "output_type": "execute_result"
    }
   ],
   "source": [
    "def return_test():\n",
    "    return 100\n",
    "\n",
    "return_test()"
   ]
  },
  {
   "cell_type": "code",
   "execution_count": 42,
   "id": "25eb85b4",
   "metadata": {},
   "outputs": [
    {
     "name": "stdout",
     "output_type": "stream",
     "text": [
      "에서 100까지의 합 : 5050\n"
     ]
    }
   ],
   "source": [
    "def sum_all(start,end):\n",
    "    output = 0\n",
    "    for i in range(start, end+1):\n",
    "        output += i\n",
    "    return output\n",
    "\n",
    "print('에서 100까지의 합 :', sum_all(0,100))    "
   ]
  },
  {
   "cell_type": "code",
   "execution_count": 43,
   "id": "2cd91675",
   "metadata": {},
   "outputs": [],
   "source": [
    "# # 재귀 함수\n",
    "\n",
    "# def hello():\n",
    "#     print('hi')\n",
    "#     return hello()"
   ]
  },
  {
   "cell_type": "code",
   "execution_count": 52,
   "id": "d74ab5dd",
   "metadata": {},
   "outputs": [
    {
     "name": "stdout",
     "output_type": "stream",
     "text": [
      "3! : 24\n"
     ]
    }
   ],
   "source": [
    "# 반복문으로 팩토리얼 구하기\n",
    "def facto(n):\n",
    "    res = 1\n",
    "    for i in range(1,n+1):\n",
    "        res *= i\n",
    "    return res\n",
    "\n",
    "print('3! :', facto(4))"
   ]
  },
  {
   "cell_type": "code",
   "execution_count": 1,
   "id": "2aee6118",
   "metadata": {},
   "outputs": [
    {
     "name": "stdout",
     "output_type": "stream",
     "text": [
      "3! : 24\n"
     ]
    }
   ],
   "source": [
    "# 재귀(recursion)로 팩토리얼 구하기\n",
    "\n",
    "def facto(n):\n",
    "    if n == 0:\n",
    "        return 1\n",
    "    else:\n",
    "        return n * facto(n-1)\n",
    "\n",
    "print('3! :', facto(3))\n",
    "print('3! :', facto(5))\n",
    "print('3! :', facto(7))\n",
    "\n",
    "# 개발자들 사이에서는 재귀함수를 절대 사용하지 말자 라는 의견도 있다.\n",
    "# 하지만 가독성이 좋고 코드가 간결해 멋스러워 보이는 장점도 있다. (예쁜 쓰레기)"
   ]
  },
  {
   "cell_type": "code",
   "execution_count": 3,
   "id": "ddb2ccf7",
   "metadata": {},
   "outputs": [
    {
     "name": "stdout",
     "output_type": "stream",
     "text": [
      "fibonacci(1) : 1\n",
      "fibonacci(2) : 1\n",
      "fibonacci(3) : 2\n",
      "fibonacci(4) : 3\n",
      "fibonacci(5) : 5\n"
     ]
    }
   ],
   "source": [
    "# 피보나치 수열 (토끼의 번식 속도, 바이러스 감염 속도...)\n",
    "def fibo(n):\n",
    "    if n == 1 or n ==2:\n",
    "        return 1\n",
    "    else:\n",
    "        return fibo(n-1) +fibo(n-2)\n",
    "\n",
    "\n",
    "print('fibonacci(1) :', fibo(1))\n",
    "print('fibonacci(2) :', fibo(2))\n",
    "print('fibonacci(3) :', fibo(3))\n",
    "print('fibonacci(4) :', fibo(4))\n",
    "print('fibonacci(5) :', fibo(5))"
   ]
  },
  {
   "cell_type": "code",
   "execution_count": 4,
   "id": "c69955a6",
   "metadata": {},
   "outputs": [
    {
     "name": "stdout",
     "output_type": "stream",
     "text": [
      "10\n",
      "20\n"
     ]
    }
   ],
   "source": [
    "# 튜플과 함수\n",
    "# 튜플은 함수의 리턴에 많이 사용된다. 함수의 리턴에 튜플을 사용하게 되면 여러개의 값을\n",
    "# 리턴하고 할당 할 수 있기 때문이다.\n",
    "\n",
    "def test():\n",
    "    return 10,20 # 튜플의 소괄호는 생략도 가능하다.\n",
    "\n",
    "a, b= test()\n",
    "print(a)\n",
    "print(b)"
   ]
  },
  {
   "cell_type": "code",
   "execution_count": 6,
   "id": "258d13df",
   "metadata": {},
   "outputs": [
    {
     "name": "stdout",
     "output_type": "stream",
     "text": [
      "7\n"
     ]
    }
   ],
   "source": [
    "# 1. input 도 있고 output도 있는 함수(*****)\n",
    "def add(a,b): # 그 인수를 담아서 함수에서 사용되는 매개변수\n",
    "    return a+b\n",
    "\n",
    "c = add(1,2)\n",
    "print(c)\n",
    "\n",
    "# 인수와 매개변수\n",
    "# 함수와 매소드 - 클래스 안에서 선언된 함수를 매소드라고 부른다.\n",
    "# 객체와 인스턴스 - "
   ]
  },
  {
   "cell_type": "code",
   "execution_count": null,
   "id": "90b1f113",
   "metadata": {},
   "outputs": [],
   "source": [
    "# 2. input 은 없고 output은 있는 함수\n",
    "def say():\n",
    "    return 'hi'\n",
    "\n",
    "print(say())"
   ]
  },
  {
   "cell_type": "code",
   "execution_count": null,
   "id": "4e7f4856",
   "metadata": {},
   "outputs": [],
   "source": [
    "# 3. input 은 있고 output은 없는 함수\n",
    "def add(a,b):\n",
    "    print('%d, %d의 합은 %d입니다.' %(a,b,a+b))\n",
    "    \n",
    "add(3,4)"
   ]
  },
  {
   "cell_type": "code",
   "execution_count": null,
   "id": "68efb9ec",
   "metadata": {},
   "outputs": [],
   "source": [
    "# 4. input 도 없고 output도 없는 함수\n",
    "def say():\n",
    "    print('hi')\n",
    "    \n",
    "say()"
   ]
  },
  {
   "cell_type": "code",
   "execution_count": 10,
   "id": "7564d7e2",
   "metadata": {},
   "outputs": [
    {
     "name": "stdout",
     "output_type": "stream",
     "text": [
      "10\n",
      "10\n"
     ]
    }
   ],
   "source": [
    "def add(a,b):\n",
    "    return a+b\n",
    "\n",
    "print(add(a=3,b=7))\n",
    "print(add(b=7, a=3))"
   ]
  },
  {
   "cell_type": "code",
   "execution_count": 11,
   "id": "3947f5f1",
   "metadata": {},
   "outputs": [
    {
     "data": {
      "text/plain": [
       "21"
      ]
     },
     "execution_count": 11,
     "metadata": {},
     "output_type": "execute_result"
    }
   ],
   "source": [
    "def add_many(*args):\n",
    "    result = 0\n",
    "    \n",
    "    for arg in args:\n",
    "        result += arg\n",
    "    return result\n",
    "\n",
    "add_many(3,5,6,3,1,3)"
   ]
  },
  {
   "cell_type": "code",
   "execution_count": 16,
   "id": "befb92bc",
   "metadata": {},
   "outputs": [
    {
     "name": "stdout",
     "output_type": "stream",
     "text": [
      "15\n",
      "6\n"
     ]
    }
   ],
   "source": [
    "def add_mul(choice, *args):\n",
    "    if choice == 'add':\n",
    "        result = 0\n",
    "        for i in args:\n",
    "            result += i\n",
    "    elif choice == 'mul':\n",
    "        result = 1\n",
    "        for i in args:\n",
    "            result = result * i\n",
    "    return result\n",
    "    \n",
    "    \n",
    "print(add_mul('add',1,2,3,4,5))\n",
    "\n",
    "print(add_mul('mul', 1,2,3))"
   ]
  },
  {
   "cell_type": "code",
   "execution_count": 18,
   "id": "021d8fe8",
   "metadata": {},
   "outputs": [
    {
     "name": "stdout",
     "output_type": "stream",
     "text": [
      "7\n",
      "12\n"
     ]
    }
   ],
   "source": [
    "# 함수의 결과는 언제나 하나이다. (여러 개일 경우 튜플 한 개)\n",
    "\n",
    "def add_and_mul(a,b):\n",
    "    return a+b, a*b\n",
    "\n",
    "result1, result2 = add_and_mul(3,4)\n",
    "print(result1)\n",
    "print(result2)\n",
    "\n"
   ]
  },
  {
   "cell_type": "code",
   "execution_count": 21,
   "id": "a59694cd",
   "metadata": {},
   "outputs": [
    {
     "name": "stdout",
     "output_type": "stream",
     "text": [
      "7\n"
     ]
    }
   ],
   "source": [
    "def add_and_mul(a,b):\n",
    "    return a+b\n",
    "    return a*b\n",
    "\n",
    "result= add_and_mul(3,4)\n",
    "print(result)\n"
   ]
  },
  {
   "cell_type": "code",
   "execution_count": 25,
   "id": "626d5006",
   "metadata": {},
   "outputs": [
    {
     "name": "stdout",
     "output_type": "stream",
     "text": [
      "나의 이름은 박응용입니다.\n",
      "나의 이름은 박응용 입니다.\n",
      "나는 27살 입니다.\n",
      "나는 27살 입니다.\n",
      "남자입니다.\n",
      "나의 이름은 박응용입니다.\n",
      "나의 이름은 박응용 입니다.\n",
      "나는 27살 입니다.\n",
      "나는 27살 입니다.\n",
      "남자입니다.\n",
      "나의 이름은 박응선입니다.\n",
      "나의 이름은 박응선 입니다.\n",
      "나는 27살 입니다.\n",
      "나는 27살 입니다.\n",
      "여자입니다.\n"
     ]
    }
   ],
   "source": [
    "def say_myself(name, old, man=True):\n",
    "    print('나의 이름은 %s입니다.' % name)\n",
    "    print(f'나의 이름은 {name} 입니다.')\n",
    "    print('나는 %d살 입니다.' % old)\n",
    "    print(f'나는 {old}살 입니다.')\n",
    "          \n",
    "    if man:\n",
    "        print('남자입니다.')\n",
    "    else:\n",
    "        print('여자입니다.')\n",
    " \n",
    "say_myself('박응용', 27)\n",
    "say_myself('박응용', 27, True)\n",
    "say_myself('박응선', 27, False)"
   ]
  },
  {
   "cell_type": "code",
   "execution_count": 27,
   "id": "bec269c8",
   "metadata": {},
   "outputs": [
    {
     "ename": "SyntaxError",
     "evalue": "non-default argument follows default argument (Temp/ipykernel_8180/1924475828.py, line 1)",
     "output_type": "error",
     "traceback": [
      "\u001b[1;36m  File \u001b[1;32m\"C:\\Users\\ljs\\AppData\\Local\\Temp/ipykernel_8180/1924475828.py\"\u001b[1;36m, line \u001b[1;32m1\u001b[0m\n\u001b[1;33m    def say_myself(name, man=True, old):\u001b[0m\n\u001b[1;37m                                      ^\u001b[0m\n\u001b[1;31mSyntaxError\u001b[0m\u001b[1;31m:\u001b[0m non-default argument follows default argument\n"
     ]
    }
   ],
   "source": [
    "# def say_myself(name, man=True, old):\n",
    "#     print('나의 이름은 %s입니다.' % name)\n",
    "#     print(f'나의 이름은 {name} 입니다.')\n",
    "#     print('나는 %d살 입니다.' % old)\n",
    "#     print(f'나는 {old}살 입니다.')\n",
    "          \n",
    "#     if man:\n",
    "#         print('남자입니다.')\n",
    "#     else:\n",
    "#         print('여자입니다.')\n",
    " \n",
    "# say_myself('박응용', 27)\n",
    "# say_myself('박응용', 27, True)\n",
    "# say_myself('박응선', 27, False)"
   ]
  },
  {
   "cell_type": "code",
   "execution_count": 29,
   "id": "1a2b60c1",
   "metadata": {},
   "outputs": [
    {
     "name": "stdout",
     "output_type": "stream",
     "text": [
      "1\n"
     ]
    }
   ],
   "source": [
    "# 지역 변수 local variable와 전역 변수 global variable\n",
    "\n",
    "a = 1\n",
    "\n",
    "def vartest(a):\n",
    "    a += 1\n",
    "\n",
    "vartest(a)\n",
    "print(a)"
   ]
  },
  {
   "cell_type": "code",
   "execution_count": 33,
   "id": "45a7e797",
   "metadata": {},
   "outputs": [
    {
     "name": "stdout",
     "output_type": "stream",
     "text": [
      "2\n"
     ]
    }
   ],
   "source": [
    "a = 1\n",
    "\n",
    "def vartest(a):\n",
    "    a += 1 \n",
    "    return a\n",
    "\n",
    "print(vartest(a))\n"
   ]
  },
  {
   "cell_type": "code",
   "execution_count": 35,
   "id": "37294850",
   "metadata": {},
   "outputs": [
    {
     "name": "stdout",
     "output_type": "stream",
     "text": [
      "2\n"
     ]
    }
   ],
   "source": [
    "a = 1\n",
    "\n",
    "def vartest():\n",
    "    global a # 전역 변수 선언\n",
    "    a = a + 1 \n",
    "    \n",
    "vartest()\n",
    "print(a)"
   ]
  },
  {
   "cell_type": "code",
   "execution_count": 36,
   "id": "0ec6ebdd",
   "metadata": {},
   "outputs": [
    {
     "name": "stdout",
     "output_type": "stream",
     "text": [
      "7\n"
     ]
    }
   ],
   "source": [
    "# lambda 를 사용하면 코드를 더 깔끔하게 작성할 수 있고\n",
    "# 코드의 복잡성을 줄여 준다. 반면 재 사용성은 상당히 떨어진다.\n",
    "\n",
    "# def add(a,b):\n",
    "#   return a+b\n",
    "\n",
    "add = lambda a, b: a+b\n",
    "\n",
    "print(add(3,4))"
   ]
  },
  {
   "cell_type": "code",
   "execution_count": null,
   "id": "651d3641",
   "metadata": {},
   "outputs": [],
   "source": []
  }
 ],
 "metadata": {
  "kernelspec": {
   "display_name": "Python 3 (ipykernel)",
   "language": "python",
   "name": "python3"
  },
  "language_info": {
   "codemirror_mode": {
    "name": "ipython",
    "version": 3
   },
   "file_extension": ".py",
   "mimetype": "text/x-python",
   "name": "python",
   "nbconvert_exporter": "python",
   "pygments_lexer": "ipython3",
   "version": "3.9.7"
  }
 },
 "nbformat": 4,
 "nbformat_minor": 5
}
