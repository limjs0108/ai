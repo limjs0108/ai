{
 "cells": [
  {
   "cell_type": "code",
   "execution_count": 4,
   "id": "f6e5dc71",
   "metadata": {},
   "outputs": [
    {
     "name": "stdout",
     "output_type": "stream",
     "text": [
      "이름\t\t총점\t\t평균\n",
      "슈가\t\t368\t\t92.0\n",
      "진\t\t372\t\t93.0\n",
      "카리\t\t386\t\t96.5\n"
     ]
    }
   ],
   "source": [
    "# 클래스와 객체\n",
    "\n",
    "# C언어를 제외한 대부분의 언어는 객체 지향 프로그래밍 Object Oriented Programming : OOP 언어이다.\n",
    "# 객체지향 언어는 클래스를 기반으로 객체를 만들고 그 객체들을 우선으로 생각해서 프로그래밍 하는 것을 철학으로 한다.\n",
    "\n",
    "# 객체\n",
    "\n",
    "students = [\n",
    "    {'name' : '슈가', 'korean':87, 'math':98, 'eng':88, 'sci': 95 },\n",
    "    {'name' : '진', 'korean':90, 'math':99, 'eng':86, 'sci': 97 },\n",
    "    {'name' : '카리', 'korean':99, 'math':89, 'eng':99, 'sci': 99 }\n",
    "    ]\n",
    "print('이름','총점','평균', sep = '\\t\\t')\n",
    "for student in students:\n",
    "    # 학생들의 점수의 총합과 평균을 구하라\n",
    "    score_sum = student['korean'] + student['math'] + student['eng'] + student['sci']\n",
    "    score_avg = score_sum / 4\n",
    "    \n",
    "    print(student['name'], score_sum, score_avg, sep = '\\t\\t')\n",
    "    \n",
    "# 딕셔너리로 학생 한명 한명을 표현하고 이를 리스트로 묶어서 학생 전체를 표현했다.\n",
    "# 여러가지 속성을 가질 수 있는 대상을 '객체'object라고 부른다.\n",
    "# 그런데... 딕셔너리로 객체를 하나하나 만들면 복잡하고 귀찮다. 키를 모르면 사용하기도 어렵다.\n",
    "\n",
    "# 함수 형태로 변형해보자."
   ]
  },
  {
   "cell_type": "code",
   "execution_count": 8,
   "id": "9c3d3839",
   "metadata": {},
   "outputs": [
    {
     "name": "stdout",
     "output_type": "stream",
     "text": [
      "슈가\t\t368\t\t92.0\n",
      "진\t\t372\t\t93.0\n",
      "카리\t\t386\t\t96.5\n"
     ]
    }
   ],
   "source": [
    "# 딕셔너리로 리턴하는 함수\n",
    "def create_student(name, korean, math, eng, sci):\n",
    "    return  {\n",
    "        'name':name,\n",
    "        'korean':korean,\n",
    "        'math':math,\n",
    "        'eng':eng,\n",
    "        'sci':sci\n",
    "    }\n",
    "\n",
    "# 학생들 리스트\n",
    "students = [\n",
    "    create_student('슈가', 87, 98, 88, 95 ),\n",
    "    create_student('진', 90, 99, 86, 97 ),\n",
    "    create_student('카리', 99, 89, 99, 99)\n",
    "]\n",
    "\n",
    "# 한명씩 반복\n",
    "for student in students:\n",
    "    # 학생들의 점수의 총합과 평균을 구하라\n",
    "    score_sum = student['korean'] + student['math'] + student['eng'] + student['sci']\n",
    "    score_avg = score_sum / 4\n",
    "    \n",
    "    print(student['name'], score_sum, score_avg, sep = '\\t\\t')\n"
   ]
  },
  {
   "cell_type": "code",
   "execution_count": 12,
   "id": "1e216bd4",
   "metadata": {},
   "outputs": [
    {
     "name": "stdout",
     "output_type": "stream",
     "text": [
      "이름\t\t총점\t\t평균\n",
      "슈가\t\t368\t\t92.0\n",
      "진\t\t372\t\t93.0\n",
      "카리\t\t386\t\t96.5\n"
     ]
    }
   ],
   "source": [
    "# 실행 결과는 이전과 동일하다. 그럼 조금 더 변형해보자.\n",
    "# 현재 총점과 평균을 구하는 처리는 학생을 대상으로만 이루어진다. 따라서 학생을 매개변수로 받는 형태의 함수로\n",
    "# 만들면 코드가 좀 더 균형잡히게 된다.\n",
    "\n",
    "# 딕셔너리로 리턴하는 함수\n",
    "def create_student(name, korean, math, eng, sci):\n",
    "    return  {\n",
    "        'name':name,\n",
    "        'korean':korean,\n",
    "        'math':math,\n",
    "        'eng':eng,\n",
    "        'sci':sci\n",
    "    }\n",
    "\n",
    "# 학생들의 점수를 처리하는 부분들도 함수로 만들자.\n",
    "\n",
    "def student_get_sum(student):\n",
    "    return student['korean'] + student['math'] + student['eng'] + student['sci']\n",
    "\n",
    "def student_get_avg(student):\n",
    "    return student_get_sum(student) / 4\n",
    "\n",
    "def student_to_string(student):\n",
    "    return '{}\\t\\t{}\\t\\t{}'.format(student['name'], student_get_sum(student), student_get_avg(student))\n",
    "\n",
    "# 학생 리스트 선언\n",
    "\n",
    "students = [\n",
    "    create_student('슈가', 87, 98, 88, 95 ),\n",
    "    create_student('진', 90, 99, 86, 97 ),\n",
    "    create_student('카리', 99, 89, 99, 99)\n",
    "]\n",
    "\n",
    "print('이름','총점','평균', sep = '\\t\\t')\n",
    "for student in students:\n",
    "    print(student_to_string(student))\n",
    "    \n",
    "# 실행 결과가 이전과 같지만 코드가 분리되고 있다. 학생이라는 객체와 관련된 기능이 위로 올라갔고\n",
    "# 이 객체들을 사용하는 처리들은 아래로 내려갔다. 이렇게 하면 '학생 객체와 관련된 기능'를\n",
    "# 별도의 모듈로 빼서 관리할 수도 있다.\n",
    "\n",
    "# 객체와 관련된 코드를 분리할 수 있게 하는 것이 객체 지향 프로그래밍의 핵심이다.\n",
    "# 클래스라는 구조를 사용하면 위와 같은 형태의 코드를 조금 더 쉽고 편하게 구현할 수 있다."
   ]
  },
  {
   "cell_type": "code",
   "execution_count": 13,
   "id": "4f8f328e",
   "metadata": {},
   "outputs": [
    {
     "data": {
      "text/plain": [
       "99"
      ]
     },
     "execution_count": 13,
     "metadata": {},
     "output_type": "execute_result"
    }
   ],
   "source": [
    "class Student:\n",
    "    # 생성자 constructor\n",
    "    def __init__(self, name, korean, math, eng, sci):\n",
    "        self.name = name\n",
    "        self.korean = korean\n",
    "        self.math = math\n",
    "        self.eng = eng\n",
    "        self.sci = sci\n",
    "    def get_sum(self):\n",
    "        return self.korean + self.math + self.eng + self.sci\n",
    "\n",
    "    def get_avg(self):\n",
    "        return get_sum(student) / 4\n",
    "\n",
    "    def to_string(self):\n",
    "        return '{}\\t\\t{}\\t\\t{}'.format(self.name, get_sum(self), get_avg(self))\n",
    "        \n",
    "# 학생 리스트\n",
    "\n",
    "students = [\n",
    "    Student('슈가', 87, 98, 88, 95 ),\n",
    "    Student('진', 90, 99, 86, 97 ),\n",
    "    Student('카리', 99, 89, 99, 99)\n",
    "]\n",
    "students[0].name\n",
    "students[1].name\n",
    "students[1].math"
   ]
  },
  {
   "cell_type": "code",
   "execution_count": 20,
   "id": "e7defa02",
   "metadata": {},
   "outputs": [
    {
     "name": "stdout",
     "output_type": "stream",
     "text": [
      "이름\t\t총점\t\t평균\n",
      "슈가\t\t368\t\t92.0\n",
      "진\t\t372\t\t93.0\n",
      "카리\t\t386\t\t96.5\n"
     ]
    }
   ],
   "source": [
    "# method 메소드\n",
    "# 클래스가 가지고 있는 함수를 매소드라고 부른다.\n",
    "# 매소드는 첫 번째 매개변수로 self를 넣어야 한다.\n",
    "\n",
    "class Student:\n",
    "    # 생성자 constructor\n",
    "    def __init__(self, name, korean, math, eng, sci):\n",
    "        self.name = name\n",
    "        self.korean = korean\n",
    "        self.math = math\n",
    "        self.eng = eng\n",
    "        self.sci = sci\n",
    "    def get_sum(self):\n",
    "        return (self.korean + self.math + self.eng + self.sci)\n",
    "\n",
    "    def get_avg(self):\n",
    "        return self.get_sum() / 4\n",
    "\n",
    "    def to_string(self):\n",
    "        return '{}\\t\\t{}\\t\\t{}'.format(self.name, self.get_sum(), self.get_avg())\n",
    "        \n",
    "# 학생 리스트\n",
    "\n",
    "students = [\n",
    "    Student('슈가', 87, 98, 88, 95 ),\n",
    "    Student('진', 90, 99, 86, 97 ),\n",
    "    Student('카리', 99, 89, 99, 99)\n",
    "]\n",
    "\n",
    "print('이름','총점','평균', sep = '\\t\\t')\n",
    "for student in students:\n",
    "    print(student.to_string())\n",
    "    \n",
    "# 어떤 객체가 가지고 있는 어떤 함수(기능)를 명확하게 이해할 수 있으므로 매우 편리하다."
   ]
  },
  {
   "cell_type": "code",
   "execution_count": 26,
   "id": "0b133fa2",
   "metadata": {},
   "outputs": [
    {
     "name": "stdout",
     "output_type": "stream",
     "text": [
      "3\n",
      "8\n",
      "2\n",
      "6\n"
     ]
    }
   ],
   "source": [
    "result1 = 0\n",
    "result2 = 0\n",
    "\n",
    "def add1(num):\n",
    "    global result1\n",
    "    result1 += num\n",
    "    return result1\n",
    "\n",
    "def add2(num):\n",
    "    global result2\n",
    "    result2 += num\n",
    "    return result2\n",
    "\n",
    "print(add1(3))\n",
    "print(add1(5))\n",
    "\n",
    "print(add2(2))\n",
    "print(add2(4))"
   ]
  },
  {
   "cell_type": "code",
   "execution_count": 31,
   "id": "ee1dcc58",
   "metadata": {},
   "outputs": [
    {
     "name": "stdout",
     "output_type": "stream",
     "text": [
      "3\n",
      "7\n",
      "5\n",
      "11\n"
     ]
    }
   ],
   "source": [
    "class Cal:\n",
    "    # 생성자\n",
    "    def __init__(self):\n",
    "        self.result = 0\n",
    "        \n",
    "    def add(self,num):\n",
    "        self.result += num\n",
    "        return self.result\n",
    "    \n",
    "cal1 = Cal()\n",
    "cal2 = Cal()\n",
    "\n",
    "print(cal1.add(3))\n",
    "print(cal1.add(4))\n",
    "\n",
    "print(cal2.add(5))\n",
    "print(cal2.add(6))"
   ]
  },
  {
   "cell_type": "code",
   "execution_count": 43,
   "id": "ae67f144",
   "metadata": {},
   "outputs": [
    {
     "ename": "TypeError",
     "evalue": "MoreFourCal() takes no arguments",
     "output_type": "error",
     "traceback": [
      "\u001b[1;31m---------------------------------------------------------------------------\u001b[0m",
      "\u001b[1;31mTypeError\u001b[0m                                 Traceback (most recent call last)",
      "\u001b[1;32m~\\AppData\\Local\\Temp/ipykernel_8804/4193814795.py\u001b[0m in \u001b[0;36m<module>\u001b[1;34m\u001b[0m\n\u001b[0;32m     23\u001b[0m     \u001b[1;32mpass\u001b[0m\u001b[1;33m\u001b[0m\u001b[1;33m\u001b[0m\u001b[0m\n\u001b[0;32m     24\u001b[0m \u001b[1;33m\u001b[0m\u001b[0m\n\u001b[1;32m---> 25\u001b[1;33m \u001b[0ma\u001b[0m \u001b[1;33m=\u001b[0m \u001b[0mMoreFourCal\u001b[0m\u001b[1;33m(\u001b[0m\u001b[1;36m4\u001b[0m\u001b[1;33m,\u001b[0m\u001b[1;36m2\u001b[0m\u001b[1;33m)\u001b[0m\u001b[1;33m\u001b[0m\u001b[1;33m\u001b[0m\u001b[0m\n\u001b[0m\u001b[0;32m     26\u001b[0m \u001b[0ma\u001b[0m\u001b[1;33m.\u001b[0m\u001b[0madd\u001b[0m\u001b[1;33m(\u001b[0m\u001b[1;33m)\u001b[0m\u001b[1;33m\u001b[0m\u001b[1;33m\u001b[0m\u001b[0m\n\u001b[0;32m     27\u001b[0m \u001b[1;33m\u001b[0m\u001b[0m\n",
      "\u001b[1;31mTypeError\u001b[0m: MoreFourCal() takes no arguments"
     ]
    }
   ],
   "source": [
    "class FourCal:\n",
    "    def setdata(self,first,second):\n",
    "        self.first = first\n",
    "        self.second = second\n",
    "        \n",
    "    def add(self):\n",
    "        result = self.first + self.second\n",
    "        return result\n",
    "    \n",
    "    def sub(self):\n",
    "        result = self.first - self.second\n",
    "        return result\n",
    "    \n",
    "    def mul(self):\n",
    "        result = self.first * self.second\n",
    "        return result\n",
    "    \n",
    "    def div(self):\n",
    "        result = self.first / self.second\n",
    "        return result\n",
    "    \n",
    "a = FourCal()\n",
    "a.setdata(4,2)\n",
    "print(a.add())\n",
    "print(a.sub())\n",
    "print(a.mul())\n",
    "print(a.div())"
   ]
  },
  {
   "cell_type": "code",
   "execution_count": 46,
   "id": "8a95c5b9",
   "metadata": {},
   "outputs": [
    {
     "data": {
      "text/plain": [
       "6"
      ]
     },
     "execution_count": 46,
     "metadata": {},
     "output_type": "execute_result"
    }
   ],
   "source": [
    "# 상속 inheritance - 어떤 클래스를 만들 때 다른 클래스의 기능을 물려받아 사용한다.\n",
    "\n",
    "class FourCal:\n",
    "    def __init__(self,first,second):\n",
    "        self.first = first\n",
    "        self.second = second\n",
    "        \n",
    "    def add(self):\n",
    "        result = self.first + self.second\n",
    "        return result\n",
    "    \n",
    "    def sub(self):\n",
    "        result = self.first - self.second\n",
    "        return result\n",
    "    \n",
    "    def mul(self):\n",
    "        result = self.first * self.second\n",
    "        return result\n",
    "    \n",
    "    def div(self):\n",
    "        result = self.first / self.second\n",
    "        return result\n",
    "\n",
    "class MoreFourCal(FourCal):\n",
    "    pass\n",
    "\n",
    "a = MoreFourCal(4,2)\n",
    "a.add()"
   ]
  },
  {
   "cell_type": "code",
   "execution_count": 47,
   "id": "5b70f931",
   "metadata": {},
   "outputs": [
    {
     "data": {
      "text/plain": [
       "16"
      ]
     },
     "execution_count": 47,
     "metadata": {},
     "output_type": "execute_result"
    }
   ],
   "source": [
    "class MoreFourCal(FourCal):\n",
    "    def pow(self):\n",
    "        result = self.first ** self.second\n",
    "        return result\n",
    "\n",
    "a = MoreFourCal(4,2)\n",
    "a.pow()"
   ]
  },
  {
   "cell_type": "code",
   "execution_count": 48,
   "id": "b5a2dbab",
   "metadata": {},
   "outputs": [
    {
     "data": {
      "text/plain": [
       "0"
      ]
     },
     "execution_count": 48,
     "metadata": {},
     "output_type": "execute_result"
    }
   ],
   "source": [
    "# 매서드 오버 라이딩 method overriding\n",
    "\n",
    "class SafeFourCal(FourCal):\n",
    "    def div(self):\n",
    "        if self.second == 0:\n",
    "            return 0\n",
    "        else:\n",
    "            return self.first / self.second\n",
    "        \n",
    "a = SafeFourCal(4,0)\n",
    "a.div()"
   ]
  },
  {
   "cell_type": "code",
   "execution_count": 52,
   "id": "74b816cb",
   "metadata": {},
   "outputs": [
    {
     "name": "stdout",
     "output_type": "stream",
     "text": [
      "김\n",
      "김\n",
      "박\n",
      "박\n"
     ]
    }
   ],
   "source": [
    "# 클래스 변수\n",
    "\n",
    "# 객체변수는 다른 객체들에 영향받지 않고 독립적으로 그 값을 유지한다는 점을 이미 알아보았다.\n",
    "# 이번에는 객체변수와는 성격이 다른 클래스 변수에 대해 알아보자.\n",
    "\n",
    "class Family:\n",
    "    lastname = '김' # 클래스 변수 선언\n",
    "    \n",
    "Family.lastname\n",
    "    \n",
    "a = Family()\n",
    "b = Family()\n",
    "\n",
    "print(a.lastname)\n",
    "print(b.lastname)\n",
    "\n",
    "Family.lastname = \"박\"\n",
    "\n",
    "print(a.lastname)\n",
    "print(b.lastname)"
   ]
  },
  {
   "cell_type": "code",
   "execution_count": 57,
   "id": "2ae964dc",
   "metadata": {},
   "outputs": [
    {
     "name": "stdout",
     "output_type": "stream",
     "text": [
      "3\n"
     ]
    }
   ],
   "source": [
    "class Calculator:\n",
    "    def __init__(self):\n",
    "        self.value = 0\n",
    "        \n",
    "    def add(self, val):\n",
    "        self.value += val\n",
    "        return self.value\n",
    "    \n",
    "class UpgradeCalculator(Calculator):\n",
    "    def minus(self, val):\n",
    "        self.value -= val\n",
    "        return self.value\n",
    "    \n",
    "cal = UpgradeCalculator()\n",
    "cal.add(10)\n",
    "cal.minus(7)\n",
    "\n",
    "print(cal.value)"
   ]
  },
  {
   "cell_type": "code",
   "execution_count": 58,
   "id": "8d486def",
   "metadata": {},
   "outputs": [
    {
     "name": "stdout",
     "output_type": "stream",
     "text": [
      "100\n"
     ]
    }
   ],
   "source": [
    "class MaxLimitCalculator(Calculator):\n",
    "    def add(self,val):\n",
    "        self.value += val\n",
    "        if(self.value > 100):\n",
    "            self.value = 100\n",
    "        return self.value\n",
    "\n",
    "cal = MaxLimitCalculator()\n",
    "cal.add(50)\n",
    "cal.add(60)\n",
    "\n",
    "print(cal.value)\n"
   ]
  }
 ],
 "metadata": {
  "kernelspec": {
   "display_name": "Python 3 (ipykernel)",
   "language": "python",
   "name": "python3"
  },
  "language_info": {
   "codemirror_mode": {
    "name": "ipython",
    "version": 3
   },
   "file_extension": ".py",
   "mimetype": "text/x-python",
   "name": "python",
   "nbconvert_exporter": "python",
   "pygments_lexer": "ipython3",
   "version": "3.9.7"
  }
 },
 "nbformat": 4,
 "nbformat_minor": 5
}
