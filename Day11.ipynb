{
  "nbformat": 4,
  "nbformat_minor": 0,
  "metadata": {
    "colab": {
      "name": "Day11.ipynb",
      "provenance": [],
      "collapsed_sections": [],
      "authorship_tag": "ABX9TyMux6Y2qAb/TdJGkkzQVJOj",
      "include_colab_link": true
    },
    "kernelspec": {
      "name": "python3",
      "display_name": "Python 3"
    },
    "language_info": {
      "name": "python"
    }
  },
  "cells": [
    {
      "cell_type": "markdown",
      "metadata": {
        "id": "view-in-github",
        "colab_type": "text"
      },
      "source": [
        "<a href=\"https://colab.research.google.com/github/limjs0108/ai/blob/master/Day11.ipynb\" target=\"_parent\"><img src=\"https://colab.research.google.com/assets/colab-badge.svg\" alt=\"Open In Colab\"/></a>"
      ]
    },
    {
      "cell_type": "code",
      "execution_count": 1,
      "metadata": {
        "colab": {
          "base_uri": "https://localhost:8080/"
        },
        "id": "VV8x9voyj19f",
        "outputId": "478d4e29-e750-4110-f43a-f258d1825c77"
      },
      "outputs": [
        {
          "output_type": "stream",
          "name": "stdout",
          "text": [
            "First Name:임진석\n",
            "Hello 임진석\n"
          ]
        }
      ],
      "source": [
        "# 001 Ask for the users' first name and display the output message\n",
        "# (output) Hello [First Name]\n",
        "# (input) First Name:\n",
        "\n",
        "FirstName = input('First Name:')\n",
        "print(f'Hello {FirstName}')"
      ]
    },
    {
      "cell_type": "code",
      "source": [
        "# 002 Ask for the user's first name and then as for their surname and display the output message\n",
        "# (output) Hello [First Name][Surname]\n",
        "# (input) 'Please enter your surname:\n",
        "# (input) 'Please enter your firstname:\n",
        "\n",
        "SName = input('Please enter your surname:')\n",
        "FName = input('Please enter your firstname:')\n",
        "print(f'Hello {FName}{SName}')"
      ],
      "metadata": {
        "colab": {
          "base_uri": "https://localhost:8080/"
        },
        "id": "VA77FAbkkqRe",
        "outputId": "e9fd50ed-db69-4473-b0ec-804e9e962fce"
      },
      "execution_count": 2,
      "outputs": [
        {
          "output_type": "stream",
          "name": "stdout",
          "text": [
            "Please enter your surname:jinseug\n",
            "Please enter your firstname:lim\n",
            "Hello limjinseug\n"
          ]
        }
      ]
    },
    {
      "cell_type": "code",
      "source": [
        "# Ask the user to enter two numbers. Add them together and display the answer as\n",
        "# (output) The total is [answer]\n",
        "# (input) 'Please enter your first number:\n",
        "# (input) 'Please enter your second number:\n",
        "\n",
        "Fnum = int(input('Please enter your first number:'))\n",
        "Snum = int(input('Please enter your second number:'))\n",
        "print(f'The total is {Fnum+Snum}')"
      ],
      "metadata": {
        "colab": {
          "base_uri": "https://localhost:8080/"
        },
        "id": "HMk9Rg8KmMFS",
        "outputId": "f56e37d5-9fdc-4c1a-81ea-9960ecba7a87"
      },
      "execution_count": 6,
      "outputs": [
        {
          "output_type": "stream",
          "name": "stdout",
          "text": [
            "Please enter your first number:4\n",
            "Please enter your second number:5\n",
            "The total is 9\n"
          ]
        }
      ]
    },
    {
      "cell_type": "code",
      "source": [
        "# Ask how many slices of pizza the user started with and ask how many slices they have eaten.\n",
        "# Work out how many slices they have left and display the answer in a user friendly format\n",
        "\n",
        "# (input) 'Enter the number of slices of pizza you started with:'\n",
        "# (input) 'How many slices have you eaten?'\n",
        "# (output) 'The answer is [answer]'\n",
        "\n",
        "SOP = int(input('Enter the number of slices of pizza you started with:'))\n",
        "SOPE = int(input('How many slices have you eaten?'))\n",
        "print(f'The answer is {SOP-SOPE}')"
      ],
      "metadata": {
        "colab": {
          "base_uri": "https://localhost:8080/"
        },
        "id": "bQ5XQpH-nhPm",
        "outputId": "1c26bf3e-e9b5-4713-fa87-16c82623ebf8"
      },
      "execution_count": 7,
      "outputs": [
        {
          "output_type": "stream",
          "name": "stdout",
          "text": [
            "Enter the number of slices of pizza you started with:8\n",
            "How many slices have you eaten?5\n",
            "The answer is 3\n"
          ]
        }
      ]
    },
    {
      "cell_type": "code",
      "source": [
        "# Write a program that will ask for a number of days and then will show\n",
        "# how many hours, minutes and seconds are in that number of days.\n",
        "\n",
        "# (input) 'Enter the number of days:'\n",
        "# (output) ' IN [days], days there are...'\n",
        "#       [hours] hours,\n",
        "#       [minutes] minutes,\n",
        "#       [seconds] seconds,\n",
        "\n",
        "import time\n",
        "\n",
        "days = int(input('Enter the number of days:'))\n",
        "now = time.localtime()\n",
        "\n",
        "print(f'IN {days}, days there are...\\n{days*24} hours,\\n{days*24*60} minutes,\\n{days*24*60*60} seconds')\n",
        " "
      ],
      "metadata": {
        "colab": {
          "base_uri": "https://localhost:8080/"
        },
        "id": "MK0E6sD0outI",
        "outputId": "ad255aaa-cbe4-4c4a-a726-4919f5226d3b"
      },
      "execution_count": 9,
      "outputs": [
        {
          "output_type": "stream",
          "name": "stdout",
          "text": [
            "Enter the number of days:2\n",
            "IN 2, days there are...\n",
            "48 hours,\n",
            "2880 minutes,\n",
            "172800 seconds\n"
          ]
        }
      ]
    },
    {
      "cell_type": "code",
      "source": [
        "# Task the user to enter a number over 100 and then enter a number\n",
        "# under 10 and tell them how many times the smaller number goes into the lager\n",
        "# number in a user_friendly format.\n",
        "\n",
        "# (input) 'Enter the number over 100 :'\n",
        "# (input) 'Enter the number under 10 : '\n",
        "# (output) '[smaller] goes into [larger] answer[times]'\n",
        "\n",
        "over_num = int(input('Enter the number over 100 :'))\n",
        "under_num = int(input('Enter the number under 10 : '))\n",
        "\n",
        "print(f'{under_num} goes into {over_num} answer {over_num//under_num }')"
      ],
      "metadata": {
        "colab": {
          "base_uri": "https://localhost:8080/"
        },
        "id": "Fevt4JZoslqF",
        "outputId": "68329441-a7f1-4733-92f9-7a5197ab1648"
      },
      "execution_count": 12,
      "outputs": [
        {
          "output_type": "stream",
          "name": "stdout",
          "text": [
            "Enter the number over 100 :200\n",
            "Enter the number under 10 : 8\n",
            "8 goes into 200 answer 25\n"
          ]
        }
      ]
    },
    {
      "cell_type": "code",
      "source": [
        "###############################\n",
        "# IF Statement\n",
        "###############################\n",
        "# Ask for two numbers. if the first one is larger than the second, display the second number first and\n",
        "# then the first number, otherwise show the first number fisrt and then the second\n",
        "\n",
        "# (input) 'Enter first number : 3'\n",
        "# (input) 'Enter second number : 2'\n",
        "# (output) 2 3\n",
        "\n",
        "num1 = input('Enter first number : ')\n",
        "num2 = input('Enter second number : ')\n",
        "\n",
        "if num1 > num2:\n",
        "  print(num2, num1)\n",
        "else:\n",
        "  print(num1, num2)"
      ],
      "metadata": {
        "colab": {
          "base_uri": "https://localhost:8080/"
        },
        "id": "sWMKL4LN0Szm",
        "outputId": "dff3f110-4f30-416d-a86e-be0bfedcaf69"
      },
      "execution_count": 13,
      "outputs": [
        {
          "output_type": "stream",
          "name": "stdout",
          "text": [
            "Enter first number : 3\n",
            "Enter second number : 2\n",
            "2 3\n"
          ]
        }
      ]
    },
    {
      "cell_type": "code",
      "source": [
        "# Ask the user to enter a number between 10 and 20 if they enter a number within this range,\n",
        "# display the messsage 'Thank you' ohterwise display the message 'incorrect number'\n",
        "\n",
        "num = int(input('Enter number : '))\n",
        "if num >= 10 and num <=20:\n",
        "  print('Thank you')\n",
        "else:\n",
        "  print('incorrect number')"
      ],
      "metadata": {
        "colab": {
          "base_uri": "https://localhost:8080/"
        },
        "id": "5EpA6DVz2MYP",
        "outputId": "5eb25714-fbbc-4eed-d5cc-0a17fcf0a1e4"
      },
      "execution_count": 16,
      "outputs": [
        {
          "output_type": "stream",
          "name": "stdout",
          "text": [
            "Enter number : 10\n",
            "Thank you\n"
          ]
        }
      ]
    },
    {
      "cell_type": "code",
      "source": [
        "# Ask the user to enter their favorite color. If they enter 'red','RED'or'Red'\n",
        "# display the message 'I like red too', otherwise display the message\n",
        "# i dont like [color], I prefer red'\n",
        "\n",
        "color = input('Enter your favorite color : ')\n",
        "\n",
        "if color in ['red','Red','RED']:\n",
        "  print('I like red too')\n",
        "else:\n",
        "  print(f'I dont like {color}, I prefer red')"
      ],
      "metadata": {
        "colab": {
          "base_uri": "https://localhost:8080/"
        },
        "id": "ajVi8Uej4dCw",
        "outputId": "d74478cd-4000-4a17-8033-25c01bdf82d0"
      },
      "execution_count": 23,
      "outputs": [
        {
          "output_type": "stream",
          "name": "stdout",
          "text": [
            "Enter your favorite color : RED\n",
            "I like red too\n"
          ]
        }
      ]
    },
    {
      "cell_type": "code",
      "source": [
        "# Ask the user if it is raining and convert their answer to lower case\n",
        "# so it doesnt matter what case they type it in. If they answer 'yes',\n",
        "# ask if it is windy. If they answer 'yes' to this second question,\n",
        "# display the answer 'it is too windy for an numbrella',otherwise\n",
        "# display the message 'Take an umbrella'. If they did not answer yes to th first qusetion,\n",
        "# display the answer 'Enjoy your day'.\n",
        "\n",
        "answer1 = input('it is raining? ').lower()\n",
        "\n",
        "if answer1 == 'yes':\n",
        "  answer2 = input('it is windy? ').lower()\n",
        "  if answer2 == 'yes':\n",
        "    print('it is too windy for an umbrella')\n",
        "  else:\n",
        "    print('Take an umbrella')\n",
        "else:\n",
        "  print('Enjoy your day')"
      ],
      "metadata": {
        "colab": {
          "base_uri": "https://localhost:8080/"
        },
        "id": "wK_AcB1559bZ",
        "outputId": "cec50d61-4fe8-489f-be3f-2f11560c0768"
      },
      "execution_count": 38,
      "outputs": [
        {
          "output_type": "stream",
          "name": "stdout",
          "text": [
            "it is raining? Yes\n",
            "it is windy? No\n",
            "Take an umbrella\n"
          ]
        }
      ]
    },
    {
      "cell_type": "code",
      "source": [
        "# Ask the user's age. If ther are 18 or over, display the message 'You can vote',\n",
        "# if they are aged 17, display the message 'You can learn to drive',\n",
        "# if they are 16, display the message 'You can by a lottery ticket',\n",
        "# if they are under 16, display the message 'You can go Trcik or Treating'\n",
        "\n",
        "# (input) What is your age?\n",
        "\n",
        "# (output) 'You can vote',\n",
        "            # 'You can learn to drive'\n",
        "            # 'You can by a lottery ticket'\n",
        "            # 'You can go Trcik or Treating'\n",
        "\n",
        "age = int(input('What is your age? '))\n",
        "\n",
        "if age >= 18:\n",
        "  print('You can vote')\n",
        "elif age == 17:\n",
        "  print('You can learn to drive')\n",
        "elif age == 16:\n",
        "  print('You can by a lottery ticket')\n",
        "else:\n",
        "  print('You can go Trcik or Treating')"
      ],
      "metadata": {
        "colab": {
          "base_uri": "https://localhost:8080/"
        },
        "id": "MQwcYUuJCYBC",
        "outputId": "a150125a-f558-4af6-cc85-d5fd399d607b"
      },
      "execution_count": 45,
      "outputs": [
        {
          "output_type": "stream",
          "name": "stdout",
          "text": [
            "What is your age? 14\n",
            "You can go Trcik or Treating\n"
          ]
        }
      ]
    },
    {
      "cell_type": "code",
      "source": [
        "###################\n",
        "# String\n",
        "###################\n",
        "\n",
        "# Ask the user to enter their name and then display the length of their name !\n",
        "\n",
        "name = input('name : ')\n",
        "len_cnt = 0\n",
        "for i in name:\n",
        "  len_cnt += 1\n",
        "\n",
        "print(len_cnt)"
      ],
      "metadata": {
        "colab": {
          "base_uri": "https://localhost:8080/"
        },
        "id": "sQiBuM4CEzmN",
        "outputId": "4ac65e8f-0f3d-4155-b8a6-8d6dce5c19b9"
      },
      "execution_count": 46,
      "outputs": [
        {
          "output_type": "stream",
          "name": "stdout",
          "text": [
            "name : limjinseug\n",
            "10\n"
          ]
        }
      ]
    },
    {
      "cell_type": "code",
      "source": [
        "# Ask the user to enter their first name and lastname in lower case\n",
        "# Change the case to title case and join them together.\n",
        "# Display the fisnihed result.\n",
        "\n",
        "fName = input('Enter your first name : ').lower()\n",
        "lName = input('Enter your last name : ').lower()\n",
        "\n",
        "# name = fName[0].upper() + fName[1:] + lName[0].upper() + lName[1:]\n",
        "\n",
        "fName = fName.title()\n",
        "lName = lName.title()\n",
        "\n",
        "name = fName + ' ' + lName\n",
        "print(name)"
      ],
      "metadata": {
        "colab": {
          "base_uri": "https://localhost:8080/"
        },
        "id": "c-Z7tbuKFlXd",
        "outputId": "75b9e967-feb5-4cdc-ef77-d8ae93ef6bc6"
      },
      "execution_count": 49,
      "outputs": [
        {
          "output_type": "stream",
          "name": "stdout",
          "text": [
            "Enter your first name : LIM\n",
            "Enter your last name : JINSEUG\n",
            "LimJinseug\n"
          ]
        }
      ]
    },
    {
      "cell_type": "code",
      "source": [
        "# Ask the user to enter their first name. If the length of their first name is under five characters,\n",
        "# ask them to enter their last name and join them together (without a space) and\n",
        "# display the nmae in upper case. If the length of the first name is five or more characters,\n",
        "# display their first name in lower case.\n",
        "\n",
        "fName = fName = input('Enter your first name : ')\n",
        "if len(fName) < 5:\n",
        "   lName = input('Enter your last name : ')\n",
        "   name = fName + lName\n",
        "   print(name.upper())\n",
        "else:\n",
        "  print(fName.lower())\n"
      ],
      "metadata": {
        "colab": {
          "base_uri": "https://localhost:8080/"
        },
        "id": "X0iVdzwDHnvo",
        "outputId": "32835373-0615-4f11-fe7f-fd6521096399"
      },
      "execution_count": 51,
      "outputs": [
        {
          "output_type": "stream",
          "name": "stdout",
          "text": [
            "Enter your first name : ambruae\n",
            "ambruae\n"
          ]
        }
      ]
    },
    {
      "cell_type": "code",
      "source": [
        "# Pig Latin takes the first consonant of a word,\n",
        "# moves it to the end of the word and adds on an 'ay'.\n",
        "# If a word begins with a vowel you just add 'way' to the end.\n",
        "\n",
        "# For example, pig becomes igpay, banana becomes ananabay, and aadvark becomes\n",
        "# aaddvarkway. Create a program that will ask the user to enter a word and \n",
        "# change it into Pig Latin. Make suer the new word is displayed in lower case.\n",
        "\n",
        "str1 = input('Enter a word : ')\n",
        "res = ''\n",
        "if str1[0] in ['a','o','e','u','i']:\n",
        "  res = str1 + 'way'\n",
        "else:\n",
        "  res = str1[1:] + str1[0] + 'ay'\n",
        "\n",
        "print(res.lower())\n",
        "  "
      ],
      "metadata": {
        "colab": {
          "base_uri": "https://localhost:8080/"
        },
        "id": "xofAp9o2PXQV",
        "outputId": "a6a2d53d-a78d-4830-ef58-2d908df7b1be"
      },
      "execution_count": 61,
      "outputs": [
        {
          "output_type": "stream",
          "name": "stdout",
          "text": [
            "Enter a word : pig\n",
            "igpay\n"
          ]
        }
      ]
    }
  ]
}