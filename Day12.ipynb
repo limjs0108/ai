{
  "nbformat": 4,
  "nbformat_minor": 0,
  "metadata": {
    "colab": {
      "name": "Day12.ipynb",
      "provenance": [],
      "collapsed_sections": [],
      "authorship_tag": "ABX9TyM5qBbRJRFibhE/w8231W/Q",
      "include_colab_link": true
    },
    "kernelspec": {
      "name": "python3",
      "display_name": "Python 3"
    },
    "language_info": {
      "name": "python"
    }
  },
  "cells": [
    {
      "cell_type": "markdown",
      "metadata": {
        "id": "view-in-github",
        "colab_type": "text"
      },
      "source": [
        "<a href=\"https://colab.research.google.com/github/limjs0108/ai/blob/master/Day12.ipynb\" target=\"_parent\"><img src=\"https://colab.research.google.com/assets/colab-badge.svg\" alt=\"Open In Colab\"/></a>"
      ]
    },
    {
      "cell_type": "code",
      "execution_count": 1,
      "metadata": {
        "colab": {
          "base_uri": "https://localhost:8080/"
        },
        "id": "UcnsfEJa52og",
        "outputId": "92d3544a-f48a-4b27-cd5c-d7b47d529381"
      },
      "outputs": [
        {
          "output_type": "stream",
          "name": "stdout",
          "text": [
            "3.14\n"
          ]
        }
      ],
      "source": [
        "# Maths\n",
        "num = 3.141592\n",
        "print(round(num,2)) # Display a number rounded to two decimal places."
      ]
    },
    {
      "cell_type": "code",
      "source": [
        "10**2\n",
        "# To the power of ..."
      ],
      "metadata": {
        "colab": {
          "base_uri": "https://localhost:8080/"
        },
        "id": "CWfrfSYs7OR5",
        "outputId": "7170e4d3-bdd6-48f8-a42e-867660f8ca5d"
      },
      "execution_count": 2,
      "outputs": [
        {
          "output_type": "execute_result",
          "data": {
            "text/plain": [
              "100"
            ]
          },
          "metadata": {},
          "execution_count": 2
        }
      ]
    },
    {
      "cell_type": "code",
      "source": [
        "import math\n",
        "\n",
        "math.sqrt(100)\n",
        "\n",
        "# The square root of a number but you must have the line 'import math'\n",
        "# at the top of your program for this to work."
      ],
      "metadata": {
        "colab": {
          "base_uri": "https://localhost:8080/"
        },
        "id": "EkQ7IAJW7ZOP",
        "outputId": "997e4f94-5012-4892-dad9-07ff84684c52"
      },
      "execution_count": 3,
      "outputs": [
        {
          "output_type": "execute_result",
          "data": {
            "text/plain": [
              "10.0"
            ]
          },
          "metadata": {},
          "execution_count": 3
        }
      ]
    },
    {
      "cell_type": "code",
      "source": [
        "math.pi\n",
        "\n",
        "# Gives you pi to decimal places, but you must have the line 'import math'\n",
        "# at the top of your program for this to work."
      ],
      "metadata": {
        "colab": {
          "base_uri": "https://localhost:8080/"
        },
        "id": "NplYC8Qf74Dn",
        "outputId": "9c9124be-6245-4517-fb93-aa02031db034"
      },
      "execution_count": 4,
      "outputs": [
        {
          "output_type": "execute_result",
          "data": {
            "text/plain": [
              "3.141592653589793"
            ]
          },
          "metadata": {},
          "execution_count": 4
        }
      ]
    },
    {
      "cell_type": "code",
      "source": [
        "15 // 2\n",
        "# Whole number division. 15//2 gives the answer 7."
      ],
      "metadata": {
        "colab": {
          "base_uri": "https://localhost:8080/"
        },
        "id": "mA5VcZA08Rv9",
        "outputId": "68379b6f-52af-4845-de28-5e2276a5e873"
      },
      "execution_count": 5,
      "outputs": [
        {
          "output_type": "execute_result",
          "data": {
            "text/plain": [
              "7"
            ]
          },
          "metadata": {},
          "execution_count": 5
        }
      ]
    },
    {
      "cell_type": "code",
      "source": [
        "15 % 2\n",
        "# Finds the remainder. 15 % 2 gives the answer 1"
      ],
      "metadata": {
        "id": "JrBpCieA8WXV"
      },
      "execution_count": null,
      "outputs": []
    },
    {
      "cell_type": "code",
      "source": [
        "# Ask the user to enter an integer thar is over 500. Work out the square root of\n",
        "# that number and display it to two decimal places.\n",
        "import math\n",
        "\n",
        "num = int(input('Enter a number over 500 :'))\n",
        "print(round(math.sqrt(num),2))"
      ],
      "metadata": {
        "colab": {
          "base_uri": "https://localhost:8080/"
        },
        "id": "umGkPj_m8s-d",
        "outputId": "3b3d7c97-b3ef-4831-d37d-f0899e3460c4"
      },
      "execution_count": 7,
      "outputs": [
        {
          "output_type": "stream",
          "name": "stdout",
          "text": [
            "Enter a number over 500 :514\n",
            "22.67\n"
          ]
        }
      ]
    },
    {
      "cell_type": "code",
      "source": [
        "# Ask the user to enter the radius of a circle.\n",
        "# Work out the area of the circle.\n",
        "import math\n",
        "\n",
        "r = int(input('Enter the radius of the circle : '))\n",
        "area = math.pi * r**2\n",
        "print(area)\n"
      ],
      "metadata": {
        "colab": {
          "base_uri": "https://localhost:8080/"
        },
        "id": "wpxgZ97n-GKL",
        "outputId": "18031018-8071-4ae9-b774-43b4dc050cda"
      },
      "execution_count": 10,
      "outputs": [
        {
          "output_type": "stream",
          "name": "stdout",
          "text": [
            "Enter the radius of the circle : 5\n",
            "78.53981633974483\n"
          ]
        }
      ]
    },
    {
      "cell_type": "code",
      "source": [
        "# Ask the user to enter two numbers. Use Whole number division to divide\n",
        "# the first number by the second and also work out the remainder and \n",
        "# display the answer in a user-friendly way...\n",
        "# if they enter 7 and 2 dislpay 7 divided by 2 is 3 with 1 remaining'\n",
        "\n",
        "num1 = int(input('Enter a first number : '))\n",
        "num2 = int(input('Enter a second number : '))\n",
        "\n",
        "div = num1 // num2\n",
        "rem = num1 % num2\n",
        "print(f'{num1} divided by {num2} is {div} with {rem} remaining')"
      ],
      "metadata": {
        "colab": {
          "base_uri": "https://localhost:8080/"
        },
        "id": "WISOZ_44_CGa",
        "outputId": "6c88906d-2244-4988-f781-20a2438dc387"
      },
      "execution_count": 11,
      "outputs": [
        {
          "output_type": "stream",
          "name": "stdout",
          "text": [
            "Enter a first number : 5\n",
            "Enter a second number : 4\n",
            "5 divided by 4 is 1 with 1 remaining\n"
          ]
        }
      ]
    },
    {
      "cell_type": "code",
      "source": [
        "# Display the following message:\n",
        "#       1) Square\n",
        "#       2) Triangle\n",
        "#       Enter a number:\n",
        "\n",
        "# if the user enters 1, then it shoul ask them for the length of one of its\n",
        "# sides and display the area. If they select 2. it should ask for the base and\n",
        "# height of the triangle and display the area. If they type in anything else.\n",
        "# it should give them a suitable error message.\n",
        "\n",
        "choice = int(input('Enter a number : '))\n",
        "if choice == 1:\n",
        "  side1 = int(input('Enter a side : '))\n",
        "  side2 = int(input('Enter a side : '))\n",
        "  area = side1 * side2\n",
        "  print(area)\n",
        "elif choice == 2:\n",
        "  base = int(input('Enter a base : '))\n",
        "  height = int(input('Enter a height : '))\n",
        "  area = base * height / 2\n",
        "  print(area)\n",
        "else:\n",
        "  print('Please enter the number 1 or 2')\n"
      ],
      "metadata": {
        "colab": {
          "base_uri": "https://localhost:8080/"
        },
        "id": "6MzgYoakAZZV",
        "outputId": "0127ffcf-1a23-4f00-9676-f86814df829e"
      },
      "execution_count": 16,
      "outputs": [
        {
          "output_type": "stream",
          "name": "stdout",
          "text": [
            "Enter a number : 3\n",
            "Please enter the number 1 or 2\n"
          ]
        }
      ]
    },
    {
      "cell_type": "code",
      "source": [
        "#########################################\n",
        "# For\n",
        "#########################################\n",
        "\n",
        "# The range function is often used in for loops and lists the starting number,\n",
        "# the ending number and can also include the steps\n",
        "\n",
        "# for i in range(start, stop, step)\n",
        "\n",
        "for i in range(0,5):\n",
        "  print(i)"
      ],
      "metadata": {
        "id": "liGE5IVxO6OK"
      },
      "execution_count": null,
      "outputs": []
    },
    {
      "cell_type": "code",
      "source": [
        "for i in range(0,5,1):\n",
        "  print(i)"
      ],
      "metadata": {
        "id": "Gq0Tk8C0O6j2"
      },
      "execution_count": null,
      "outputs": []
    },
    {
      "cell_type": "code",
      "source": [
        "for i in range(5):\n",
        "  print(i)"
      ],
      "metadata": {
        "id": "LqlW-PuLO8cV"
      },
      "execution_count": null,
      "outputs": []
    },
    {
      "cell_type": "code",
      "source": [
        "for i in range(10,1,-3):\n",
        "  print(i)"
      ],
      "metadata": {
        "id": "7RTkRJEcO93b"
      },
      "execution_count": null,
      "outputs": []
    },
    {
      "cell_type": "code",
      "source": [
        "no = [0,1,2,3,4]\n",
        "\n",
        "for i in no:\n",
        "  print(i)"
      ],
      "metadata": {
        "id": "qf51p3ryPCdU"
      },
      "execution_count": null,
      "outputs": []
    },
    {
      "cell_type": "code",
      "source": [
        "# Ask the user to enter their name and then display their name three times.\n",
        "\n",
        "# Alter program, so that it will ask the user to enter their name and a number\n",
        "# and then display their name that number of times.\n",
        "\n",
        "name = input('your name??? >>')\n",
        "no = int(input('how many??? >>'))\n",
        "for i in range(no):\n",
        "  print(name)"
      ],
      "metadata": {
        "id": "mkzg69hcPD0w"
      },
      "execution_count": null,
      "outputs": []
    },
    {
      "cell_type": "code",
      "source": [
        "# Ask the user to enter their name and \n",
        "# display each letter in their name on a separate line.\n",
        "\n",
        "name = input('Your name??? >>>')\n",
        "\n",
        "for i in name:\n",
        "  print(i)"
      ],
      "metadata": {
        "id": "bIhcHglMPEJs"
      },
      "execution_count": null,
      "outputs": []
    },
    {
      "cell_type": "code",
      "source": [
        "# Ask for a number below 50 and then count down from 50 to that number,\n",
        "# making sure you show the number they entered in the output.\n",
        "\n",
        "# 50 미만의 수를 입력 받아 50 부터 (거꾸로) 카운 다운하면서 숫자를 출력한다. \n",
        "# 입력한 숫자까지 출력하자\n",
        "\n",
        "num = int(input(\"Enter num (not over 50) \"))\n",
        "for i in range(50,num-1,-1):\n",
        "    print(i)\n",
        "print('you entered',num)"
      ],
      "metadata": {
        "id": "A_XjQLLmPFk6"
      },
      "execution_count": null,
      "outputs": []
    },
    {
      "cell_type": "code",
      "source": [
        "# Set a variable called total to 0. Ask the user to enter five numbers and after each \n",
        "# input ask them if they want that number included. \n",
        "# If they do, then add the number to the total.\n",
        "# After they have entered all five number, display the total.\n",
        "\n",
        "total = 0\n",
        "for i in range(5):\n",
        "  num = int(input('Enter a number : '))\n",
        "  ans = input('Do you want this number included? ').lower()\n",
        "  if ans == 'y':\n",
        "    total += num\n",
        "\n",
        "print(total)"
      ],
      "metadata": {
        "colab": {
          "base_uri": "https://localhost:8080/"
        },
        "id": "gsIcUaNSPMC3",
        "outputId": "6bab9418-0296-4895-b5e8-41d70e25a2cb"
      },
      "execution_count": 17,
      "outputs": [
        {
          "output_type": "stream",
          "name": "stdout",
          "text": [
            "Enter a number : 5\n",
            "Do you want include number? no\n",
            "Enter a number : 4\n",
            "Do you want include number? yes\n",
            "Enter a number : 3\n",
            "Do you want include number? yes\n",
            "Enter a number : 2\n",
            "Do you want include number? no\n",
            "Enter a number : 1\n",
            "Do you want include number? yes\n",
            "8\n"
          ]
        }
      ]
    },
    {
      "cell_type": "code",
      "source": [
        "# Ask which direction the user wants to count (up or down).\n",
        "# If they select up, then ask them for the top number and then count from 1 to that number.  \n",
        "# If they select down, ask them to enter a number below 20 and then count down from 20\n",
        "# to that number. If they entered something other than up or down,\n",
        "# display the message 'i dont understand'.\n",
        "\n",
        "choice = input('up or down? : ').lower()\n",
        "if choice == 'up':\n",
        "  num = int(input('Enter a top number : '))\n",
        "  for i in range(1,num+1):\n",
        "    print(i)\n",
        "elif choice == 'down':\n",
        "  num = int(input('Enter a number below 20 : '))\n",
        "  for i in range(20,num-1,-1):\n",
        "    print(i)\n",
        "else:\n",
        "  print('i dont understand')\n"
      ],
      "metadata": {
        "colab": {
          "base_uri": "https://localhost:8080/"
        },
        "id": "dSSiViJfV5p7",
        "outputId": "c92a5b9b-7d04-46b5-b337-89f311516423"
      },
      "execution_count": 21,
      "outputs": [
        {
          "output_type": "stream",
          "name": "stdout",
          "text": [
            "up or down? : Up\n",
            "Enter a top number : 5\n",
            "1\n",
            "2\n",
            "3\n",
            "4\n",
            "5\n"
          ]
        }
      ]
    },
    {
      "cell_type": "code",
      "source": [
        "# Ask how many people the user wants to invite to a party.\n",
        "# If they enter a number below 10, ask for the names and after each name display\n",
        "# '[name] has been invited'. \n",
        "# If they enter a number which is 10 or higher, display the message 'Too many people'\n",
        "\n",
        "ans = int(input('how many people the user wants to invite to a party? : '))\n",
        "if ans < 10:\n",
        "  for i in range(ans):\n",
        "    name = input('Enter a name : ')\n",
        "    print(f'{name}has benn invited')\n",
        "else:\n",
        "  print('Too many people')\n"
      ],
      "metadata": {
        "id": "ZzCgegBwZOzS"
      },
      "execution_count": null,
      "outputs": []
    },
    {
      "cell_type": "code",
      "source": [
        "###############################################\n",
        "# While\n",
        "\n",
        "# A while loop allows code to be repeted an unknown number of times \n",
        "# as long as a condition is being met.\n",
        "# This may be 100 times, just the once or even never\n",
        "# It is important, therefore, to make sure the correct conditions are in place\n",
        "# to run the roop before it starts\n",
        "\n",
        "\n",
        "total = 0\n",
        "\n",
        "while total < 100:\n",
        "  num = int(input('Enter a number : '))\n",
        "  total = total + num\n",
        "print('The total is ', total)"
      ],
      "metadata": {
        "colab": {
          "base_uri": "https://localhost:8080/"
        },
        "id": "6pugixqNcZGn",
        "outputId": "55709049-2a0e-44ff-fd91-31f6de4289b6"
      },
      "execution_count": 22,
      "outputs": [
        {
          "output_type": "stream",
          "name": "stdout",
          "text": [
            "Enter a number : 5\n",
            "Enter a number : 4\n",
            "Enter a number : 9\n",
            "Enter a number : 50\n",
            "Enter a number : 4\n",
            "Enter a number : 45\n",
            "The total is  117\n"
          ]
        }
      ]
    },
    {
      "cell_type": "code",
      "source": [
        "# Set the total to 0 to start with. While the total is 50 or less,\n",
        "# ask the user to input a number. Add that number to the total and \n",
        "# print the message 'The total is....[total]. Stop the loop when the total is over 50. \n",
        "total = 0\n",
        "while total <= 50:\n",
        "  no = int(input('Enter a number : '))\n",
        "  total += no\n",
        "  \n",
        "print('The total is.... ', total)"
      ],
      "metadata": {
        "colab": {
          "base_uri": "https://localhost:8080/"
        },
        "id": "NwS5-Imzde5a",
        "outputId": "167453bd-8dba-4038-d7a5-0e243e0dfb68"
      },
      "execution_count": 23,
      "outputs": [
        {
          "output_type": "stream",
          "name": "stdout",
          "text": [
            "Enter a number : 5\n",
            "The total is....  5\n",
            "Enter a number : 8\n",
            "The total is....  13\n",
            "Enter a number : 6\n",
            "The total is....  19\n",
            "Enter a number : 13\n",
            "The total is....  32\n",
            "Enter a number : 17\n",
            "The total is....  49\n",
            "Enter a number : 1\n",
            "The total is....  50\n",
            "Enter a number : 1\n",
            "The total is....  51\n"
          ]
        }
      ]
    }
  ]
}