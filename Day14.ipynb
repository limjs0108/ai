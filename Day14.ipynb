{
  "nbformat": 4,
  "nbformat_minor": 0,
  "metadata": {
    "colab": {
      "name": "Day14",
      "provenance": [],
      "collapsed_sections": [],
      "authorship_tag": "ABX9TyONJvrgExF13/i0kBm6EFyi",
      "include_colab_link": true
    },
    "kernelspec": {
      "name": "python3",
      "display_name": "Python 3"
    },
    "language_info": {
      "name": "python"
    }
  },
  "cells": [
    {
      "cell_type": "markdown",
      "metadata": {
        "id": "view-in-github",
        "colab_type": "text"
      },
      "source": [
        "<a href=\"https://colab.research.google.com/github/limjs0108/ai/blob/master/Day14.ipynb\" target=\"_parent\"><img src=\"https://colab.research.google.com/assets/colab-badge.svg\" alt=\"Open In Colab\"/></a>"
      ]
    },
    {
      "cell_type": "code",
      "execution_count": 1,
      "metadata": {
        "colab": {
          "base_uri": "https://localhost:8080/"
        },
        "id": "jKtmmPIfA9gr",
        "outputId": "b6b745ed-0d38-42bd-aa91-9a42a99a5732"
      },
      "outputs": [
        {
          "output_type": "stream",
          "name": "stdout",
          "text": [
            "cherry\n",
            "2\n"
          ]
        }
      ],
      "source": [
        "# Tuple, List and Dict\n",
        "\n",
        "# There are several ways that collections of daya can be storde as a single item.\n",
        "# There of the simpler ones are:\n",
        "# 1. Tuple\n",
        "# 2. List\n",
        "# 3. Dict\n",
        "# (4). Set\n",
        "\n",
        "# Tuple : Once a tuple is defined you cannot change what is stored in it. (immutable)\n",
        "\n",
        "# List : The contents of a list can be changed while the program is running and lists\n",
        "#        are one of the most common ways to store a collection of data in Python.\n",
        "#        (mutable)\n",
        "\n",
        "# Dict : can also be changed while the program is running. mutable\n",
        "#        Each value is given an index or key you can define to help identify \n",
        "#        each piece of data\n",
        "\n",
        "fruit_tuple = ('apple','banana','cherry','orange')\n",
        "print(fruit_tuple[2])\n",
        "print(fruit_tuple.index('cherry'))"
      ]
    },
    {
      "cell_type": "code",
      "source": [
        "country = ('Korea','USA','UK','Japan','Taiwan')\n",
        "\n",
        "print(country)\n",
        "\n",
        "name = input('country : ')\n",
        "\n",
        "print(f'{name} has index number {country.index(name)}')"
      ],
      "metadata": {
        "colab": {
          "base_uri": "https://localhost:8080/"
        },
        "id": "DjVtLvCoIQk3",
        "outputId": "bf3558ad-7b24-4a79-ce17-e602bab484b7"
      },
      "execution_count": 3,
      "outputs": [
        {
          "output_type": "stream",
          "name": "stdout",
          "text": [
            "('Korea', 'USA', 'UK', 'Japan', 'Taiwan')\n",
            "country : UK\n",
            "UK has index number 2\n"
          ]
        }
      ]
    },
    {
      "cell_type": "code",
      "source": [
        "country = ('Korea','USA','UK','Japan','Taiwan')\n",
        "\n",
        "print(country)\n",
        "\n",
        "idx = int(input('Enter a index : '))\n",
        "\n",
        "print(f\"{idx}'s country is {country[idx]}\")"
      ],
      "metadata": {
        "colab": {
          "base_uri": "https://localhost:8080/"
        },
        "id": "x1v5CRm7JXlC",
        "outputId": "91384efc-6d06-4c5a-8531-37c2ef96f590"
      },
      "execution_count": 7,
      "outputs": [
        {
          "output_type": "stream",
          "name": "stdout",
          "text": [
            "('Korea', 'USA', 'UK', 'Japan', 'Taiwan')\n",
            "Enter a index : 4\n",
            "4's country is Taiwan\n"
          ]
        }
      ]
    },
    {
      "cell_type": "code",
      "source": [
        "# Create a list of two sports. Ask the user what their favourite sport is \n",
        "# and add this to the end of the list. Sort the list and display it.\n",
        "\n",
        "spo = ['TKD', 'soccer']\n",
        "\n",
        "spo.append(input('What is your favorite sport ? '))\n",
        "spo.sort()\n",
        "print(spo)"
      ],
      "metadata": {
        "id": "zstfltRJQSRZ"
      },
      "execution_count": null,
      "outputs": []
    },
    {
      "cell_type": "code",
      "source": [
        "# Ask the user to enter four of their favourite foods and store them \n",
        "# in a dict so that they are indexed with number starting from 1.\n",
        "# Display the dict in full, showing the index number and the item.\n",
        "# Ask them which they want to get rid of and remove it from the list\n",
        "# Sort the remaining data(values) and display.\n",
        "\n",
        "\n",
        "food_dict = {}\n",
        "food1 = input('Enter a food you like : ')\n",
        "food_dict[1] = food1\n",
        "food2 = input('Enter a food you like : ')\n",
        "food_dict[2] = food2\n",
        "food3 = input('Enter a food you like : ')\n",
        "food_dict[3] = food3\n",
        "food4 = input('Enter a food you like : ')\n",
        "food_dict[4] = food4\n",
        "\n",
        "\n",
        "print(food_dict)\n",
        "dislike = int(input('Which of these do you want to get rid of? '))\n",
        "del food_dict[dislike]\n",
        "print(sorted(food_dict.values()))"
      ],
      "metadata": {
        "id": "7ePdMUkiQUXE"
      },
      "execution_count": null,
      "outputs": []
    },
    {
      "cell_type": "code",
      "source": [
        "food ={}\n",
        "num = 1\n",
        "for i in range(0,4):\n",
        "    what = input(\"what's your favorite food?\")\n",
        "    food[what] = num\n",
        "    num += 1\n",
        "print(food)\n",
        "what2 = input(\"remove food\")\n",
        "del(food[what2])\n",
        "food2 = sorted(food.items())\n",
        "print(food2)"
      ],
      "metadata": {
        "id": "pXNgKlA4QXD9"
      },
      "execution_count": null,
      "outputs": []
    },
    {
      "cell_type": "code",
      "source": [
        "dict={}\n",
        "for i in range(4):\n",
        "    a=input(\"ur fave food? : \")\n",
        "    dict[i]=a\n",
        "print(dict)\n",
        "r=int(input(\"what u wanna remove it? : \"))\n",
        "del dict[r]\n",
        "print(sorted(list(dict.values())))"
      ],
      "metadata": {
        "id": "fXBHgPmOQYTK"
      },
      "execution_count": null,
      "outputs": []
    }
  ]
}