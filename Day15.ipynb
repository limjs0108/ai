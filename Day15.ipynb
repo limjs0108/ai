{
  "nbformat": 4,
  "nbformat_minor": 0,
  "metadata": {
    "colab": {
      "name": "Day15.ipynb",
      "provenance": [],
      "collapsed_sections": [],
      "authorship_tag": "ABX9TyNdsk63AATPUEWX0+Moprfq",
      "include_colab_link": true
    },
    "kernelspec": {
      "name": "python3",
      "display_name": "Python 3"
    },
    "language_info": {
      "name": "python"
    }
  },
  "cells": [
    {
      "cell_type": "markdown",
      "metadata": {
        "id": "view-in-github",
        "colab_type": "text"
      },
      "source": [
        "<a href=\"https://colab.research.google.com/github/limjs0108/ai/blob/master/Day15.ipynb\" target=\"_parent\"><img src=\"https://colab.research.google.com/assets/colab-badge.svg\" alt=\"Open In Colab\"/></a>"
      ]
    },
    {
      "cell_type": "code",
      "execution_count": null,
      "metadata": {
        "colab": {
          "base_uri": "https://localhost:8080/"
        },
        "id": "G-NX290eFuls",
        "outputId": "4e4f4527-1a42-456f-db80-9d4ded134188"
      },
      "outputs": [
        {
          "output_type": "stream",
          "name": "stdout",
          "text": [
            "무한도전\n",
            "런닝맨\n",
            "1박2일\n",
            "라디오스타\n",
            "Enter another TV show : 스타킹\n",
            "Enter a number between 0 and 3: 1\n",
            "무한도전\n",
            "스타킹\n",
            "런닝맨\n",
            "1박2일\n",
            "라디오스타\n"
          ]
        }
      ],
      "source": [
        "# Create a list containing the titles of four TV programmes and display them on separate lines.\n",
        "# Ask the user to enter another show and a position they want it inserted into the list\n",
        "# Display the list again, showing all five TV programmes in their new positions.\n",
        "programs = ['무한도전', \n",
        "            '런닝맨',\n",
        "            '1박2일', \n",
        "            '라디오스타']\n",
        "for v in programs:\n",
        "  print(v)\n",
        "program = input('Enter another TV show : ')\n",
        "line = int(input('Enter a number between 0 and 3: '))\n",
        "\n",
        "programs.insert(line,program)\n",
        "\n",
        "for v in programs:\n",
        "  print(v)"
      ]
    },
    {
      "cell_type": "code",
      "source": [
        "# Create an empty list called 'nums' Ask the user to enter numbers.\n",
        "# After each number is entered, add it to the end of the nums list and display the list.\n",
        "# Once they have entered three numbers, ask them if they still want the last number they entered saved.\n",
        "# If they say 'no' remove the last item from the list. Display the list of numbers.\n",
        "\n",
        "nums= []\n",
        "for i in range(3):\n",
        "  num = int(input('Enter a number : '))\n",
        "  nums.append(num)\n",
        "\n",
        "ans = input('y or n ? : ')\n",
        "if ans == 'n':\n",
        "  nums.pop()\n",
        "\n",
        "print(nums)"
      ],
      "metadata": {
        "colab": {
          "base_uri": "https://localhost:8080/"
        },
        "id": "8XiY_Q40ITDR",
        "outputId": "8ce8c9c8-4fbb-4a81-b73a-62642c5e4595"
      },
      "execution_count": 9,
      "outputs": [
        {
          "output_type": "stream",
          "name": "stdout",
          "text": [
            "Enter a number : 1\n",
            "Enter a number : 2\n",
            "Enter a number : 3\n",
            "y or n ? : n\n",
            "[1, 2]\n"
          ]
        }
      ]
    },
    {
      "cell_type": "code",
      "source": [
        "# More String Manipulation 다양한 문자열 처리\n",
        "\n",
        "# Here we have a variable called name which is assigned the value 'Simon'\n",
        "\n",
        "name = 'Simon'\n",
        "\n",
        "# 'Simon' can be thought of as a sequence of individual characters and each character in that string\n",
        "# can be identified by its index.\n",
        "\n",
        "# Note how string s start indexing from 0 and not 1\n",
        "# If the string had a space in it, the space would also be counted as a character"
      ],
      "metadata": {
        "id": "5a-Je4eNQZN2"
      },
      "execution_count": null,
      "outputs": []
    },
    {
      "cell_type": "code",
      "source": [
        "msg = 'HELLo'\n",
        "if msg.isupper():\n",
        "  print('uppercase')\n",
        "else:\n",
        "  print('This is not in uppercase')"
      ],
      "metadata": {
        "colab": {
          "base_uri": "https://localhost:8080/"
        },
        "id": "llohL-tqQfXx",
        "outputId": "0ac009ae-ef82-4292-8b93-5525852b3f4c"
      },
      "execution_count": 11,
      "outputs": [
        {
          "output_type": "stream",
          "name": "stdout",
          "text": [
            "This is not in uppercase\n"
          ]
        }
      ]
    },
    {
      "cell_type": "code",
      "source": [
        "msg = 'Hello'\n",
        "for letter in msg:\n",
        "  print(letter, end = \"*\")"
      ],
      "metadata": {
        "colab": {
          "base_uri": "https://localhost:8080/"
        },
        "id": "DjzjhwKFQ4BU",
        "outputId": "d98d3b0e-1d5f-4abb-b3fe-db6d6d22ad80"
      },
      "execution_count": 12,
      "outputs": [
        {
          "output_type": "stream",
          "name": "stdout",
          "text": [
            "H*e*l*l*o*"
          ]
        }
      ]
    },
    {
      "cell_type": "code",
      "source": [
        "res = True\n",
        "while res:\n",
        "  msg = input('Please enter a word : ')\n",
        "  if msg.isupper():\n",
        "    res = False\n"
      ],
      "metadata": {
        "colab": {
          "base_uri": "https://localhost:8080/"
        },
        "id": "1A0KFWu0RXK0",
        "outputId": "7983bb01-338b-4546-951c-817e93d311d1"
      },
      "execution_count": 13,
      "outputs": [
        {
          "name": "stdout",
          "output_type": "stream",
          "text": [
            "Please enter a word : danger\n",
            "Please enter a word : apple\n",
            "Please enter a word : keep\n",
            "Please enter a word : KEEp\n",
            "Please enter a word : KEEP\n"
          ]
        }
      ]
    },
    {
      "cell_type": "code",
      "source": [
        "# Ask the user to enter a new password.\n",
        "# Ask them to enter it again. If the two passwords match,\n",
        "# display 'thank you'. If the letters are correct but in the wrong case,\n",
        "# display the message 'They must be in the same case',\n",
        "# otherwise display the message 'Incorrect'.\n",
        "\n",
        "pw = input('Enter a new password : ')\n",
        "pw_check = input('Enter a new password : ')\n",
        "\n",
        "if pw == pw_check:\n",
        "  print('thank you')\n",
        "elif pw.upper() == pw_check.upper():\n",
        "  print('They must be in the same case')\n",
        "else:\n",
        "  print('Incorrect')"
      ],
      "metadata": {
        "colab": {
          "base_uri": "https://localhost:8080/"
        },
        "id": "R_xyGv3RVnst",
        "outputId": "4d25a0a8-65b7-43c2-e552-dd2cdae266b6"
      },
      "execution_count": 16,
      "outputs": [
        {
          "output_type": "stream",
          "name": "stdout",
          "text": [
            "Enter a new password : abcd\n",
            "Enter a new password : abcd\n",
            "thank you\n"
          ]
        }
      ]
    },
    {
      "cell_type": "code",
      "source": [
        ""
      ],
      "metadata": {
        "id": "LlIG3SbbdDH9"
      },
      "execution_count": null,
      "outputs": []
    }
  ]
}