{
  "nbformat": 4,
  "nbformat_minor": 0,
  "metadata": {
    "colab": {
      "name": "Day16ipynb",
      "provenance": [],
      "collapsed_sections": [],
      "authorship_tag": "ABX9TyNjGCrayndintLb2gYX2lOc",
      "include_colab_link": true
    },
    "kernelspec": {
      "name": "python3",
      "display_name": "Python 3"
    },
    "language_info": {
      "name": "python"
    }
  },
  "cells": [
    {
      "cell_type": "markdown",
      "metadata": {
        "id": "view-in-github",
        "colab_type": "text"
      },
      "source": [
        "<a href=\"https://colab.research.google.com/github/limjs0108/ai/blob/master/Day16ipynb.ipynb\" target=\"_parent\"><img src=\"https://colab.research.google.com/assets/colab-badge.svg\" alt=\"Open In Colab\"/></a>"
      ]
    },
    {
      "cell_type": "code",
      "source": [
        "# Fibonacci\n",
        "\n",
        "# 1\n",
        "def fib(n): # n 번째의 피보나치 수열 값을 찾는 함수\n",
        "  a,b = 1,1\n",
        "  if n==1 or n==2: # 1 번째와 2 번째의 값은 1\n",
        "    return 1\n",
        "  for i in range(1,n): # 1 번째부터 n 번째까지\n",
        "    a,b = b,a+b\n",
        "    print(a,b)\n",
        "  return a\n",
        "\n",
        "fib(4)"
      ],
      "metadata": {
        "colab": {
          "base_uri": "https://localhost:8080/"
        },
        "id": "RV82ZctsPHiL",
        "outputId": "72d09401-c121-48fe-b198-d8e36ddb1b09"
      },
      "execution_count": 10,
      "outputs": [
        {
          "output_type": "stream",
          "name": "stdout",
          "text": [
            "1 2\n",
            "2 3\n",
            "3 5\n"
          ]
        },
        {
          "output_type": "execute_result",
          "data": {
            "text/plain": [
              "3"
            ]
          },
          "metadata": {},
          "execution_count": 10
        }
      ]
    },
    {
      "cell_type": "code",
      "source": [
        "# 2 재귀 Recursive\n",
        "def fib(n): # n 번째의 피보나치 수열 값을 찾는 함수\n",
        "  if n==1 or n==2: # 1 번째와 2 번째의 값은 1\n",
        "    return 1\n",
        "  else:\n",
        "    return fib((n-1)) + fib(n-2)\n",
        "\n",
        "fib(5)"
      ],
      "metadata": {
        "colab": {
          "base_uri": "https://localhost:8080/"
        },
        "id": "YtGLmjQFQP_C",
        "outputId": "4c6ec5b8-d804-447f-f302-edf6573c10d8"
      },
      "execution_count": 7,
      "outputs": [
        {
          "output_type": "execute_result",
          "data": {
            "text/plain": [
              "5"
            ]
          },
          "metadata": {},
          "execution_count": 7
        }
      ]
    },
    {
      "cell_type": "code",
      "source": [
        "# 람다\n",
        "\n",
        "fib = lambda n: 1  if n <= 2   else fib(n-1) + fib(n-2)\n",
        "fib(5)"
      ],
      "metadata": {
        "colab": {
          "base_uri": "https://localhost:8080/"
        },
        "id": "jagY3M4PTOfe",
        "outputId": "5bd0704e-fff5-4709-aabc-55f4e567cd25"
      },
      "execution_count": 11,
      "outputs": [
        {
          "output_type": "execute_result",
          "data": {
            "text/plain": [
              "5"
            ]
          },
          "metadata": {},
          "execution_count": 11
        }
      ]
    },
    {
      "cell_type": "code",
      "source": [
        "def fib(n):\n",
        "  fibo = []\n",
        "  for i in range(n):\n",
        "    if i == 0 or i == 1:\n",
        "      fibo.append(1)\n",
        "    else:\n",
        "      num = fibo[i-1] + fibo[i-2]\n",
        "      fibo.append(num)\n",
        "  return fibo\n",
        "\n",
        "fib(5)"
      ],
      "metadata": {
        "colab": {
          "base_uri": "https://localhost:8080/"
        },
        "id": "Uj9JAyGKTXdY",
        "outputId": "a448ea26-fd20-4357-c9cd-10de1de7cd4a"
      },
      "execution_count": 14,
      "outputs": [
        {
          "output_type": "execute_result",
          "data": {
            "text/plain": [
              "[1, 1, 2, 3, 5]"
            ]
          },
          "metadata": {},
          "execution_count": 14
        }
      ]
    },
    {
      "cell_type": "code",
      "source": [
        "# 2D lists  2차원 리스트   #   VS  pandas 's dataframe\n",
        "#               math    korean \n",
        "# austin        90        80\n",
        "# rick           80        85\n",
        "# andy         100      70\n",
        "\n",
        "grade = [[90,80],[80,85],[100,70]]\n",
        "\n",
        "grade[2][0]"
      ],
      "metadata": {
        "id": "hwkS2jUmaUd3"
      },
      "execution_count": null,
      "outputs": []
    },
    {
      "cell_type": "code",
      "source": [
        "# Ask the user to enter the name, age and shoe size for four people.\n",
        "# Ask for the name of one of the people in the list and\n",
        "# display their age and shoe size.\n",
        "\n",
        "# def data(n):\n",
        "#   peoples = {}\n",
        "#   for i in range(n):\n",
        "#     name = input('Enter name : ')\n",
        "#     age = input('Enter age : ')\n",
        "#     shoe_size = input('Enter a shoe size : ')\n",
        "#     peoples[name] = [age, shoe_size]\n",
        "#   return peoples\n",
        "\n",
        "# n = int(input('how many people? '))\n",
        "# peoples = data(n)\n",
        "# findName = input('Enter a name : ')\n",
        "# peoples[findName]\n",
        "\n",
        "dict = {}\n",
        "\n",
        "for i in range(0,4):\n",
        "  name = input('Enter name : ')\n",
        "  age = input('Enter age : ')\n",
        "  shoe = input('Enter shoe : ')\n",
        "  dict[name]={'Age':age,'Shoe':shoe}\n",
        "\n",
        "who = input('Enter a name : ')\n",
        "print(dict[who])\n"
      ],
      "metadata": {
        "colab": {
          "base_uri": "https://localhost:8080/"
        },
        "id": "lJLq9W9CadNW",
        "outputId": "02643cdf-e3ba-4dcd-d0fb-fe3131978549"
      },
      "execution_count": 21,
      "outputs": [
        {
          "name": "stdout",
          "output_type": "stream",
          "text": [
            "how many people? 1\n",
            "Enter name : 임진석\n",
            "Enter age : 28\n",
            "Enter a shoe size : 250\n",
            "Enter a name : 임진석\n"
          ]
        },
        {
          "output_type": "execute_result",
          "data": {
            "text/plain": [
              "['28', '250']"
            ]
          },
          "metadata": {},
          "execution_count": 21
        }
      ]
    },
    {
      "cell_type": "code",
      "source": [
        "# Reading and Writing to a File\n",
        "\n",
        "# It is all very well being able to define a list, make changes and add new data,\n",
        "# but if the next time the program is run it returns to the original data and your\n",
        "# changes are lost then it is not a lot of use. Therefore, It is sometimes necessary \n",
        "# to save the data outside of the program and this way the data can be stored,\n",
        "# along with any changes that are made.\n",
        "\n",
        "# write\n",
        "file = open('Countries.txt', 'w')\n",
        "file.write('Italy\\n')\n",
        "file.write('Germany\\n')\n",
        "file.write('Spain\\n')\n",
        "file.close()"
      ],
      "metadata": {
        "id": "EzaBOs5nktaf"
      },
      "execution_count": 25,
      "outputs": []
    },
    {
      "cell_type": "code",
      "source": [
        "# read\n",
        "file = open('Countries.txt', 'r')\n",
        "print(file.read())"
      ],
      "metadata": {
        "colab": {
          "base_uri": "https://localhost:8080/"
        },
        "id": "h1WtTIkKkurR",
        "outputId": "80156b8b-2115-4ed3-d79d-3e7053a78936"
      },
      "execution_count": 26,
      "outputs": [
        {
          "output_type": "stream",
          "name": "stdout",
          "text": [
            "Italy\n",
            "Germany\n",
            "Spain\n",
            "\n"
          ]
        }
      ]
    },
    {
      "cell_type": "code",
      "source": [
        "file = open('Countries.txt','a')\n",
        "file.write('France\\n')\n",
        "file.close()"
      ],
      "metadata": {
        "id": "TwOBhPK_kv38"
      },
      "execution_count": null,
      "outputs": []
    },
    {
      "cell_type": "code",
      "source": [
        "# Display the following menu to the user:\n",
        "#      1) Create a new file\n",
        "#      2) Display the file\n",
        "#      3) Add a new item to the file\n",
        "#      Make a selection 1,2 or 3 :\n",
        "\n",
        "# Ask the user to enter 1,2 or 3. If they select anything other than 1,2 or 3 it should\n",
        "# display a suitable error message.\n",
        "\n",
        "# If the select 1, ask the user to enter a school subject and save it to a new file called\n",
        "# 'Subject.txt'. It should overwrite any existing file with a new file.\n",
        "\n",
        "# If they select 2, display the contents of the 'Subject.txt' file\n",
        "\n",
        "# if they select 3, ask the user to enter a new subject and sav e it to the file \n",
        "#and then display the entire contents of the file.\n",
        "\n",
        "# Run the program several times to test the options.\n",
        "\n",
        "##############################################################\n",
        "# Fantastic work, saving data to external files is an important programming skill. #\n",
        "##############################################################\n",
        "\n",
        "# Delete file\n",
        "# import os\n",
        "# os.remove('filename.txt')\n",
        "\n",
        "print('1) Create a new file\\n2) Display the file\\n3) Add a new item to the file')\n",
        "choice = input('Make a selection 1,2 or 3 : ')\n",
        "if choice == '1':\n",
        "  file = open('Subject.txt', 'a')\n",
        "  sub = input('Enter a school subject : ')\n",
        "  file.write(sub + '\\n')\n",
        "  file.close()\n",
        "elif choice == '2':\n",
        "  file = open('Subject.txt', 'r')\n",
        "  print(file.read())\n",
        "elif choice == '3':\n",
        "  sub = input('Enter a school subject : ')\n",
        "  file = open('Subject.txt', 'a')\n",
        "  file.write(sub + '\\n')\n",
        "  file.close()\n",
        "  file = open('Subject.txt','r')\n",
        "  print(file.read())\n",
        "else:\n",
        "  print('Error!')\n",
        "\n"
      ],
      "metadata": {
        "colab": {
          "base_uri": "https://localhost:8080/"
        },
        "id": "-Kf2hbE2kxTh",
        "outputId": "00de9b9a-465b-417e-852c-6cdaad9c4bf0"
      },
      "execution_count": 38,
      "outputs": [
        {
          "output_type": "stream",
          "name": "stdout",
          "text": [
            "1) Create a new file\n",
            "2) Display the file\n",
            "3) Add a new item to the file\n",
            "Make a selection 1,2 or 3 : 3\n",
            "Enter a school subject : math\n",
            "math\n",
            "math\n",
            "\n"
          ]
        }
      ]
    }
  ]
}