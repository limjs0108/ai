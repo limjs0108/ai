{
  "nbformat": 4,
  "nbformat_minor": 0,
  "metadata": {
    "colab": {
      "name": "Day17.ipynb",
      "provenance": [],
      "collapsed_sections": [],
      "authorship_tag": "ABX9TyPQbWeOAE+2Bmg187T83DRV",
      "include_colab_link": true
    },
    "kernelspec": {
      "name": "python3",
      "display_name": "Python 3"
    },
    "language_info": {
      "name": "python"
    }
  },
  "cells": [
    {
      "cell_type": "markdown",
      "metadata": {
        "id": "view-in-github",
        "colab_type": "text"
      },
      "source": [
        "<a href=\"https://colab.research.google.com/github/limjs0108/ai/blob/master/Day17.ipynb\" target=\"_parent\"><img src=\"https://colab.research.google.com/assets/colab-badge.svg\" alt=\"Open In Colab\"/></a>"
      ]
    },
    {
      "cell_type": "code",
      "execution_count": 1,
      "metadata": {
        "colab": {
          "base_uri": "https://localhost:8080/"
        },
        "id": "6GBUndklYIUB",
        "outputId": "64d0e244-2499-454c-ef7f-da682ddb2b2b"
      },
      "outputs": [
        {
          "output_type": "stream",
          "name": "stdout",
          "text": [
            "Enter your name : 임진석\n",
            "Hello 임진석\n"
          ]
        }
      ],
      "source": [
        "# Function (subprograms)\n",
        "\n",
        "# Blocks of code which perform specific tasks and can be called upon at any time in the program to run that code.\n",
        "\n",
        "# Advantages\n",
        "# - it can be used and reused at different times during the program.\n",
        "# - it makes the program simpler to understand as the code is grouped together into chunks.\n",
        "\n",
        "def get_name():\n",
        "  user_name = input('Enter your name : ')\n",
        "  return user_name\n",
        "\n",
        "def print_Msg(user_name):\n",
        "  print(\"Hello\",user_name)\n",
        "\n",
        "def main():\n",
        "  user_name = get_name()\n",
        "  print_Msg(user_name)\n",
        "\n",
        "main()"
      ]
    },
    {
      "cell_type": "code",
      "source": [
        "def get_data(): # 4\n",
        "  user_name = input('Enter your name : ') # 5\n",
        "  user_age = int(input('Enter your age : ')) # 20살일 경우# 6\n",
        "  data_tuple = (user_name,user_age) # 7\n",
        "  return data_tuple # 8\n",
        "\n",
        "def message(user_name, user_age): # 11\n",
        "  if user_age <= 10:              \n",
        "    print('Hi', user_name)        \n",
        "  else:                           # 12\n",
        "    print('Hello',user_name)      # 13\n",
        "\n",
        "def main():# 2\n",
        "  user_name, user_age = get_data() # 3 # 9\n",
        "  message(user_name,user_age) # 10 # 14\n",
        "main()    # 1\n",
        "\n",
        "# 4 5 6 7 8 11 12 13 3 9 10 14 1"
      ],
      "metadata": {
        "colab": {
          "base_uri": "https://localhost:8080/"
        },
        "id": "n_GEF9VTbYSf",
        "outputId": "efe38d21-d10b-46f7-ae8e-10ad8b1c3c61"
      },
      "execution_count": 3,
      "outputs": [
        {
          "output_type": "stream",
          "name": "stdout",
          "text": [
            "Enter your name : 임진석\n",
            "Enter your age : 29\n",
            "Hello 임진석\n"
          ]
        }
      ]
    },
    {
      "cell_type": "code",
      "source": [
        "# Quiz\n",
        "\n",
        "# Define a subprogram that will ask the user to enter a number and save it as the variable \n",
        "# 'num' . Define another subprogram that will use 'num' and count from 1 to that number.\n",
        "\n",
        "def get_num():\n",
        "  num = int(input('Enter a number : '))\n",
        "  return num\n",
        "\n",
        "def count_num():\n",
        "  for i in range(1,get_num()+1):\n",
        "    print(i, end=\" \")  \n",
        "\n",
        "count_num()"
      ],
      "metadata": {
        "colab": {
          "base_uri": "https://localhost:8080/"
        },
        "id": "_1ldsCz8eWR5",
        "outputId": "807e3769-b85a-41f7-d4e6-3b5dfbf3108f"
      },
      "execution_count": 11,
      "outputs": [
        {
          "output_type": "stream",
          "name": "stdout",
          "text": [
            "Enter a number : 12\n",
            "1 2 3 4 5 6 7 8 9 10 11 12 "
          ]
        }
      ]
    },
    {
      "cell_type": "code",
      "source": [
        "# Define a subprogram  that will ask the user to  pick a low and a high  number, \n",
        "# and then  generate a random  number between those  two values and store it in  \n",
        "# a variable called  “comp_num”.  \n",
        "\n",
        "# Define another  subprogram that will  give the instruction \n",
        "# “I am  thinking of a number…”  and then ask the user to  guess the number \n",
        "# they  are thinking of.  \n",
        "\n",
        "# Define a third  subprogram that will  check to see \n",
        "# if the  comp_num is the same  as the user’s guess. If it  is, \n",
        "# it should display the  message “Correct, you  win”, \n",
        "# otherwise it should  keep looping, telling the  user if they are too low or  too high \n",
        "# and asking them  to guess again until they  guess correctly. \n",
        "\n",
        "# Condition : 4 subprograms \n",
        "\n",
        "import random\n",
        "\n",
        "def pick_num():\n",
        "  low = int(input('Enter the bottom of the range : '))\n",
        "  high = int(input('Enter the top of the range : '))\n",
        "  comp_num = random.randint(low, high)\n",
        "  return comp_num\n",
        "\n",
        "def first_guess():\n",
        "  print('I am thinking of a number...')\n",
        "  guess = int(input('WHat am I thinking of : '))\n",
        "  return guess\n",
        "\n",
        "def check_answer(comp_num, guess):\n",
        "  try_again = True\n",
        "  while try_again == True:\n",
        "    if comp_num == guess:\n",
        "      print('Correct, you win')\n",
        "      try_again = False\n",
        "    elif comp_num > guess:\n",
        "      guess = int(input('too low, try again'))\n",
        "    else:\n",
        "      guess = int(input('too high, try again'))\n",
        "      \n",
        "def main():\n",
        "  comp_num = pick_num()\n",
        "  guess = first_guess()\n",
        "  check_answer(comp_num, guess)\n",
        "\n",
        "main()"
      ],
      "metadata": {
        "id": "1CfTLg5K0hEm"
      },
      "execution_count": null,
      "outputs": []
    }
  ]
}