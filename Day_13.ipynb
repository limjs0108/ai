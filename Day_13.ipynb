{
  "nbformat": 4,
  "nbformat_minor": 0,
  "metadata": {
    "colab": {
      "name": "Day 13.ipynb",
      "provenance": [],
      "collapsed_sections": [],
      "authorship_tag": "ABX9TyNNpNqxm9LiR8PHNjiYFuvx",
      "include_colab_link": true
    },
    "kernelspec": {
      "name": "python3",
      "display_name": "Python 3"
    },
    "language_info": {
      "name": "python"
    }
  },
  "cells": [
    {
      "cell_type": "markdown",
      "metadata": {
        "id": "view-in-github",
        "colab_type": "text"
      },
      "source": [
        "<a href=\"https://colab.research.google.com/github/limjs0108/ai/blob/master/Day_13.ipynb\" target=\"_parent\"><img src=\"https://colab.research.google.com/assets/colab-badge.svg\" alt=\"Open In Colab\"/></a>"
      ]
    },
    {
      "cell_type": "code",
      "execution_count": null,
      "metadata": {
        "id": "7YTQdX-XEafe"
      },
      "outputs": [],
      "source": [
        "# Ask the user to enter a number. Keep asking until they enter a value over 5\n",
        "# and then display the message \"The last number you entered was a [number]\"\n",
        "# and stop the program.\n",
        "\n",
        "num = 0\n",
        "\n",
        "while num < 5:\n",
        "    num = int(input('Enter a number >> '))\n",
        "\n",
        "print(f'The last number you entered was a {num}')"
      ]
    },
    {
      "cell_type": "code",
      "source": [
        "# Ask the user to enter a number and then enter another number.\n",
        "# Add there two numbers together and then \n",
        "# ask  if they want to add another number. If they enter 'y', ask them to enter \n",
        "# another numbers until they do not answer 'y'. Once the loop has stopped,\n",
        "# display the total.\n",
        "\n",
        "a = int(input('Enter a number : '))\n",
        "sum = a\n",
        "again = 'y'\n",
        "while again == 'y':\n",
        "  b = int(input('Enter a number : '))\n",
        "  sum = sum + b\n",
        "  again = input('Do you want to add another number? (y/n)')\n",
        "\n",
        "print('The total is ', sum)"
      ],
      "metadata": {
        "id": "AJSwOtEDEgXZ"
      },
      "execution_count": null,
      "outputs": []
    },
    {
      "cell_type": "code",
      "source": [
        "a = int(input('Enter a number : '))\n",
        "\n",
        "again = 'y'\n",
        "while again == 'y':\n",
        "  b = int(input('Enter a number : '))\n",
        "  a = a + b\n",
        "  again = input('Do you want to add another number? (y/n)')\n",
        "\n",
        "print('The total is ', a)"
      ],
      "metadata": {
        "id": "ey8lpRHMEh7t"
      },
      "execution_count": null,
      "outputs": []
    },
    {
      "cell_type": "code",
      "source": [
        "# Ask for the name of somebody the user wants to invite to a party.\n",
        "# After this, display the message '[name] has been invited' \n",
        "# and add 1 to the count. Then ask if they want to invite somebody else.\n",
        "# Keep repeating this until they no longer want to invite anyone else to the\n",
        "# party and then display how many people they have coming to the party.\n",
        "again = 'y'\n",
        "count = 0\n",
        "\n",
        "while again == 'y':\n",
        "  name = input('Enter a name of somebody you want to invite to the party? : ')\n",
        "  print(name, ' has been invited')\n",
        "  count += 1\n",
        "  again = input('Do you want to invite somebody else? (y/n)')\n",
        "\n",
        "print('You hava', count, 'people coming to your party')"
      ],
      "metadata": {
        "id": "JK6GJHZzElRR"
      },
      "execution_count": null,
      "outputs": []
    },
    {
      "cell_type": "code",
      "source": [
        "# Create a variable called compnum and set the value to 50. \n",
        "# Ask the user to enter a number. \n",
        "# while their guess is not the same as the compnum value,\n",
        "# tell them if their guess is too low or too high and ask them to have another guess.\n",
        "# If they enter the same value as compnum, \n",
        "# display the message 'Well done, you took [count] apptmpts'.\n",
        "import random\n",
        "\n",
        "compnum = random.randrange(1,100)\n",
        "cnt = 1\n",
        "num = int(input('Enter a number : '))\n",
        "while num != compnum:\n",
        "  cnt += 1\n",
        "  if num < compnum:\n",
        "    print('num < compnum')\n",
        "  elif  num > compnum:\n",
        "    print('num > compnum')\n",
        "  num = int(input('Enter a number : '))\n",
        "\n",
        "print(f'Well done, you took {cnt} attempts')"
      ],
      "metadata": {
        "colab": {
          "base_uri": "https://localhost:8080/"
        },
        "id": "SeG6aYCNEnEd",
        "outputId": "051025be-95da-496c-85d1-9498bb0a07b4"
      },
      "execution_count": 4,
      "outputs": [
        {
          "output_type": "stream",
          "name": "stdout",
          "text": [
            "Enter a number : 50\n",
            "num > compnum\n",
            "Enter a number : 25\n",
            "num < compnum\n",
            "Enter a number : 37\n",
            "num > compnum\n",
            "Enter a number : 32\n",
            "num > compnum\n",
            "Enter a number : 27\n",
            "num < compnum\n",
            "Enter a number : 28\n",
            "num < compnum\n",
            "Enter a number : 30\n",
            "Well done, you took 7 attempts\n"
          ]
        }
      ]
    },
    {
      "cell_type": "code",
      "source": [
        "# Using the song '10 green bottles', display the lines \n",
        "\n",
        "# 'There are [num] green bottles hanging on the wall, \n",
        "# [num] green bottles hanging on the wall, \n",
        "# and if 1 green bottle should accidentally fall'\n",
        "\n",
        "# Then ask the question 'how many green bottles will be hanging on the wall?'\n",
        "# If the user answers correctly, display the message\n",
        "# 'There will be [num] green bottles hanging on the wall'\n",
        "# If they answer incorrectly, display the message \n",
        "# 'No, try again' until ghey get if right. \n",
        "# When the number of green bottles gets down to 0,\n",
        "# display the message 'There are no more green bottles hanging on the wall'\n",
        "\n",
        "num = 10\n",
        "\n",
        "while num > 0 :\n",
        "  print('There are', num, 'green bottles hanging on the wall,')\n",
        "  print(num,' green bottles hanging on the wall,') \n",
        "  print('and if 1 green bottle should accidentally fall')\n",
        "  num -= 1\n",
        "  ans = int(input('How many green bottles will be hanging on the wall?'))\n",
        "  if ans == num:\n",
        "    print('There will be', num, ' green bottles hanging on the wall')\n",
        "  else: \n",
        "    while ans != num:\n",
        "      ans = int(input('No, try again :'))\n",
        "print('There are no more green bottles hanging on the wall')"
      ],
      "metadata": {
        "colab": {
          "base_uri": "https://localhost:8080/",
          "height": 800
        },
        "id": "hsMZVqs_G4WF",
        "outputId": "1ca30c3c-04a2-428d-86b6-b5788a9d14a1"
      },
      "execution_count": 9,
      "outputs": [
        {
          "output_type": "stream",
          "name": "stdout",
          "text": [
            "There are 10 green bottles hanging on the wall,\n",
            "10  green bottles hanging on the wall,\n",
            "and if 1 green bottle should accidentally fall\n",
            "How many green bottles will be hanging on the wall?9\n",
            "There will be 9  green bottles hanging on the wall\n",
            "There are 9 green bottles hanging on the wall,\n",
            "9  green bottles hanging on the wall,\n",
            "and if 1 green bottle should accidentally fall\n",
            "How many green bottles will be hanging on the wall?8\n",
            "There will be 8  green bottles hanging on the wall\n",
            "There are 8 green bottles hanging on the wall,\n",
            "8  green bottles hanging on the wall,\n",
            "and if 1 green bottle should accidentally fall\n"
          ]
        },
        {
          "output_type": "error",
          "ename": "KeyboardInterrupt",
          "evalue": "ignored",
          "traceback": [
            "\u001b[0;31m---------------------------------------------------------------------------\u001b[0m",
            "\u001b[0;31mKeyboardInterrupt\u001b[0m                         Traceback (most recent call last)",
            "\u001b[0;32m/usr/local/lib/python3.7/dist-packages/ipykernel/kernelbase.py\u001b[0m in \u001b[0;36m_input_request\u001b[0;34m(self, prompt, ident, parent, password)\u001b[0m\n\u001b[1;32m    728\u001b[0m             \u001b[0;32mtry\u001b[0m\u001b[0;34m:\u001b[0m\u001b[0;34m\u001b[0m\u001b[0;34m\u001b[0m\u001b[0m\n\u001b[0;32m--> 729\u001b[0;31m                 \u001b[0mident\u001b[0m\u001b[0;34m,\u001b[0m \u001b[0mreply\u001b[0m \u001b[0;34m=\u001b[0m \u001b[0mself\u001b[0m\u001b[0;34m.\u001b[0m\u001b[0msession\u001b[0m\u001b[0;34m.\u001b[0m\u001b[0mrecv\u001b[0m\u001b[0;34m(\u001b[0m\u001b[0mself\u001b[0m\u001b[0;34m.\u001b[0m\u001b[0mstdin_socket\u001b[0m\u001b[0;34m,\u001b[0m \u001b[0;36m0\u001b[0m\u001b[0;34m)\u001b[0m\u001b[0;34m\u001b[0m\u001b[0;34m\u001b[0m\u001b[0m\n\u001b[0m\u001b[1;32m    730\u001b[0m             \u001b[0;32mexcept\u001b[0m \u001b[0mException\u001b[0m\u001b[0;34m:\u001b[0m\u001b[0;34m\u001b[0m\u001b[0;34m\u001b[0m\u001b[0m\n",
            "\u001b[0;32m/usr/local/lib/python3.7/dist-packages/jupyter_client/session.py\u001b[0m in \u001b[0;36mrecv\u001b[0;34m(self, socket, mode, content, copy)\u001b[0m\n\u001b[1;32m    802\u001b[0m         \u001b[0;32mtry\u001b[0m\u001b[0;34m:\u001b[0m\u001b[0;34m\u001b[0m\u001b[0;34m\u001b[0m\u001b[0m\n\u001b[0;32m--> 803\u001b[0;31m             \u001b[0mmsg_list\u001b[0m \u001b[0;34m=\u001b[0m \u001b[0msocket\u001b[0m\u001b[0;34m.\u001b[0m\u001b[0mrecv_multipart\u001b[0m\u001b[0;34m(\u001b[0m\u001b[0mmode\u001b[0m\u001b[0;34m,\u001b[0m \u001b[0mcopy\u001b[0m\u001b[0;34m=\u001b[0m\u001b[0mcopy\u001b[0m\u001b[0;34m)\u001b[0m\u001b[0;34m\u001b[0m\u001b[0;34m\u001b[0m\u001b[0m\n\u001b[0m\u001b[1;32m    804\u001b[0m         \u001b[0;32mexcept\u001b[0m \u001b[0mzmq\u001b[0m\u001b[0;34m.\u001b[0m\u001b[0mZMQError\u001b[0m \u001b[0;32mas\u001b[0m \u001b[0me\u001b[0m\u001b[0;34m:\u001b[0m\u001b[0;34m\u001b[0m\u001b[0;34m\u001b[0m\u001b[0m\n",
            "\u001b[0;32m/usr/local/lib/python3.7/dist-packages/zmq/sugar/socket.py\u001b[0m in \u001b[0;36mrecv_multipart\u001b[0;34m(self, flags, copy, track)\u001b[0m\n\u001b[1;32m    624\u001b[0m         \"\"\"\n\u001b[0;32m--> 625\u001b[0;31m         \u001b[0mparts\u001b[0m \u001b[0;34m=\u001b[0m \u001b[0;34m[\u001b[0m\u001b[0mself\u001b[0m\u001b[0;34m.\u001b[0m\u001b[0mrecv\u001b[0m\u001b[0;34m(\u001b[0m\u001b[0mflags\u001b[0m\u001b[0;34m,\u001b[0m \u001b[0mcopy\u001b[0m\u001b[0;34m=\u001b[0m\u001b[0mcopy\u001b[0m\u001b[0;34m,\u001b[0m \u001b[0mtrack\u001b[0m\u001b[0;34m=\u001b[0m\u001b[0mtrack\u001b[0m\u001b[0;34m)\u001b[0m\u001b[0;34m]\u001b[0m\u001b[0;34m\u001b[0m\u001b[0;34m\u001b[0m\u001b[0m\n\u001b[0m\u001b[1;32m    626\u001b[0m         \u001b[0;31m# have first part already, only loop while more to receive\u001b[0m\u001b[0;34m\u001b[0m\u001b[0;34m\u001b[0m\u001b[0;34m\u001b[0m\u001b[0m\n",
            "\u001b[0;32mzmq/backend/cython/socket.pyx\u001b[0m in \u001b[0;36mzmq.backend.cython.socket.Socket.recv\u001b[0;34m()\u001b[0m\n",
            "\u001b[0;32mzmq/backend/cython/socket.pyx\u001b[0m in \u001b[0;36mzmq.backend.cython.socket.Socket.recv\u001b[0;34m()\u001b[0m\n",
            "\u001b[0;32mzmq/backend/cython/socket.pyx\u001b[0m in \u001b[0;36mzmq.backend.cython.socket._recv_copy\u001b[0;34m()\u001b[0m\n",
            "\u001b[0;32m/usr/local/lib/python3.7/dist-packages/zmq/backend/cython/checkrc.pxd\u001b[0m in \u001b[0;36mzmq.backend.cython.checkrc._check_rc\u001b[0;34m()\u001b[0m\n",
            "\u001b[0;31mKeyboardInterrupt\u001b[0m: ",
            "\nDuring handling of the above exception, another exception occurred:\n",
            "\u001b[0;31mKeyboardInterrupt\u001b[0m                         Traceback (most recent call last)",
            "\u001b[0;32m<ipython-input-9-07c80bd6acba>\u001b[0m in \u001b[0;36m<module>\u001b[0;34m()\u001b[0m\n\u001b[1;32m     20\u001b[0m   \u001b[0mprint\u001b[0m\u001b[0;34m(\u001b[0m\u001b[0;34m'and if 1 green bottle should accidentally fall'\u001b[0m\u001b[0;34m)\u001b[0m\u001b[0;34m\u001b[0m\u001b[0;34m\u001b[0m\u001b[0m\n\u001b[1;32m     21\u001b[0m   \u001b[0mnum\u001b[0m \u001b[0;34m-=\u001b[0m \u001b[0;36m1\u001b[0m\u001b[0;34m\u001b[0m\u001b[0;34m\u001b[0m\u001b[0m\n\u001b[0;32m---> 22\u001b[0;31m   \u001b[0mans\u001b[0m \u001b[0;34m=\u001b[0m \u001b[0mint\u001b[0m\u001b[0;34m(\u001b[0m\u001b[0minput\u001b[0m\u001b[0;34m(\u001b[0m\u001b[0;34m'How many green bottles will be hanging on the wall?'\u001b[0m\u001b[0;34m)\u001b[0m\u001b[0;34m)\u001b[0m\u001b[0;34m\u001b[0m\u001b[0;34m\u001b[0m\u001b[0m\n\u001b[0m\u001b[1;32m     23\u001b[0m   \u001b[0;32mif\u001b[0m \u001b[0mans\u001b[0m \u001b[0;34m==\u001b[0m \u001b[0mnum\u001b[0m\u001b[0;34m:\u001b[0m\u001b[0;34m\u001b[0m\u001b[0;34m\u001b[0m\u001b[0m\n\u001b[1;32m     24\u001b[0m     \u001b[0mprint\u001b[0m\u001b[0;34m(\u001b[0m\u001b[0;34m'There will be'\u001b[0m\u001b[0;34m,\u001b[0m \u001b[0mnum\u001b[0m\u001b[0;34m,\u001b[0m \u001b[0;34m' green bottles hanging on the wall'\u001b[0m\u001b[0;34m)\u001b[0m\u001b[0;34m\u001b[0m\u001b[0;34m\u001b[0m\u001b[0m\n",
            "\u001b[0;32m/usr/local/lib/python3.7/dist-packages/ipykernel/kernelbase.py\u001b[0m in \u001b[0;36mraw_input\u001b[0;34m(self, prompt)\u001b[0m\n\u001b[1;32m    702\u001b[0m             \u001b[0mself\u001b[0m\u001b[0;34m.\u001b[0m\u001b[0m_parent_ident\u001b[0m\u001b[0;34m,\u001b[0m\u001b[0;34m\u001b[0m\u001b[0;34m\u001b[0m\u001b[0m\n\u001b[1;32m    703\u001b[0m             \u001b[0mself\u001b[0m\u001b[0;34m.\u001b[0m\u001b[0m_parent_header\u001b[0m\u001b[0;34m,\u001b[0m\u001b[0;34m\u001b[0m\u001b[0;34m\u001b[0m\u001b[0m\n\u001b[0;32m--> 704\u001b[0;31m             \u001b[0mpassword\u001b[0m\u001b[0;34m=\u001b[0m\u001b[0;32mFalse\u001b[0m\u001b[0;34m,\u001b[0m\u001b[0;34m\u001b[0m\u001b[0;34m\u001b[0m\u001b[0m\n\u001b[0m\u001b[1;32m    705\u001b[0m         )\n\u001b[1;32m    706\u001b[0m \u001b[0;34m\u001b[0m\u001b[0m\n",
            "\u001b[0;32m/usr/local/lib/python3.7/dist-packages/ipykernel/kernelbase.py\u001b[0m in \u001b[0;36m_input_request\u001b[0;34m(self, prompt, ident, parent, password)\u001b[0m\n\u001b[1;32m    732\u001b[0m             \u001b[0;32mexcept\u001b[0m \u001b[0mKeyboardInterrupt\u001b[0m\u001b[0;34m:\u001b[0m\u001b[0;34m\u001b[0m\u001b[0;34m\u001b[0m\u001b[0m\n\u001b[1;32m    733\u001b[0m                 \u001b[0;31m# re-raise KeyboardInterrupt, to truncate traceback\u001b[0m\u001b[0;34m\u001b[0m\u001b[0;34m\u001b[0m\u001b[0;34m\u001b[0m\u001b[0m\n\u001b[0;32m--> 734\u001b[0;31m                 \u001b[0;32mraise\u001b[0m \u001b[0mKeyboardInterrupt\u001b[0m\u001b[0;34m\u001b[0m\u001b[0;34m\u001b[0m\u001b[0m\n\u001b[0m\u001b[1;32m    735\u001b[0m             \u001b[0;32melse\u001b[0m\u001b[0;34m:\u001b[0m\u001b[0;34m\u001b[0m\u001b[0;34m\u001b[0m\u001b[0m\n\u001b[1;32m    736\u001b[0m                 \u001b[0;32mbreak\u001b[0m\u001b[0;34m\u001b[0m\u001b[0;34m\u001b[0m\u001b[0m\n",
            "\u001b[0;31mKeyboardInterrupt\u001b[0m: "
          ]
        }
      ]
    },
    {
      "cell_type": "code",
      "source": [
        "#########################################################\n",
        "# Random : Python can generate random values\n",
        "\n",
        "# - Random numbers within a specified range. \n",
        "# - A random choice from a range of items that are input. \n",
        "\n",
        "# To use these two options, you will need to import the random module. \n",
        "# You do this by typing import random at the start of your program."
      ],
      "metadata": {
        "id": "prGxsmKWSDtw"
      },
      "execution_count": null,
      "outputs": []
    },
    {
      "cell_type": "code",
      "source": [
        "import random\n",
        "num = random.random()\n",
        "print(num)\n",
        "\n",
        "# random floating number between 0 and 1"
      ],
      "metadata": {
        "colab": {
          "base_uri": "https://localhost:8080/"
        },
        "id": "VB9B-At3SGmr",
        "outputId": "9117104a-6a18-49e4-806a-dcdf89f1f027"
      },
      "execution_count": 13,
      "outputs": [
        {
          "output_type": "stream",
          "name": "stdout",
          "text": [
            "0.014879690619297836\n"
          ]
        }
      ]
    },
    {
      "cell_type": "code",
      "source": [
        "num = int((random.random()) * 100)\n",
        "print(num)"
      ],
      "metadata": {
        "colab": {
          "base_uri": "https://localhost:8080/"
        },
        "id": "fMmNSK-iSka0",
        "outputId": "696146f0-5d97-4872-bc13-f10c24f8d7e7"
      },
      "execution_count": 15,
      "outputs": [
        {
          "output_type": "stream",
          "name": "stdout",
          "text": [
            "51\n"
          ]
        }
      ]
    },
    {
      "cell_type": "code",
      "source": [
        "# Selects a random whole number between 0 and 9(inclusive)\n",
        "\n",
        "num = random.randint(0,9) # 9를 포함함\n",
        "print(num)"
      ],
      "metadata": {
        "colab": {
          "base_uri": "https://localhost:8080/"
        },
        "id": "s_A1qasJS5QA",
        "outputId": "5b7b930f-c31b-4d43-94e2-036dfd5492fb"
      },
      "execution_count": 22,
      "outputs": [
        {
          "output_type": "stream",
          "name": "stdout",
          "text": [
            "5\n"
          ]
        }
      ]
    },
    {
      "cell_type": "code",
      "source": [
        "# Picks a random number between the numbers 0 and 100(inclusive) in steps of five\n",
        "\n",
        "num = random.randrange(0,100,5)\n",
        "print(num)"
      ],
      "metadata": {
        "colab": {
          "base_uri": "https://localhost:8080/"
        },
        "id": "MgEhbCYyTbWO",
        "outputId": "1c8506ed-d486-4cd5-8304-c3b673a977b0"
      },
      "execution_count": 27,
      "outputs": [
        {
          "output_type": "stream",
          "name": "stdout",
          "text": [
            "85\n"
          ]
        }
      ]
    },
    {
      "cell_type": "code",
      "source": [
        "color = random.choice(['red','black','blue','green','white'])\n",
        "print(color)"
      ],
      "metadata": {
        "colab": {
          "base_uri": "https://localhost:8080/"
        },
        "id": "FDwiO6icT9ll",
        "outputId": "b4a7b6b1-a24a-46fe-f451-c470876846fd"
      },
      "execution_count": 29,
      "outputs": [
        {
          "output_type": "stream",
          "name": "stdout",
          "text": [
            "green\n"
          ]
        }
      ]
    },
    {
      "cell_type": "code",
      "source": [
        "# Randomly choose either heads or tails ('h' or 't')\n",
        "# Ask the user to make their choice.\n",
        "# If their choice is the same as the randomly selected value,\n",
        "# display the message 'You Win', otherwise display 'Bad luck'\n",
        "# At the end, tell the user if the computer selected heads or tails.\n",
        "\n",
        "sel = random.choice(['h','t'])\n",
        "ans = input(\"What's your choice? \")\n",
        "if ans == sel:\n",
        "  print('You Win')\n",
        "else:\n",
        "  print('Bad luck')\n",
        "\n",
        "print(f'computer selected {sel}')"
      ],
      "metadata": {
        "colab": {
          "base_uri": "https://localhost:8080/"
        },
        "id": "zDhhgUoBUiUb",
        "outputId": "0c466f4a-a6ca-436b-9a6a-a88f3a8a8dfd"
      },
      "execution_count": 31,
      "outputs": [
        {
          "output_type": "stream",
          "name": "stdout",
          "text": [
            "What's your choice? h\n",
            "You Win\n",
            "computer selected h\n"
          ]
        }
      ]
    },
    {
      "cell_type": "code",
      "source": [
        "# Makes a maths quiz that asks five questions\n",
        "# by randomly generating two whole numbers to make the question\n",
        "# ( [num1] + [num2] )\n",
        "# Ask the user to enter the answer.\n",
        "# If they get it right add a point to their score.\n",
        "# At the end of the quiz, tell them how many they got correct out of five.\n",
        "score = 0\n",
        "\n",
        "for i in range(5):\n",
        "  num1 = random.randint(1,9)\n",
        "  num2 = random.randint(1,9)\n",
        "  res = num1 + num2\n",
        "  print(f'{num1} + {num2}')\n",
        "  ans = int(input('Enter a answer : '))\n",
        "\n",
        "  if res == ans:\n",
        "    score += 1\n",
        "\n",
        "print(score)"
      ],
      "metadata": {
        "colab": {
          "base_uri": "https://localhost:8080/"
        },
        "id": "4qwuLL_KXSBU",
        "outputId": "57e6d779-4acb-4534-ddbc-5d1cbb14e613"
      },
      "execution_count": 33,
      "outputs": [
        {
          "output_type": "stream",
          "name": "stdout",
          "text": [
            "7 + 6\n",
            "Enter a answer : 13\n",
            "3 + 3\n",
            "Enter a answer : 9\n",
            "6 + 6\n",
            "Enter a answer : 11\n",
            "8 + 7\n",
            "Enter a answer : 15\n",
            "7 + 4\n",
            "Enter a answer : 11\n",
            "3\n"
          ]
        }
      ]
    },
    {
      "cell_type": "code",
      "source": [
        "# Display five colors and ask the user to pick one.\n",
        "# If they pick the same as the program has chosen,\n",
        "# say 'Well done', otherwise display a witty answer which involves\n",
        "# the correct colors....like...'I bet you are GREEN with envy'\n",
        "# or 'You are probably feeling BLUE right now'.\n",
        "# Ask them to guess again: if they have still not got it right,\n",
        "# keep giving them the same clue and ask the user to enter a color\n",
        "# until they guess it correctly.\n",
        "\n",
        "colors = ['red','blue','black','white','green']\n",
        "com_choice = random.choice(colors)\n",
        "user_choice = input(\"Select color ['red','blue','black','white','green']: \")\n",
        "while com_choice != user_choice:\n",
        "  if com_choice == 'green':\n",
        "    print('You look like a GREEN frog')\n",
        "  elif com_choice == 'red':\n",
        "    print('Your passion is as intense as RED')\n",
        "  elif com_choice == 'blue':\n",
        "    print('Your heart is as wide as the BLUE sea')\n",
        "  elif com_choice == 'black':\n",
        "    print('The night sky is so BLACK')\n",
        "  else:\n",
        "    print('Your future is bright like a WHITE light')\n",
        "  user_choice = input(\"Select color ['red','blue','black','white','green']: \")\n",
        "\n",
        "print('Well done')"
      ],
      "metadata": {
        "colab": {
          "base_uri": "https://localhost:8080/"
        },
        "id": "kDBa1yF_a40H",
        "outputId": "7dfee2e1-7a8f-4444-cefb-7a036c399057"
      },
      "execution_count": 43,
      "outputs": [
        {
          "output_type": "stream",
          "name": "stdout",
          "text": [
            "Select color ['red','blue','black','white','green']: red\n",
            "Your heart is as wide as the BLUE sea\n",
            "Select color ['red','blue','black','white','green']: blue\n",
            "Well done\n"
          ]
        }
      ]
    }
  ]
}